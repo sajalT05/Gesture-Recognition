{
 "cells": [
  {
   "cell_type": "markdown",
   "metadata": {},
   "source": [
    "# Project Description\n",
    "\n",
    "**Develop a feature in the smart-TV that can recognise five different gestures performed by the user which will help users control the TV without using a remote.**\n",
    "\n",
    "The gestures are continuously monitored by the webcam mounted on the TV. Each gesture corresponds to a specific command:\n",
    "\n",
    "* **Thumbs up**:  Increase the volume\n",
    "* **Thumbs down**: Decrease the volume\n",
    "* **Left swipe**: 'Jump' backwards 10 seconds\n",
    "* **Right swipe**: 'Jump' forward 10 seconds  \n",
    "* **Stop**: Pause the movie\n",
    "\n",
    "[Data Source](https://drive.google.com/uc?id=1ehyrYBQ5rbQQe6yL4XbLWe3FMvuVUGiL)\n",
    "\n",
    "## Objectives\n",
    "\n",
    "**Generator**: The generator should be able to take a batch of videos as input without any error. Steps like cropping, resizing and normalization should be performed successfully.\n",
    "\n",
    "**Model**: Develop a model that is able to train without any errors which will be judged on the total number of parameters (as the inference(prediction) time should be less) and the accuracy achieved. As suggested by Snehansu, start training on a small amount of data and then proceed further.\n",
    "\n",
    "**Write up**: This should contain the detailed procedure followed in choosing the final model. The write up should start with the reason for choosing the base model, then highlight the reasons and metrics taken into consideration to modify and experiment to arrive at the final model."
   ]
  },
  {
   "cell_type": "code",
   "execution_count": 1,
   "metadata": {},
   "outputs": [],
   "source": [
    "# load library\n",
    "import numpy as np\n",
    "import os\n",
    "from imageio import imread\n",
    "from skimage.transform import resize\n",
    "import datetime\n",
    "import os"
   ]
  },
  {
   "cell_type": "markdown",
   "metadata": {},
   "source": [
    ">We set the random seed so that the results don't vary drastically each run of the files."
   ]
  },
  {
   "cell_type": "code",
   "execution_count": 2,
   "metadata": {},
   "outputs": [],
   "source": [
    "np.random.seed(30)\n",
    "import random as rn\n",
    "rn.seed(30)\n",
    "from tensorflow import keras\n",
    "import tensorflow as tf\n",
    "tf.random.set_seed(30)"
   ]
  },
  {
   "cell_type": "markdown",
   "metadata": {},
   "source": [
    "In this block, you read the folder names for training and validation. You also set the `batch_size` here. Note that you set the batch size in such a way that you are able to use the GPU in full capacity. You keep increasing the batch size until the machine throws an error."
   ]
  },
  {
   "cell_type": "markdown",
   "metadata": {},
   "source": [
    "**data path: /home/datasets/Project_data**"
   ]
  },
  {
   "cell_type": "code",
   "execution_count": 3,
   "metadata": {},
   "outputs": [],
   "source": [
    "train_doc = np.random.permutation(open('/home/datasets/Project_data/train.csv').readlines()) #train data details\n",
    "val_doc = np.random.permutation(open('/home/datasets/Project_data/val.csv').readlines())     #validation data details\n",
    "batch_size = 15                                                                              #started with lower batch size"
   ]
  },
  {
   "cell_type": "markdown",
   "metadata": {},
   "source": [
    "## Generator\n",
    "This is one of the most important part of the code. The overall structure of the generator has been given. In the generator, you are going to preprocess the images as you have images of 2 different dimensions as well as create a batch of video frames. You have to experiment with `img_idx`, `y`,`z` and normalization such that you get high accuracy.\n",
    "\n",
    ">Data Processing:\n",
    "\n",
    ">>•\tDeciding on number of images to be taken per video/sequence\n",
    "\n",
    ">>•\tResizing  and cropping the images : This was mainly done to ensure that the Neural network only recognizes the gestures effectively rather than focusing on the other background noise present in the image. We used 120 by 120 image size after experimenting with different sizes.\n",
    "\n",
    ">>•\tNormalizing the images : Normalizing the RGB values of an image can at times be a simple and effective way to get rid of distortions caused by lights and shadows in an image.\n"
   ]
  },
  {
   "cell_type": "code",
   "execution_count": 4,
   "metadata": {},
   "outputs": [],
   "source": [
    "def generator(source_path, folder_list, batch_size):\n",
    "    print( 'Source path = ', source_path, '; batch size =', batch_size)\n",
    "    \n",
    "    # -------------- LIST CREATION\n",
    "    #create a list of image numbers you want to use for a particular video, we are not using all the 30 images in a video, selected pickup of images\n",
    "    img_idx = [x for x in range(0,30,2)]\n",
    "    \n",
    "    while True:\n",
    "        t = np.random.permutation(folder_list)\n",
    "        \n",
    "        # -------------- INITIALISATION OF BATCH\n",
    "        # calculate the number of batches\n",
    "        num_batches =int(len(t)/batch_size) \n",
    "         # we iterate over the number of batches\n",
    "        for batch in range(num_batches):\n",
    "            x=len(img_idx)\n",
    "            y=120\n",
    "            z=120\n",
    "            # x is the number of images you use for each video, (y,z) is the final size of the input images and 3 is the number of channels RGB\n",
    "            batch_data = np.zeros((batch_size,x,y,z,3)) \n",
    "            # batch_labels is the one hot representation of the output\n",
    "            batch_labels = np.zeros((batch_size,5)) \n",
    "            cnt_img=0\n",
    "            for folder in range(batch_size): # iterate over the batch_size\n",
    "                imgs = os.listdir(source_path+'/'+ t[folder + (batch*batch_size)].split(';')[0]) # read all the images in the folder\n",
    "                cnt_img+=1\n",
    "                # ------------------ LOOPING DATA POINTS\n",
    "                for idx,item in enumerate(img_idx): #  Iterate iver the frames/images of a folder to read them in\n",
    "                    image = imread(source_path+'/'+ t[folder + (batch*batch_size)].strip().split(';')[0]+'/'+imgs[item]).astype(np.float32)\n",
    "                    \n",
    "                    #crop the images and resize them. Note that the images are of 2 different shape \n",
    "                    #and the conv3D will throw error if the inputs in a batch have different shapes\n",
    "                    # ------------------ NORMALIZE\n",
    "                    norm_image=image/255.0\n",
    "                    \n",
    "                    # ------------------ RESIZE\n",
    "                    image_resized=resize(norm_image,(120,120),mode='reflect')\n",
    "                    \n",
    "                    batch_data[folder,idx,:,:,0] = (image_resized[:,:,0])#normalise and feed in the image\n",
    "                    batch_data[folder,idx,:,:,1] = (image_resized[:,:,1])#normalise and feed in the image\n",
    "                    batch_data[folder,idx,:,:,2] = (image_resized[:,:,2])#normalise and feed in the image\n",
    "                    \n",
    "                batch_labels[folder, int(t[folder + (batch*batch_size)].strip().split(';')[2])] = 1\n",
    "            yield batch_data, batch_labels #you yield the batch_data and the batch_labels, remember what does yield do\n",
    "\n",
    "        \n",
    "        # write the code for the remaining data points which are left after full batches\n",
    "        cnt_img=0\n",
    "        batch_cover = num_batches*batch_size\n",
    "        rem = len(t) - batch_cover\n",
    "        if(len(t)!=batch_cover):\n",
    "            for folder in range(rem):\n",
    "                imgs = os.listdir(source_path+'/'+ t[folder + batch_cover].split(';')[0]) # read all the images in the folder\n",
    "                cnt_img+=1\n",
    "                for idx,item in enumerate(img_idx): #  Iterate iver the frames/images of a folder to read them in\n",
    "                    image = imread(source_path+'/'+ t[folder + batch_cover].strip().split(';')[0]+'/'+imgs[item]).astype(np.float32)\n",
    "                    \n",
    "                    #crop the images and resize them. Note that the images are of 2 different shape \n",
    "                    #and the conv3D will throw error if the inputs in a batch have different shapes\n",
    "                    norm_image = image/255.0 # normalizing the image \n",
    "                    image_resized=resize(norm_image, (120,120), mode='reflect')\n",
    "                    \n",
    "                    batch_data[folder,idx,:,:,0] = (image_resized[:,:,0]) #normalise and feed in the image\n",
    "                    batch_data[folder,idx,:,:,1] = (image_resized[:,:,1]) #normalise and feed in the image\n",
    "                    batch_data[folder,idx,:,:,2] = (image_resized[:,:,2]) #normalise and feed in the image\n",
    "                    \n",
    "                batch_labels[folder, int(t[folder + batch_size].strip().split(';')[2])] = 1\n",
    "            yield batch_data, batch_labels #you yield the batch_data and the batch_labels, remember what does yield do\n"
   ]
  },
  {
   "cell_type": "markdown",
   "metadata": {},
   "source": [
    "Note here that a video is represented above in the generator as (number of images, height, width, number of channels). Take this into consideration while creating the model architecture."
   ]
  },
  {
   "cell_type": "code",
   "execution_count": 5,
   "metadata": {},
   "outputs": [
    {
     "name": "stdout",
     "output_type": "stream",
     "text": [
      "# training sequences = 663\n",
      "# validation sequences = 100\n",
      "# epochs = 20\n"
     ]
    }
   ],
   "source": [
    "curr_dt_time = datetime.datetime.now()\n",
    "train_path = '/home/datasets/Project_data/train'\n",
    "val_path = '/home/datasets/Project_data/val'\n",
    "num_train_sequences = len(train_doc)\n",
    "print('# training sequences =', num_train_sequences)\n",
    "num_val_sequences = len(val_doc)\n",
    "print('# validation sequences =', num_val_sequences)\n",
    "num_epochs = 20\n",
    "print ('# epochs =', num_epochs)"
   ]
  },
  {
   "cell_type": "markdown",
   "metadata": {},
   "source": [
    "## Model\n",
    "Here you make the model using different functionalities that Keras provides. Remember to use `Conv3D` and `MaxPooling3D` and not `Conv2D` and `Maxpooling2D` for a 3D convolution model. You would want to use `TimeDistributed` while building a Conv2D + RNN model. Also remember that the last layer is the softmax. Design the network in such a way that the model is able to give good accuracy on the least number of parameters so that it can fit in the memory of the webcam."
   ]
  },
  {
   "cell_type": "code",
   "execution_count": 6,
   "metadata": {},
   "outputs": [],
   "source": [
    "from tensorflow.keras.models import Sequential\n",
    "from tensorflow.keras.layers import Dense, GRU, Dropout, TimeDistributed,Flatten, BatchNormalization, Activation, Conv3D, MaxPooling3D\n",
    "from keras.layers.convolutional import Conv2D,MaxPooling2D\n",
    "from tensorflow.keras.callbacks import ModelCheckpoint, ReduceLROnPlateau\n",
    "from tensorflow.keras import optimizers\n",
    "import matplotlib.pyplot as plt\n",
    "from keras.regularizers import l2"
   ]
  },
  {
   "cell_type": "markdown",
   "metadata": {},
   "source": [
    "Now that you have written the model, the next step is to `compile` the model. When you print the `summary` of the model, you'll see the total number of parameters you have to train."
   ]
  },
  {
   "cell_type": "code",
   "execution_count": 7,
   "metadata": {},
   "outputs": [],
   "source": [
    "def train_model( model):\n",
    "        # Let us create the `train_generator` and the `val_generator` which will be used in `.fit_generator`.\n",
    "        train_generator = generator(train_path, train_doc, batch_size)\n",
    "        val_generator = generator(val_path, val_doc, batch_size)\n",
    "\n",
    "        model_name = 'model_init' + '_' + str(curr_dt_time).replace(' ','').replace(':','_') + '/' #file name\n",
    "    \n",
    "        if not os.path.exists(model_name):\n",
    "            os.mkdir(model_name)\n",
    "        \n",
    "        filepath = model_name + 'model-{epoch:05d}-{loss:.5f}-{categorical_accuracy:.5f}-{val_loss:.5f}-{val_categorical_accuracy:.5f}.h5' #file path\n",
    "\n",
    "        checkpoint = ModelCheckpoint(filepath, monitor='val_loss', verbose=1, save_best_only=True, save_weights_only=False, mode='auto', period=1) #chekpoints to save model in .h5\n",
    "        LR = ReduceLROnPlateau(monitor='val_loss', factor=0.01, patience=5, cooldown=4, verbose=1,mode='auto',min_delta=0.0001) #learning Rate\n",
    "        callbacks_list = [checkpoint, LR]\n",
    "\n",
    "        if (num_train_sequences%batch_size) == 0:\n",
    "            steps_per_epoch = int(num_train_sequences/batch_size)\n",
    "        else:\n",
    "            steps_per_epoch = (num_train_sequences//batch_size) + 1 #in case of remaining data points which are left after full batches\n",
    "\n",
    "        if (num_val_sequences%batch_size) == 0:\n",
    "            validation_steps = int(num_val_sequences/batch_size)\n",
    "        else:\n",
    "            validation_steps = (num_val_sequences//batch_size) + 1 #in case of remaining data points which are left after full batches\n",
    "            \n",
    "        # Let us now fit the model. This will start training the model and with the help of the checkpoints, you'll be able to save the model at the end of each epoch.\n",
    "        history=model.fit_generator(train_generator, steps_per_epoch=steps_per_epoch, epochs=num_epochs, verbose=1, \n",
    "                            callbacks=callbacks_list, validation_data=val_generator, \n",
    "                            validation_steps=validation_steps, class_weight=None, workers=1, initial_epoch=0)\n",
    "        return history\n"
   ]
  },
  {
   "cell_type": "code",
   "execution_count": 8,
   "metadata": {},
   "outputs": [],
   "source": [
    "# plot accuracy & loss graph for training & validation results\n",
    "def plot(history):\n",
    "    fig, axes = plt.subplots(nrows=1, ncols=2, figsize=(15,4))\n",
    "    axes[0].plot(history.history['loss'])   \n",
    "    axes[0].plot(history.history['val_loss'])\n",
    "    axes[0].legend(['loss','val_loss'])\n",
    "\n",
    "    axes[1].plot(history.history['categorical_accuracy'])   \n",
    "    axes[1].plot(history.history['val_categorical_accuracy'])\n",
    "    axes[1].legend(['categorical_accuracy','val_categorical_accuracy'])"
   ]
  },
  {
   "cell_type": "code",
   "execution_count": 9,
   "metadata": {},
   "outputs": [],
   "source": [
    "def plot_2(history):\n",
    "    plt.plot(trained_model.history['categorical_accuracy'])\n",
    "    plt.plot(trained_model.history['val_categorical_accuracy'])\n",
    "    plt.title('model accuracy')\n",
    "    plt.ylabel('accuracy')\n",
    "    plt.xlabel('epoch')\n",
    "    plt.legend(['train', 'test'], loc='upper left')\n",
    "    plt.show()"
   ]
  },
  {
   "cell_type": "markdown",
   "metadata": {},
   "source": [
    "### Model 1 : Conv2D layers + GRU Layer+ Adam optimiser + No dropout"
   ]
  },
  {
   "cell_type": "code",
   "execution_count": 10,
   "metadata": {},
   "outputs": [
    {
     "name": "stderr",
     "output_type": "stream",
     "text": [
      "2023-03-11 22:10:11.666026: W tensorflow/stream_executor/platform/default/dso_loader.cc:65] Could not load dynamic library 'libcuda.so.1'; dlerror: libcuda.so.1: cannot open shared object file: No such file or directory; LD_LIBRARY_PATH: /usr/local/cuda/extras/CUPTI/lib64:/usr/local/cuda/compat/lib:/usr/local/nvidia/lib:/usr/local/nvidia/lib64\n",
      "2023-03-11 22:10:11.666079: W tensorflow/stream_executor/cuda/cuda_driver.cc:269] failed call to cuInit: UNKNOWN ERROR (303)\n",
      "2023-03-11 22:10:11.666108: I tensorflow/stream_executor/cuda/cuda_diagnostics.cc:163] no NVIDIA GPU device is present: /dev/nvidia0 does not exist\n"
     ]
    }
   ],
   "source": [
    "num_featuremaps = [16,32,64,128]\n",
    "num_denselayers = [64,32,5]\n",
    "num_classes = 5\n",
    "frames = 15\n",
    "\n",
    "\n",
    "# Input\n",
    "input_shape=(frames,120,120,3)\n",
    "\n",
    "model = Sequential()\n",
    "\n",
    "model.add(TimeDistributed(Conv2D(num_featuremaps[0], (3, 3), strides=(2, 2),activation='relu', padding='same'), input_shape=input_shape))\n",
    "model.add(TimeDistributed(BatchNormalization()))\n",
    "model.add(TimeDistributed(MaxPooling2D((2, 2), strides=(2, 2))))\n",
    "\n",
    "model.add(TimeDistributed(Conv2D(num_featuremaps[1], (3,3),padding='same', activation='relu')))\n",
    "model.add(TimeDistributed(BatchNormalization()))\n",
    "model.add(TimeDistributed(MaxPooling2D((2, 2), strides=(2, 2))))\n",
    "\n",
    "model.add(TimeDistributed(Conv2D(num_featuremaps[2], (3,3),padding='same', activation='relu')))\n",
    "model.add(TimeDistributed(BatchNormalization()))\n",
    "model.add(TimeDistributed(MaxPooling2D((2, 2), strides=(2, 2))))\n",
    "\n",
    "model.add(TimeDistributed(Conv2D(num_featuremaps[3], (2,2),padding='same', activation='relu')))\n",
    "model.add(TimeDistributed(BatchNormalization()))\n",
    "model.add(TimeDistributed(MaxPooling2D((2, 2), strides=(2, 2))))\n",
    "\n",
    "model.add(TimeDistributed(Flatten()))\n",
    "\n",
    "model.add(Dense(num_denselayers[0], activation='relu'))\n",
    "model.add(Dense(num_denselayers[1], activation='relu'))\n",
    "\n",
    "## using GRU as the RNN model\n",
    "model.add(GRU(64, return_sequences=False))\n",
    "\n",
    "# using Softmax as last layer\n",
    "model.add(Dense(num_classes, activation='softmax')) "
   ]
  },
  {
   "cell_type": "code",
   "execution_count": 11,
   "metadata": {
    "scrolled": true
   },
   "outputs": [
    {
     "name": "stdout",
     "output_type": "stream",
     "text": [
      "Model: \"sequential\"\n",
      "_________________________________________________________________\n",
      " Layer (type)                Output Shape              Param #   \n",
      "=================================================================\n",
      " time_distributed (TimeDistr  (None, 15, 60, 60, 16)   448       \n",
      " ibuted)                                                         \n",
      "                                                                 \n",
      " time_distributed_1 (TimeDis  (None, 15, 60, 60, 16)   64        \n",
      " tributed)                                                       \n",
      "                                                                 \n",
      " time_distributed_2 (TimeDis  (None, 15, 30, 30, 16)   0         \n",
      " tributed)                                                       \n",
      "                                                                 \n",
      " time_distributed_3 (TimeDis  (None, 15, 30, 30, 32)   4640      \n",
      " tributed)                                                       \n",
      "                                                                 \n",
      " time_distributed_4 (TimeDis  (None, 15, 30, 30, 32)   128       \n",
      " tributed)                                                       \n",
      "                                                                 \n",
      " time_distributed_5 (TimeDis  (None, 15, 15, 15, 32)   0         \n",
      " tributed)                                                       \n",
      "                                                                 \n",
      " time_distributed_6 (TimeDis  (None, 15, 15, 15, 64)   18496     \n",
      " tributed)                                                       \n",
      "                                                                 \n",
      " time_distributed_7 (TimeDis  (None, 15, 15, 15, 64)   256       \n",
      " tributed)                                                       \n",
      "                                                                 \n",
      " time_distributed_8 (TimeDis  (None, 15, 7, 7, 64)     0         \n",
      " tributed)                                                       \n",
      "                                                                 \n",
      " time_distributed_9 (TimeDis  (None, 15, 7, 7, 128)    32896     \n",
      " tributed)                                                       \n",
      "                                                                 \n",
      " time_distributed_10 (TimeDi  (None, 15, 7, 7, 128)    512       \n",
      " stributed)                                                      \n",
      "                                                                 \n",
      " time_distributed_11 (TimeDi  (None, 15, 3, 3, 128)    0         \n",
      " stributed)                                                      \n",
      "                                                                 \n",
      " time_distributed_12 (TimeDi  (None, 15, 1152)         0         \n",
      " stributed)                                                      \n",
      "                                                                 \n",
      " dense (Dense)               (None, 15, 64)            73792     \n",
      "                                                                 \n",
      " dense_1 (Dense)             (None, 15, 32)            2080      \n",
      "                                                                 \n",
      " gru (GRU)                   (None, 64)                18816     \n",
      "                                                                 \n",
      " dense_2 (Dense)             (None, 5)                 325       \n",
      "                                                                 \n",
      "=================================================================\n",
      "Total params: 152,453\n",
      "Trainable params: 151,973\n",
      "Non-trainable params: 480\n",
      "_________________________________________________________________\n",
      "None\n"
     ]
    }
   ],
   "source": [
    "from tensorflow.keras.optimizers import Adam\n",
    "optimiser = \"Adam\"#write your optimizer\n",
    "model.compile(optimizer=optimiser, loss='categorical_crossentropy', metrics=['categorical_accuracy'])\n",
    "print (model.summary())"
   ]
  },
  {
   "cell_type": "code",
   "execution_count": 12,
   "metadata": {},
   "outputs": [
    {
     "name": "stdout",
     "output_type": "stream",
     "text": [
      "Total Params: 152453\n",
      "WARNING:tensorflow:`period` argument is deprecated. Please use `save_freq` to specify the frequency in number of batches seen.\n",
      "Source path =  /home/datasets/Project_data/train ; batch size = 15\n"
     ]
    },
    {
     "name": "stderr",
     "output_type": "stream",
     "text": [
      "/tmp/ipykernel_369/2256448371.py:28: UserWarning: `Model.fit_generator` is deprecated and will be removed in a future version. Please use `Model.fit`, which supports generators.\n",
      "  history=model.fit_generator(train_generator, steps_per_epoch=steps_per_epoch, epochs=num_epochs, verbose=1,\n"
     ]
    },
    {
     "name": "stdout",
     "output_type": "stream",
     "text": [
      "Epoch 1/20\n",
      "45/45 [==============================] - ETA: 0s - loss: 1.2147 - categorical_accuracy: 0.4963Source path =  /home/datasets/Project_data/val ; batch size = 15\n",
      "\n",
      "Epoch 00001: val_loss improved from inf to 1.72147, saving model to model_init_2023-03-1122_10_07.194785/model-00001-1.21468-0.49630-1.72147-0.24762.h5\n",
      "45/45 [==============================] - 145s 3s/step - loss: 1.2147 - categorical_accuracy: 0.4963 - val_loss: 1.7215 - val_categorical_accuracy: 0.2476 - lr: 0.0010\n",
      "Epoch 2/20\n",
      "45/45 [==============================] - ETA: 0s - loss: 0.8005 - categorical_accuracy: 0.7111\n",
      "Epoch 00002: val_loss did not improve from 1.72147\n",
      "45/45 [==============================] - 139s 3s/step - loss: 0.8005 - categorical_accuracy: 0.7111 - val_loss: 2.1632 - val_categorical_accuracy: 0.2000 - lr: 0.0010\n",
      "Epoch 3/20\n",
      "45/45 [==============================] - ETA: 0s - loss: 0.5384 - categorical_accuracy: 0.7970\n",
      "Epoch 00003: val_loss did not improve from 1.72147\n",
      "45/45 [==============================] - 138s 3s/step - loss: 0.5384 - categorical_accuracy: 0.7970 - val_loss: 2.5519 - val_categorical_accuracy: 0.2190 - lr: 0.0010\n",
      "Epoch 4/20\n",
      "45/45 [==============================] - ETA: 0s - loss: 0.3396 - categorical_accuracy: 0.8874\n",
      "Epoch 00004: val_loss did not improve from 1.72147\n",
      "45/45 [==============================] - 137s 3s/step - loss: 0.3396 - categorical_accuracy: 0.8874 - val_loss: 2.8924 - val_categorical_accuracy: 0.2286 - lr: 0.0010\n",
      "Epoch 5/20\n",
      "45/45 [==============================] - ETA: 0s - loss: 0.2137 - categorical_accuracy: 0.9319\n",
      "Epoch 00005: val_loss did not improve from 1.72147\n",
      "45/45 [==============================] - 142s 3s/step - loss: 0.2137 - categorical_accuracy: 0.9319 - val_loss: 2.9824 - val_categorical_accuracy: 0.2476 - lr: 0.0010\n",
      "Epoch 6/20\n",
      "45/45 [==============================] - ETA: 0s - loss: 0.1507 - categorical_accuracy: 0.9644\n",
      "Epoch 00006: val_loss did not improve from 1.72147\n",
      "\n",
      "Epoch 00006: ReduceLROnPlateau reducing learning rate to 1.0000000474974514e-05.\n",
      "45/45 [==============================] - 138s 3s/step - loss: 0.1507 - categorical_accuracy: 0.9644 - val_loss: 3.0276 - val_categorical_accuracy: 0.2952 - lr: 0.0010\n",
      "Epoch 7/20\n",
      "45/45 [==============================] - ETA: 0s - loss: 0.1248 - categorical_accuracy: 0.9807\n",
      "Epoch 00007: val_loss did not improve from 1.72147\n",
      "45/45 [==============================] - 136s 3s/step - loss: 0.1248 - categorical_accuracy: 0.9807 - val_loss: 3.1645 - val_categorical_accuracy: 0.2952 - lr: 1.0000e-05\n",
      "Epoch 8/20\n",
      "45/45 [==============================] - ETA: 0s - loss: 0.0902 - categorical_accuracy: 0.9852\n",
      "Epoch 00008: val_loss did not improve from 1.72147\n",
      "45/45 [==============================] - 137s 3s/step - loss: 0.0902 - categorical_accuracy: 0.9852 - val_loss: 2.9653 - val_categorical_accuracy: 0.2857 - lr: 1.0000e-05\n",
      "Epoch 9/20\n",
      "45/45 [==============================] - ETA: 0s - loss: 0.0842 - categorical_accuracy: 0.9896\n",
      "Epoch 00009: val_loss did not improve from 1.72147\n",
      "45/45 [==============================] - 138s 3s/step - loss: 0.0842 - categorical_accuracy: 0.9896 - val_loss: 2.6497 - val_categorical_accuracy: 0.3810 - lr: 1.0000e-05\n",
      "Epoch 10/20\n",
      "45/45 [==============================] - ETA: 0s - loss: 0.1008 - categorical_accuracy: 0.9926\n",
      "Epoch 00010: val_loss did not improve from 1.72147\n",
      "45/45 [==============================] - 138s 3s/step - loss: 0.1008 - categorical_accuracy: 0.9926 - val_loss: 2.2746 - val_categorical_accuracy: 0.4667 - lr: 1.0000e-05\n",
      "Epoch 11/20\n",
      "45/45 [==============================] - ETA: 0s - loss: 0.0876 - categorical_accuracy: 0.9881\n",
      "Epoch 00011: val_loss did not improve from 1.72147\n",
      "45/45 [==============================] - 145s 3s/step - loss: 0.0876 - categorical_accuracy: 0.9881 - val_loss: 1.9543 - val_categorical_accuracy: 0.5905 - lr: 1.0000e-05\n",
      "Epoch 12/20\n",
      "45/45 [==============================] - ETA: 0s - loss: 0.0816 - categorical_accuracy: 0.9911\n",
      "Epoch 00012: val_loss did not improve from 1.72147\n",
      "45/45 [==============================] - 149s 3s/step - loss: 0.0816 - categorical_accuracy: 0.9911 - val_loss: 2.1146 - val_categorical_accuracy: 0.5333 - lr: 1.0000e-05\n",
      "Epoch 13/20\n",
      "45/45 [==============================] - ETA: 0s - loss: 0.0816 - categorical_accuracy: 0.9911\n",
      "Epoch 00013: val_loss did not improve from 1.72147\n",
      "45/45 [==============================] - 153s 3s/step - loss: 0.0816 - categorical_accuracy: 0.9911 - val_loss: 1.7450 - val_categorical_accuracy: 0.6000 - lr: 1.0000e-05\n",
      "Epoch 14/20\n",
      "45/45 [==============================] - ETA: 0s - loss: 0.0867 - categorical_accuracy: 0.9911\n",
      "Epoch 00014: val_loss improved from 1.72147 to 1.41477, saving model to model_init_2023-03-1122_10_07.194785/model-00014-0.08671-0.99111-1.41477-0.66667.h5\n",
      "45/45 [==============================] - 143s 3s/step - loss: 0.0867 - categorical_accuracy: 0.9911 - val_loss: 1.4148 - val_categorical_accuracy: 0.6667 - lr: 1.0000e-05\n",
      "Epoch 15/20\n",
      "45/45 [==============================] - ETA: 0s - loss: 0.0678 - categorical_accuracy: 0.9956\n",
      "Epoch 00015: val_loss did not improve from 1.41477\n",
      "45/45 [==============================] - 142s 3s/step - loss: 0.0678 - categorical_accuracy: 0.9956 - val_loss: 1.4891 - val_categorical_accuracy: 0.6571 - lr: 1.0000e-05\n",
      "Epoch 16/20\n",
      "45/45 [==============================] - ETA: 0s - loss: 0.0656 - categorical_accuracy: 0.9956\n",
      "Epoch 00016: val_loss did not improve from 1.41477\n",
      "45/45 [==============================] - 153s 3s/step - loss: 0.0656 - categorical_accuracy: 0.9956 - val_loss: 1.4910 - val_categorical_accuracy: 0.6667 - lr: 1.0000e-05\n",
      "Epoch 17/20\n",
      "45/45 [==============================] - ETA: 0s - loss: 0.0801 - categorical_accuracy: 0.9970\n",
      "Epoch 00017: val_loss improved from 1.41477 to 1.35092, saving model to model_init_2023-03-1122_10_07.194785/model-00017-0.08012-0.99704-1.35092-0.68571.h5\n",
      "45/45 [==============================] - 154s 3s/step - loss: 0.0801 - categorical_accuracy: 0.9970 - val_loss: 1.3509 - val_categorical_accuracy: 0.6857 - lr: 1.0000e-05\n",
      "Epoch 18/20\n",
      "45/45 [==============================] - ETA: 0s - loss: 0.0757 - categorical_accuracy: 0.9956\n",
      "Epoch 00018: val_loss did not improve from 1.35092\n",
      "45/45 [==============================] - 158s 4s/step - loss: 0.0757 - categorical_accuracy: 0.9956 - val_loss: 1.3892 - val_categorical_accuracy: 0.7143 - lr: 1.0000e-05\n",
      "Epoch 19/20\n",
      "45/45 [==============================] - ETA: 0s - loss: 0.0710 - categorical_accuracy: 0.9941\n",
      "Epoch 00019: val_loss did not improve from 1.35092\n",
      "45/45 [==============================] - 161s 4s/step - loss: 0.0710 - categorical_accuracy: 0.9941 - val_loss: 1.3832 - val_categorical_accuracy: 0.6952 - lr: 1.0000e-05\n",
      "Epoch 20/20\n",
      "45/45 [==============================] - ETA: 0s - loss: 0.0762 - categorical_accuracy: 0.9926\n",
      "Epoch 00020: val_loss improved from 1.35092 to 1.29260, saving model to model_init_2023-03-1122_10_07.194785/model-00020-0.07617-0.99259-1.29260-0.70476.h5\n",
      "45/45 [==============================] - 159s 4s/step - loss: 0.0762 - categorical_accuracy: 0.9926 - val_loss: 1.2926 - val_categorical_accuracy: 0.7048 - lr: 1.0000e-05\n"
     ]
    }
   ],
   "source": [
    "print(\"Total Params:\", model.count_params())\n",
    "trained_model_1=train_model(model)"
   ]
  },
  {
   "cell_type": "code",
   "execution_count": 13,
   "metadata": {},
   "outputs": [
    {
     "data": {
      "image/png": "[encoded data removed]",
      "text/plain": [
       "<Figure size 1080x288 with 2 Axes>"
      ]
     },
     "metadata": {
      "needs_background": "light"
     },
     "output_type": "display_data"
    }
   ],
   "source": [
    "plot(trained_model_1)"
   ]
  },
  {
   "cell_type": "markdown",
   "metadata": {},
   "source": [
    "Observation\n",
    "\n",
    "- The accuracy on the training dataset in very high while the accuracy on the validation dataset is too less.\n",
    "- This is an indication of overfitting on the training dataset."
   ]
  },
  {
   "cell_type": "markdown",
   "metadata": {},
   "source": [
    "### Model 2 : Conv2D layers + GRU Layer+ Adam optimiser + Dropout"
   ]
  },
  {
   "cell_type": "code",
   "execution_count": 14,
   "metadata": {},
   "outputs": [],
   "source": [
    "num_featuremaps = [16,32,64,128]\n",
    "num_denselayers = [64,32,5]\n",
    "num_classes = 5\n",
    "frames = 15\n",
    "dropout=0.25\n",
    "\n",
    "\n",
    "# Input\n",
    "input_shape=(frames,120,120,3)\n",
    "\n",
    "model = Sequential()\n",
    "\n",
    "model.add(TimeDistributed(Conv2D(num_featuremaps[0], (3, 3), strides=(2, 2),activation='relu', padding='same'), input_shape=input_shape))\n",
    "model.add(TimeDistributed(BatchNormalization()))\n",
    "model.add(TimeDistributed(MaxPooling2D((2, 2), strides=(2, 2))))\n",
    "model.add(Dropout(dropout))\n",
    "\n",
    "model.add(TimeDistributed(Conv2D(num_featuremaps[1], (3,3),padding='same', activation='relu')))\n",
    "model.add(TimeDistributed(BatchNormalization()))\n",
    "model.add(TimeDistributed(MaxPooling2D((2, 2), strides=(2, 2))))\n",
    "\n",
    "model.add(TimeDistributed(Conv2D(num_featuremaps[2], (3,3),padding='same', activation='relu')))\n",
    "model.add(TimeDistributed(BatchNormalization()))\n",
    "model.add(TimeDistributed(MaxPooling2D((2, 2), strides=(2, 2))))\n",
    "model.add(Dropout(dropout))\n",
    "\n",
    "model.add(TimeDistributed(Conv2D(num_featuremaps[3], (2,2),padding='same', activation='relu')))\n",
    "model.add(TimeDistributed(BatchNormalization()))\n",
    "model.add(TimeDistributed(MaxPooling2D((2, 2), strides=(2, 2))))\n",
    "\n",
    "model.add(TimeDistributed(Flatten()))\n",
    "\n",
    "model.add(Dense(num_denselayers[0], activation='relu'))\n",
    "model.add(Dense(num_denselayers[1], activation='relu'))\n",
    "model.add(Dropout(dropout))\n",
    "\n",
    "## using GRU as the RNN model\n",
    "model.add(GRU(64, return_sequences=False))\n",
    "model.add(Dropout(dropout))\n",
    "\n",
    "# using Softmax as last layer\n",
    "model.add(Dense(num_classes, activation='softmax')) "
   ]
  },
  {
   "cell_type": "code",
   "execution_count": 15,
   "metadata": {},
   "outputs": [
    {
     "name": "stdout",
     "output_type": "stream",
     "text": [
      "Model: \"sequential_1\"\n",
      "_________________________________________________________________\n",
      " Layer (type)                Output Shape              Param #   \n",
      "=================================================================\n",
      " time_distributed_13 (TimeDi  (None, 15, 60, 60, 16)   448       \n",
      " stributed)                                                      \n",
      "                                                                 \n",
      " time_distributed_14 (TimeDi  (None, 15, 60, 60, 16)   64        \n",
      " stributed)                                                      \n",
      "                                                                 \n",
      " time_distributed_15 (TimeDi  (None, 15, 30, 30, 16)   0         \n",
      " stributed)                                                      \n",
      "                                                                 \n",
      " dropout (Dropout)           (None, 15, 30, 30, 16)    0         \n",
      "                                                                 \n",
      " time_distributed_16 (TimeDi  (None, 15, 30, 30, 32)   4640      \n",
      " stributed)                                                      \n",
      "                                                                 \n",
      " time_distributed_17 (TimeDi  (None, 15, 30, 30, 32)   128       \n",
      " stributed)                                                      \n",
      "                                                                 \n",
      " time_distributed_18 (TimeDi  (None, 15, 15, 15, 32)   0         \n",
      " stributed)                                                      \n",
      "                                                                 \n",
      " time_distributed_19 (TimeDi  (None, 15, 15, 15, 64)   18496     \n",
      " stributed)                                                      \n",
      "                                                                 \n",
      " time_distributed_20 (TimeDi  (None, 15, 15, 15, 64)   256       \n",
      " stributed)                                                      \n",
      "                                                                 \n",
      " time_distributed_21 (TimeDi  (None, 15, 7, 7, 64)     0         \n",
      " stributed)                                                      \n",
      "                                                                 \n",
      " dropout_1 (Dropout)         (None, 15, 7, 7, 64)      0         \n",
      "                                                                 \n",
      " time_distributed_22 (TimeDi  (None, 15, 7, 7, 128)    32896     \n",
      " stributed)                                                      \n",
      "                                                                 \n",
      " time_distributed_23 (TimeDi  (None, 15, 7, 7, 128)    512       \n",
      " stributed)                                                      \n",
      "                                                                 \n",
      " time_distributed_24 (TimeDi  (None, 15, 3, 3, 128)    0         \n",
      " stributed)                                                      \n",
      "                                                                 \n",
      " time_distributed_25 (TimeDi  (None, 15, 1152)         0         \n",
      " stributed)                                                      \n",
      "                                                                 \n",
      " dense_3 (Dense)             (None, 15, 64)            73792     \n",
      "                                                                 \n",
      " dense_4 (Dense)             (None, 15, 32)            2080      \n",
      "                                                                 \n",
      " dropout_2 (Dropout)         (None, 15, 32)            0         \n",
      "                                                                 \n",
      " gru_1 (GRU)                 (None, 64)                18816     \n",
      "                                                                 \n",
      " dropout_3 (Dropout)         (None, 64)                0         \n",
      "                                                                 \n",
      " dense_5 (Dense)             (None, 5)                 325       \n",
      "                                                                 \n",
      "=================================================================\n",
      "Total params: 152,453\n",
      "Trainable params: 151,973\n",
      "Non-trainable params: 480\n",
      "_________________________________________________________________\n",
      "None\n"
     ]
    }
   ],
   "source": [
    "optimiser = \"Adam\"#write your optimizer\n",
    "model.compile(optimizer=optimiser, loss='categorical_crossentropy', metrics=['categorical_accuracy'])\n",
    "\n",
    "# Model Summary\n",
    "print (model.summary())"
   ]
  },
  {
   "cell_type": "code",
   "execution_count": 16,
   "metadata": {},
   "outputs": [
    {
     "name": "stdout",
     "output_type": "stream",
     "text": [
      "Total Params: 152453\n",
      "WARNING:tensorflow:`period` argument is deprecated. Please use `save_freq` to specify the frequency in number of batches seen.\n",
      "Source path =  /home/datasets/Project_data/train ; batch size = 15\n"
     ]
    },
    {
     "name": "stderr",
     "output_type": "stream",
     "text": [
      "/tmp/ipykernel_369/2256448371.py:28: UserWarning: `Model.fit_generator` is deprecated and will be removed in a future version. Please use `Model.fit`, which supports generators.\n",
      "  history=model.fit_generator(train_generator, steps_per_epoch=steps_per_epoch, epochs=num_epochs, verbose=1,\n"
     ]
    },
    {
     "name": "stdout",
     "output_type": "stream",
     "text": [
      "Epoch 1/20\n",
      "45/45 [==============================] - ETA: 0s - loss: 1.4369 - categorical_accuracy: 0.3733Source path =  /home/datasets/Project_data/val ; batch size = 15\n",
      "\n",
      "Epoch 00001: val_loss improved from inf to 1.96902, saving model to model_init_2023-03-1122_10_07.194785/model-00001-1.43689-0.37333-1.96902-0.20952.h5\n",
      "45/45 [==============================] - 174s 4s/step - loss: 1.4369 - categorical_accuracy: 0.3733 - val_loss: 1.9690 - val_categorical_accuracy: 0.2095 - lr: 0.0010\n",
      "Epoch 2/20\n",
      "45/45 [==============================] - ETA: 0s - loss: 1.1157 - categorical_accuracy: 0.5393\n",
      "Epoch 00002: val_loss did not improve from 1.96902\n",
      "45/45 [==============================] - 167s 4s/step - loss: 1.1157 - categorical_accuracy: 0.5393 - val_loss: 2.4553 - val_categorical_accuracy: 0.2000 - lr: 0.0010\n",
      "Epoch 3/20\n",
      "45/45 [==============================] - ETA: 0s - loss: 0.8543 - categorical_accuracy: 0.6593\n",
      "Epoch 00003: val_loss did not improve from 1.96902\n",
      "45/45 [==============================] - 162s 4s/step - loss: 0.8543 - categorical_accuracy: 0.6593 - val_loss: 2.7138 - val_categorical_accuracy: 0.2286 - lr: 0.0010\n",
      "Epoch 4/20\n",
      "45/45 [==============================] - ETA: 0s - loss: 0.6897 - categorical_accuracy: 0.7304\n",
      "Epoch 00004: val_loss did not improve from 1.96902\n",
      "45/45 [==============================] - 165s 4s/step - loss: 0.6897 - categorical_accuracy: 0.7304 - val_loss: 2.8598 - val_categorical_accuracy: 0.2190 - lr: 0.0010\n",
      "Epoch 5/20\n",
      "45/45 [==============================] - ETA: 0s - loss: 0.5588 - categorical_accuracy: 0.8074\n",
      "Epoch 00005: val_loss did not improve from 1.96902\n",
      "45/45 [==============================] - 168s 4s/step - loss: 0.5588 - categorical_accuracy: 0.8074 - val_loss: 2.6212 - val_categorical_accuracy: 0.2286 - lr: 0.0010\n",
      "Epoch 6/20\n",
      "45/45 [==============================] - ETA: 0s - loss: 0.4665 - categorical_accuracy: 0.8296\n",
      "Epoch 00006: val_loss did not improve from 1.96902\n",
      "\n",
      "Epoch 00006: ReduceLROnPlateau reducing learning rate to 1.0000000474974514e-05.\n",
      "45/45 [==============================] - 165s 4s/step - loss: 0.4665 - categorical_accuracy: 0.8296 - val_loss: 3.4917 - val_categorical_accuracy: 0.2381 - lr: 0.0010\n",
      "Epoch 7/20\n",
      "45/45 [==============================] - ETA: 0s - loss: 0.3660 - categorical_accuracy: 0.8711\n",
      "Epoch 00007: val_loss did not improve from 1.96902\n",
      "45/45 [==============================] - 169s 4s/step - loss: 0.3660 - categorical_accuracy: 0.8711 - val_loss: 3.4980 - val_categorical_accuracy: 0.2381 - lr: 1.0000e-05\n",
      "Epoch 8/20\n",
      "45/45 [==============================] - ETA: 0s - loss: 0.3750 - categorical_accuracy: 0.8741\n",
      "Epoch 00008: val_loss did not improve from 1.96902\n",
      "45/45 [==============================] - 168s 4s/step - loss: 0.3750 - categorical_accuracy: 0.8741 - val_loss: 3.0303 - val_categorical_accuracy: 0.2952 - lr: 1.0000e-05\n",
      "Epoch 9/20\n",
      "45/45 [==============================] - ETA: 0s - loss: 0.3161 - categorical_accuracy: 0.9081\n",
      "Epoch 00009: val_loss did not improve from 1.96902\n",
      "45/45 [==============================] - 166s 4s/step - loss: 0.3161 - categorical_accuracy: 0.9081 - val_loss: 2.7156 - val_categorical_accuracy: 0.3238 - lr: 1.0000e-05\n",
      "Epoch 10/20\n",
      "45/45 [==============================] - ETA: 0s - loss: 0.3283 - categorical_accuracy: 0.8933\n",
      "Epoch 00010: val_loss did not improve from 1.96902\n",
      "45/45 [==============================] - 162s 4s/step - loss: 0.3283 - categorical_accuracy: 0.8933 - val_loss: 2.4737 - val_categorical_accuracy: 0.3714 - lr: 1.0000e-05\n",
      "Epoch 11/20\n",
      "45/45 [==============================] - ETA: 0s - loss: 0.3017 - categorical_accuracy: 0.9185\n",
      "Epoch 00011: val_loss improved from 1.96902 to 1.77299, saving model to model_init_2023-03-1122_10_07.194785/model-00011-0.30173-0.91852-1.77299-0.43810.h5\n",
      "45/45 [==============================] - 166s 4s/step - loss: 0.3017 - categorical_accuracy: 0.9185 - val_loss: 1.7730 - val_categorical_accuracy: 0.4381 - lr: 1.0000e-05\n",
      "Epoch 12/20\n",
      "45/45 [==============================] - ETA: 0s - loss: 0.2765 - categorical_accuracy: 0.9230\n",
      "Epoch 00012: val_loss did not improve from 1.77299\n",
      "45/45 [==============================] - 167s 4s/step - loss: 0.2765 - categorical_accuracy: 0.9230 - val_loss: 1.9460 - val_categorical_accuracy: 0.4571 - lr: 1.0000e-05\n",
      "Epoch 13/20\n",
      "45/45 [==============================] - ETA: 0s - loss: 0.3040 - categorical_accuracy: 0.9111\n",
      "Epoch 00013: val_loss improved from 1.77299 to 1.58280, saving model to model_init_2023-03-1122_10_07.194785/model-00013-0.30404-0.91111-1.58280-0.56190.h5\n",
      "45/45 [==============================] - 163s 4s/step - loss: 0.3040 - categorical_accuracy: 0.9111 - val_loss: 1.5828 - val_categorical_accuracy: 0.5619 - lr: 1.0000e-05\n",
      "Epoch 14/20\n",
      "45/45 [==============================] - ETA: 0s - loss: 0.3119 - categorical_accuracy: 0.9170\n",
      "Epoch 00014: val_loss improved from 1.58280 to 1.54011, saving model to model_init_2023-03-1122_10_07.194785/model-00014-0.31193-0.91704-1.54011-0.63810.h5\n",
      "45/45 [==============================] - 168s 4s/step - loss: 0.3119 - categorical_accuracy: 0.9170 - val_loss: 1.5401 - val_categorical_accuracy: 0.6381 - lr: 1.0000e-05\n",
      "Epoch 15/20\n",
      "45/45 [==============================] - ETA: 0s - loss: 0.2778 - categorical_accuracy: 0.9378\n",
      "Epoch 00015: val_loss did not improve from 1.54011\n",
      "45/45 [==============================] - 165s 4s/step - loss: 0.2778 - categorical_accuracy: 0.9378 - val_loss: 1.5458 - val_categorical_accuracy: 0.5714 - lr: 1.0000e-05\n",
      "Epoch 16/20\n",
      "45/45 [==============================] - ETA: 0s - loss: 0.2798 - categorical_accuracy: 0.9156\n",
      "Epoch 00016: val_loss improved from 1.54011 to 1.35739, saving model to model_init_2023-03-1122_10_07.194785/model-00016-0.27983-0.91556-1.35739-0.63810.h5\n",
      "45/45 [==============================] - 152s 3s/step - loss: 0.2798 - categorical_accuracy: 0.9156 - val_loss: 1.3574 - val_categorical_accuracy: 0.6381 - lr: 1.0000e-05\n",
      "Epoch 17/20\n",
      "45/45 [==============================] - ETA: 0s - loss: 0.2489 - categorical_accuracy: 0.9274\n",
      "Epoch 00017: val_loss improved from 1.35739 to 1.23028, saving model to model_init_2023-03-1122_10_07.194785/model-00017-0.24893-0.92741-1.23028-0.69524.h5\n",
      "45/45 [==============================] - 146s 3s/step - loss: 0.2489 - categorical_accuracy: 0.9274 - val_loss: 1.2303 - val_categorical_accuracy: 0.6952 - lr: 1.0000e-05\n",
      "Epoch 18/20\n",
      "45/45 [==============================] - ETA: 0s - loss: 0.2595 - categorical_accuracy: 0.9363\n",
      "Epoch 00018: val_loss did not improve from 1.23028\n",
      "45/45 [==============================] - 145s 3s/step - loss: 0.2595 - categorical_accuracy: 0.9363 - val_loss: 1.4516 - val_categorical_accuracy: 0.5905 - lr: 1.0000e-05\n",
      "Epoch 19/20\n",
      "45/45 [==============================] - ETA: 0s - loss: 0.2371 - categorical_accuracy: 0.9393\n",
      "Epoch 00019: val_loss did not improve from 1.23028\n",
      "45/45 [==============================] - 143s 3s/step - loss: 0.2371 - categorical_accuracy: 0.9393 - val_loss: 1.4593 - val_categorical_accuracy: 0.6667 - lr: 1.0000e-05\n",
      "Epoch 20/20\n",
      "45/45 [==============================] - ETA: 0s - loss: 0.2581 - categorical_accuracy: 0.9333\n",
      "Epoch 00020: val_loss did not improve from 1.23028\n",
      "45/45 [==============================] - 144s 3s/step - loss: 0.2581 - categorical_accuracy: 0.9333 - val_loss: 1.3480 - val_categorical_accuracy: 0.7048 - lr: 1.0000e-05\n"
     ]
    }
   ],
   "source": [
    "print(\"Total Params:\", model.count_params())\n",
    "trained_model_2=train_model(model)"
   ]
  },
  {
   "cell_type": "code",
   "execution_count": 17,
   "metadata": {},
   "outputs": [
    {
     "data": {
      "image/png": "[encoded data removed]",
      "text/plain": [
       "<Figure size 1080x288 with 2 Axes>"
      ]
     },
     "metadata": {
      "needs_background": "light"
     },
     "output_type": "display_data"
    }
   ],
   "source": [
    "plot(trained_model_2)"
   ]
  },
  {
   "cell_type": "markdown",
   "metadata": {},
   "source": [
    "> Observation : \n",
    ">> There is no major improvement compared to last model that is having overfitting"
   ]
  },
  {
   "cell_type": "markdown",
   "metadata": {},
   "source": [
    "### Model 3 : Conv2D layers + GRU Layer+ Adam optimiser + dropout + L2 regularization"
   ]
  },
  {
   "cell_type": "code",
   "execution_count": 18,
   "metadata": {},
   "outputs": [],
   "source": [
    "num_featuremaps = [16,32,64,128]\n",
    "num_denselayers = [64,32,5]\n",
    "num_classes = 5\n",
    "frames = 15\n",
    "dropout = 0.25\n",
    "\n",
    "# Input\n",
    "input_shape=(frames,120,120,3)\n",
    "\n",
    "model = Sequential()\n",
    "\n",
    "model.add(TimeDistributed(Conv2D(num_featuremaps[0], (3, 3), strides=(2, 2),activation='relu', padding='same'), input_shape=input_shape))\n",
    "model.add(TimeDistributed(BatchNormalization()))\n",
    "model.add(TimeDistributed(MaxPooling2D((2, 2), strides=(2, 2))))\n",
    "model.add(Dropout(dropout))\n",
    "\n",
    "model.add(TimeDistributed(Conv2D(num_featuremaps[1], (3,3),padding='same', activation='relu')))\n",
    "model.add(TimeDistributed(BatchNormalization()))\n",
    "model.add(TimeDistributed(MaxPooling2D((2, 2), strides=(2, 2))))\n",
    "\n",
    "model.add(TimeDistributed(Conv2D(num_featuremaps[2], (3,3),padding='same', activation='relu')))\n",
    "model.add(TimeDistributed(BatchNormalization()))\n",
    "model.add(TimeDistributed(MaxPooling2D((2, 2), strides=(2, 2))))\n",
    "model.add(Dropout(dropout))\n",
    "\n",
    "model.add(TimeDistributed(Conv2D(num_featuremaps[3], (2,2),padding='same', activation='relu')))\n",
    "model.add(TimeDistributed(BatchNormalization()))\n",
    "model.add(TimeDistributed(MaxPooling2D((2, 2), strides=(2, 2))))\n",
    "\n",
    "model.add(TimeDistributed(Flatten()))\n",
    "\n",
    "model.add(Dense(num_denselayers[0], activation='relu', kernel_regularizer=l2(0.01)))\n",
    "model.add(Dense(num_denselayers[1], activation='relu', kernel_regularizer=l2(0.01)))\n",
    "model.add(Dropout(dropout))\n",
    "\n",
    "## using GRU as the RNN model along with softmax as our last layer.\n",
    "model.add(GRU(64, return_sequences=False))\n",
    "model.add(Dropout(dropout))\n",
    "\n",
    "# using Softmax as last layer\n",
    "model.add(Dense(num_classes, activation='softmax')) \n"
   ]
  },
  {
   "cell_type": "code",
   "execution_count": 19,
   "metadata": {},
   "outputs": [
    {
     "name": "stdout",
     "output_type": "stream",
     "text": [
      "Model: \"sequential_2\"\n",
      "_________________________________________________________________\n",
      " Layer (type)                Output Shape              Param #   \n",
      "=================================================================\n",
      " time_distributed_26 (TimeDi  (None, 15, 60, 60, 16)   448       \n",
      " stributed)                                                      \n",
      "                                                                 \n",
      " time_distributed_27 (TimeDi  (None, 15, 60, 60, 16)   64        \n",
      " stributed)                                                      \n",
      "                                                                 \n",
      " time_distributed_28 (TimeDi  (None, 15, 30, 30, 16)   0         \n",
      " stributed)                                                      \n",
      "                                                                 \n",
      " dropout_4 (Dropout)         (None, 15, 30, 30, 16)    0         \n",
      "                                                                 \n",
      " time_distributed_29 (TimeDi  (None, 15, 30, 30, 32)   4640      \n",
      " stributed)                                                      \n",
      "                                                                 \n",
      " time_distributed_30 (TimeDi  (None, 15, 30, 30, 32)   128       \n",
      " stributed)                                                      \n",
      "                                                                 \n",
      " time_distributed_31 (TimeDi  (None, 15, 15, 15, 32)   0         \n",
      " stributed)                                                      \n",
      "                                                                 \n",
      " time_distributed_32 (TimeDi  (None, 15, 15, 15, 64)   18496     \n",
      " stributed)                                                      \n",
      "                                                                 \n",
      " time_distributed_33 (TimeDi  (None, 15, 15, 15, 64)   256       \n",
      " stributed)                                                      \n",
      "                                                                 \n",
      " time_distributed_34 (TimeDi  (None, 15, 7, 7, 64)     0         \n",
      " stributed)                                                      \n",
      "                                                                 \n",
      " dropout_5 (Dropout)         (None, 15, 7, 7, 64)      0         \n",
      "                                                                 \n",
      " time_distributed_35 (TimeDi  (None, 15, 7, 7, 128)    32896     \n",
      " stributed)                                                      \n",
      "                                                                 \n",
      " time_distributed_36 (TimeDi  (None, 15, 7, 7, 128)    512       \n",
      " stributed)                                                      \n",
      "                                                                 \n",
      " time_distributed_37 (TimeDi  (None, 15, 3, 3, 128)    0         \n",
      " stributed)                                                      \n",
      "                                                                 \n",
      " time_distributed_38 (TimeDi  (None, 15, 1152)         0         \n",
      " stributed)                                                      \n",
      "                                                                 \n",
      " dense_6 (Dense)             (None, 15, 64)            73792     \n",
      "                                                                 \n",
      " dense_7 (Dense)             (None, 15, 32)            2080      \n",
      "                                                                 \n",
      " dropout_6 (Dropout)         (None, 15, 32)            0         \n",
      "                                                                 \n",
      " gru_2 (GRU)                 (None, 64)                18816     \n",
      "                                                                 \n",
      " dropout_7 (Dropout)         (None, 64)                0         \n",
      "                                                                 \n",
      " dense_8 (Dense)             (None, 5)                 325       \n",
      "                                                                 \n",
      "=================================================================\n",
      "Total params: 152,453\n",
      "Trainable params: 151,973\n",
      "Non-trainable params: 480\n",
      "_________________________________________________________________\n",
      "None\n"
     ]
    }
   ],
   "source": [
    "optimiser = \"Adam\"#write your optimizer\n",
    "model.compile(optimizer=optimiser, loss='categorical_crossentropy', metrics=['categorical_accuracy'])\n",
    "\n",
    "# Model Summary\n",
    "print (model.summary())"
   ]
  },
  {
   "cell_type": "code",
   "execution_count": 20,
   "metadata": {},
   "outputs": [
    {
     "name": "stdout",
     "output_type": "stream",
     "text": [
      "Total Params: 152453\n",
      "WARNING:tensorflow:`period` argument is deprecated. Please use `save_freq` to specify the frequency in number of batches seen.\n",
      "Source path =  /home/datasets/Project_data/train ; batch size = 15\n"
     ]
    },
    {
     "name": "stderr",
     "output_type": "stream",
     "text": [
      "/tmp/ipykernel_369/2256448371.py:28: UserWarning: `Model.fit_generator` is deprecated and will be removed in a future version. Please use `Model.fit`, which supports generators.\n",
      "  history=model.fit_generator(train_generator, steps_per_epoch=steps_per_epoch, epochs=num_epochs, verbose=1,\n"
     ]
    },
    {
     "name": "stdout",
     "output_type": "stream",
     "text": [
      "Epoch 1/20\n",
      "45/45 [==============================] - ETA: 0s - loss: 2.8628 - categorical_accuracy: 0.3837Source path =  /home/datasets/Project_data/val ; batch size = 15\n",
      "\n",
      "Epoch 00001: val_loss improved from inf to 3.10617, saving model to model_init_2023-03-1122_10_07.194785/model-00001-2.86277-0.38370-3.10617-0.13333.h5\n",
      "45/45 [==============================] - 149s 3s/step - loss: 2.8628 - categorical_accuracy: 0.3837 - val_loss: 3.1062 - val_categorical_accuracy: 0.1333 - lr: 0.0010\n",
      "Epoch 2/20\n",
      "45/45 [==============================] - ETA: 0s - loss: 2.2040 - categorical_accuracy: 0.5719\n",
      "Epoch 00002: val_loss improved from 3.10617 to 2.90474, saving model to model_init_2023-03-1122_10_07.194785/model-00002-2.20398-0.57185-2.90474-0.16190.h5\n",
      "45/45 [==============================] - 148s 3s/step - loss: 2.2040 - categorical_accuracy: 0.5719 - val_loss: 2.9047 - val_categorical_accuracy: 0.1619 - lr: 0.0010\n",
      "Epoch 3/20\n",
      "45/45 [==============================] - ETA: 0s - loss: 1.7786 - categorical_accuracy: 0.6563\n",
      "Epoch 00003: val_loss did not improve from 2.90474\n",
      "45/45 [==============================] - 145s 3s/step - loss: 1.7786 - categorical_accuracy: 0.6563 - val_loss: 2.9798 - val_categorical_accuracy: 0.2571 - lr: 0.0010\n",
      "Epoch 4/20\n",
      "45/45 [==============================] - ETA: 0s - loss: 1.4606 - categorical_accuracy: 0.7319\n",
      "Epoch 00004: val_loss did not improve from 2.90474\n",
      "45/45 [==============================] - 144s 3s/step - loss: 1.4606 - categorical_accuracy: 0.7319 - val_loss: 3.5106 - val_categorical_accuracy: 0.1333 - lr: 0.0010\n",
      "Epoch 5/20\n",
      "45/45 [==============================] - ETA: 0s - loss: 1.2819 - categorical_accuracy: 0.7556\n",
      "Epoch 00005: val_loss did not improve from 2.90474\n",
      "45/45 [==============================] - 144s 3s/step - loss: 1.2819 - categorical_accuracy: 0.7556 - val_loss: 3.2544 - val_categorical_accuracy: 0.3429 - lr: 0.0010\n",
      "Epoch 6/20\n",
      "45/45 [==============================] - ETA: 0s - loss: 1.0491 - categorical_accuracy: 0.8400\n",
      "Epoch 00006: val_loss did not improve from 2.90474\n",
      "45/45 [==============================] - 144s 3s/step - loss: 1.0491 - categorical_accuracy: 0.8400 - val_loss: 3.1846 - val_categorical_accuracy: 0.3810 - lr: 0.0010\n",
      "Epoch 7/20\n",
      "45/45 [==============================] - ETA: 0s - loss: 0.9714 - categorical_accuracy: 0.8267\n",
      "Epoch 00007: val_loss did not improve from 2.90474\n",
      "\n",
      "Epoch 00007: ReduceLROnPlateau reducing learning rate to 1.0000000474974514e-05.\n",
      "45/45 [==============================] - 144s 3s/step - loss: 0.9714 - categorical_accuracy: 0.8267 - val_loss: 3.4356 - val_categorical_accuracy: 0.2762 - lr: 0.0010\n",
      "Epoch 8/20\n",
      "45/45 [==============================] - ETA: 0s - loss: 0.8327 - categorical_accuracy: 0.8770\n",
      "Epoch 00008: val_loss did not improve from 2.90474\n",
      "45/45 [==============================] - 143s 3s/step - loss: 0.8327 - categorical_accuracy: 0.8770 - val_loss: 3.3209 - val_categorical_accuracy: 0.2667 - lr: 1.0000e-05\n",
      "Epoch 9/20\n",
      "45/45 [==============================] - ETA: 0s - loss: 0.7651 - categorical_accuracy: 0.9185\n",
      "Epoch 00009: val_loss did not improve from 2.90474\n",
      "45/45 [==============================] - 145s 3s/step - loss: 0.7651 - categorical_accuracy: 0.9185 - val_loss: 3.0021 - val_categorical_accuracy: 0.3619 - lr: 1.0000e-05\n",
      "Epoch 10/20\n",
      "45/45 [==============================] - ETA: 0s - loss: 0.7486 - categorical_accuracy: 0.9230\n",
      "Epoch 00010: val_loss improved from 2.90474 to 2.88873, saving model to model_init_2023-03-1122_10_07.194785/model-00010-0.74865-0.92296-2.88873-0.33333.h5\n",
      "45/45 [==============================] - 142s 3s/step - loss: 0.7486 - categorical_accuracy: 0.9230 - val_loss: 2.8887 - val_categorical_accuracy: 0.3333 - lr: 1.0000e-05\n",
      "Epoch 11/20\n",
      "45/45 [==============================] - ETA: 0s - loss: 0.7370 - categorical_accuracy: 0.9289\n",
      "Epoch 00011: val_loss improved from 2.88873 to 2.51638, saving model to model_init_2023-03-1122_10_07.194785/model-00011-0.73699-0.92889-2.51638-0.39048.h5\n",
      "45/45 [==============================] - 143s 3s/step - loss: 0.7370 - categorical_accuracy: 0.9289 - val_loss: 2.5164 - val_categorical_accuracy: 0.3905 - lr: 1.0000e-05\n",
      "Epoch 12/20\n",
      "45/45 [==============================] - ETA: 0s - loss: 0.7448 - categorical_accuracy: 0.9185\n",
      "Epoch 00012: val_loss improved from 2.51638 to 1.94939, saving model to model_init_2023-03-1122_10_07.194785/model-00012-0.74484-0.91852-1.94939-0.59048.h5\n",
      "45/45 [==============================] - 143s 3s/step - loss: 0.7448 - categorical_accuracy: 0.9185 - val_loss: 1.9494 - val_categorical_accuracy: 0.5905 - lr: 1.0000e-05\n",
      "Epoch 13/20\n",
      "45/45 [==============================] - ETA: 0s - loss: 0.7244 - categorical_accuracy: 0.9348\n",
      "Epoch 00013: val_loss did not improve from 1.94939\n",
      "45/45 [==============================] - 144s 3s/step - loss: 0.7244 - categorical_accuracy: 0.9348 - val_loss: 2.0767 - val_categorical_accuracy: 0.5905 - lr: 1.0000e-05\n",
      "Epoch 14/20\n",
      "45/45 [==============================] - ETA: 0s - loss: 0.7368 - categorical_accuracy: 0.9274\n",
      "Epoch 00014: val_loss improved from 1.94939 to 1.81829, saving model to model_init_2023-03-1122_10_07.194785/model-00014-0.73677-0.92741-1.81829-0.65714.h5\n",
      "45/45 [==============================] - 143s 3s/step - loss: 0.7368 - categorical_accuracy: 0.9274 - val_loss: 1.8183 - val_categorical_accuracy: 0.6571 - lr: 1.0000e-05\n",
      "Epoch 15/20\n",
      "45/45 [==============================] - ETA: 0s - loss: 0.7309 - categorical_accuracy: 0.9348\n",
      "Epoch 00015: val_loss did not improve from 1.81829\n",
      "45/45 [==============================] - 142s 3s/step - loss: 0.7309 - categorical_accuracy: 0.9348 - val_loss: 1.8602 - val_categorical_accuracy: 0.6667 - lr: 1.0000e-05\n",
      "Epoch 16/20\n",
      "45/45 [==============================] - ETA: 0s - loss: 0.7178 - categorical_accuracy: 0.9333\n",
      "Epoch 00016: val_loss improved from 1.81829 to 1.75456, saving model to model_init_2023-03-1122_10_07.194785/model-00016-0.71776-0.93333-1.75456-0.68571.h5\n",
      "45/45 [==============================] - 141s 3s/step - loss: 0.7178 - categorical_accuracy: 0.9333 - val_loss: 1.7546 - val_categorical_accuracy: 0.6857 - lr: 1.0000e-05\n",
      "Epoch 17/20\n",
      "45/45 [==============================] - ETA: 0s - loss: 0.7161 - categorical_accuracy: 0.9452\n",
      "Epoch 00017: val_loss did not improve from 1.75456\n",
      "45/45 [==============================] - 143s 3s/step - loss: 0.7161 - categorical_accuracy: 0.9452 - val_loss: 1.7841 - val_categorical_accuracy: 0.7048 - lr: 1.0000e-05\n",
      "Epoch 18/20\n",
      "45/45 [==============================] - ETA: 0s - loss: 0.7060 - categorical_accuracy: 0.9378\n",
      "Epoch 00018: val_loss improved from 1.75456 to 1.57844, saving model to model_init_2023-03-1122_10_07.194785/model-00018-0.70603-0.93778-1.57844-0.71429.h5\n",
      "45/45 [==============================] - 143s 3s/step - loss: 0.7060 - categorical_accuracy: 0.9378 - val_loss: 1.5784 - val_categorical_accuracy: 0.7143 - lr: 1.0000e-05\n",
      "Epoch 19/20\n",
      "45/45 [==============================] - ETA: 0s - loss: 0.6938 - categorical_accuracy: 0.9378\n",
      "Epoch 00019: val_loss did not improve from 1.57844\n",
      "45/45 [==============================] - 142s 3s/step - loss: 0.6938 - categorical_accuracy: 0.9378 - val_loss: 1.7548 - val_categorical_accuracy: 0.6762 - lr: 1.0000e-05\n",
      "Epoch 20/20\n",
      "45/45 [==============================] - ETA: 0s - loss: 0.7257 - categorical_accuracy: 0.9393\n",
      "Epoch 00020: val_loss did not improve from 1.57844\n",
      "45/45 [==============================] - 142s 3s/step - loss: 0.7257 - categorical_accuracy: 0.9393 - val_loss: 1.6839 - val_categorical_accuracy: 0.7238 - lr: 1.0000e-05\n"
     ]
    }
   ],
   "source": [
    "print(\"Total Params:\", model.count_params())\n",
    "trained_model_3=train_model(model)"
   ]
  },
  {
   "cell_type": "code",
   "execution_count": 21,
   "metadata": {},
   "outputs": [
    {
     "data": {
      "image/png": "[encoded data removed]",
      "text/plain": [
       "<Figure size 1080x288 with 2 Axes>"
      ]
     },
     "metadata": {
      "needs_background": "light"
     },
     "output_type": "display_data"
    }
   ],
   "source": [
    "plot(trained_model_3)"
   ]
  },
  {
   "cell_type": "markdown",
   "metadata": {},
   "source": [
    "> Observation : \n",
    ">> Val Loss is getting lower"
   ]
  },
  {
   "cell_type": "markdown",
   "metadata": {},
   "source": [
    "### Model 4 : Conv2D layers + GRU Layer+ SDG optimiser + dropout + L2 regularization¶"
   ]
  },
  {
   "cell_type": "code",
   "execution_count": 12,
   "metadata": {},
   "outputs": [],
   "source": [
    "num_featuremaps = [16,32,64,128]\n",
    "num_denselayers = [64,32,5]\n",
    "num_classes = 5\n",
    "frames = 15\n",
    "dropout = 0.25\n",
    "\n",
    "# Input\n",
    "input_shape=(frames,120,120,3)\n",
    "\n",
    "model = Sequential()\n",
    "\n",
    "model.add(TimeDistributed(Conv2D(num_featuremaps[0], (3, 3), strides=(2, 2),activation='relu', padding='same'), input_shape=input_shape))\n",
    "model.add(TimeDistributed(BatchNormalization()))\n",
    "model.add(TimeDistributed(MaxPooling2D((2, 2), strides=(2, 2))))\n",
    "model.add(Dropout(dropout))\n",
    "\n",
    "model.add(TimeDistributed(Conv2D(num_featuremaps[1], (3,3),padding='same', activation='relu')))\n",
    "model.add(TimeDistributed(BatchNormalization()))\n",
    "model.add(TimeDistributed(MaxPooling2D((2, 2), strides=(2, 2))))\n",
    "\n",
    "model.add(TimeDistributed(Conv2D(num_featuremaps[2], (3,3),padding='same', activation='relu')))\n",
    "model.add(TimeDistributed(BatchNormalization()))\n",
    "model.add(TimeDistributed(MaxPooling2D((2, 2), strides=(2, 2))))\n",
    "model.add(Dropout(dropout))\n",
    "\n",
    "model.add(TimeDistributed(Conv2D(num_featuremaps[3], (2,2),padding='same', activation='relu')))\n",
    "model.add(TimeDistributed(BatchNormalization()))\n",
    "model.add(TimeDistributed(MaxPooling2D((2, 2), strides=(2, 2))))\n",
    "\n",
    "model.add(TimeDistributed(Flatten()))\n",
    "\n",
    "model.add(Dense(num_denselayers[0], activation='relu', kernel_regularizer=l2(0.01)))\n",
    "model.add(Dense(num_denselayers[1], activation='relu', kernel_regularizer=l2(0.01)))\n",
    "model.add(Dropout(dropout))\n",
    "\n",
    "## using GRU as the RNN model along with softmax as our last layer.\n",
    "model.add(GRU(64, return_sequences=False))\n",
    "model.add(Dropout(dropout))\n",
    "\n",
    " # using Softmax as last layer\n",
    "model.add(Dense(num_classes, activation='softmax'))"
   ]
  },
  {
   "cell_type": "code",
   "execution_count": 13,
   "metadata": {},
   "outputs": [
    {
     "name": "stdout",
     "output_type": "stream",
     "text": [
      "Model: \"sequential_1\"\n",
      "_________________________________________________________________\n",
      " Layer (type)                Output Shape              Param #   \n",
      "=================================================================\n",
      " time_distributed_13 (TimeDi  (None, 15, 60, 60, 16)   448       \n",
      " stributed)                                                      \n",
      "                                                                 \n",
      " time_distributed_14 (TimeDi  (None, 15, 60, 60, 16)   64        \n",
      " stributed)                                                      \n",
      "                                                                 \n",
      " time_distributed_15 (TimeDi  (None, 15, 30, 30, 16)   0         \n",
      " stributed)                                                      \n",
      "                                                                 \n",
      " dropout_4 (Dropout)         (None, 15, 30, 30, 16)    0         \n",
      "                                                                 \n",
      " time_distributed_16 (TimeDi  (None, 15, 30, 30, 32)   4640      \n",
      " stributed)                                                      \n",
      "                                                                 \n",
      " time_distributed_17 (TimeDi  (None, 15, 30, 30, 32)   128       \n",
      " stributed)                                                      \n",
      "                                                                 \n",
      " time_distributed_18 (TimeDi  (None, 15, 15, 15, 32)   0         \n",
      " stributed)                                                      \n",
      "                                                                 \n",
      " time_distributed_19 (TimeDi  (None, 15, 15, 15, 64)   18496     \n",
      " stributed)                                                      \n",
      "                                                                 \n",
      " time_distributed_20 (TimeDi  (None, 15, 15, 15, 64)   256       \n",
      " stributed)                                                      \n",
      "                                                                 \n",
      " time_distributed_21 (TimeDi  (None, 15, 7, 7, 64)     0         \n",
      " stributed)                                                      \n",
      "                                                                 \n",
      " dropout_5 (Dropout)         (None, 15, 7, 7, 64)      0         \n",
      "                                                                 \n",
      " time_distributed_22 (TimeDi  (None, 15, 7, 7, 128)    32896     \n",
      " stributed)                                                      \n",
      "                                                                 \n",
      " time_distributed_23 (TimeDi  (None, 15, 7, 7, 128)    512       \n",
      " stributed)                                                      \n",
      "                                                                 \n",
      " time_distributed_24 (TimeDi  (None, 15, 3, 3, 128)    0         \n",
      " stributed)                                                      \n",
      "                                                                 \n",
      " time_distributed_25 (TimeDi  (None, 15, 1152)         0         \n",
      " stributed)                                                      \n",
      "                                                                 \n",
      " dense_3 (Dense)             (None, 15, 64)            73792     \n",
      "                                                                 \n",
      " dense_4 (Dense)             (None, 15, 32)            2080      \n",
      "                                                                 \n",
      " dropout_6 (Dropout)         (None, 15, 32)            0         \n",
      "                                                                 \n",
      " gru_1 (GRU)                 (None, 64)                18816     \n",
      "                                                                 \n",
      " dropout_7 (Dropout)         (None, 64)                0         \n",
      "                                                                 \n",
      " dense_5 (Dense)             (None, 5)                 325       \n",
      "                                                                 \n",
      "=================================================================\n",
      "Total params: 152,453\n",
      "Trainable params: 151,973\n",
      "Non-trainable params: 480\n",
      "_________________________________________________________________\n",
      "None\n"
     ]
    }
   ],
   "source": [
    "optimiser = \"sgd\" #write your optimizer\n",
    "model.compile(optimizer=optimiser, loss='categorical_crossentropy', metrics=['categorical_accuracy'])\n",
    "\n",
    "# Model Summary\n",
    "print (model.summary())"
   ]
  },
  {
   "cell_type": "code",
   "execution_count": 14,
   "metadata": {},
   "outputs": [
    {
     "name": "stdout",
     "output_type": "stream",
     "text": [
      "Total Params: 152453\n",
      "WARNING:tensorflow:`period` argument is deprecated. Please use `save_freq` to specify the frequency in number of batches seen.\n",
      "Source path =  /home/datasets/Project_data/train ; batch size = 15\n"
     ]
    },
    {
     "name": "stderr",
     "output_type": "stream",
     "text": [
      "/tmp/ipykernel_293/2256448371.py:28: UserWarning: `Model.fit_generator` is deprecated and will be removed in a future version. Please use `Model.fit`, which supports generators.\n",
      "  history=model.fit_generator(train_generator, steps_per_epoch=steps_per_epoch, epochs=num_epochs, verbose=1,\n"
     ]
    },
    {
     "name": "stdout",
     "output_type": "stream",
     "text": [
      "Epoch 1/20\n",
      "45/45 [==============================] - ETA: 0s - loss: 3.1389 - categorical_accuracy: 0.3111Source path =  /home/datasets/Project_data/val ; batch size = 15\n",
      "\n",
      "Epoch 00001: val_loss improved from inf to 3.28156, saving model to model_init_2023-03-1206_30_13.995581/model-00001-3.13895-0.31111-3.28156-0.22857.h5\n",
      "45/45 [==============================] - 156s 3s/step - loss: 3.1389 - categorical_accuracy: 0.3111 - val_loss: 3.2816 - val_categorical_accuracy: 0.2286 - lr: 0.0100\n",
      "Epoch 2/20\n",
      "45/45 [==============================] - ETA: 0s - loss: 2.9094 - categorical_accuracy: 0.4222\n",
      "Epoch 00002: val_loss did not improve from 3.28156\n",
      "45/45 [==============================] - 146s 3s/step - loss: 2.9094 - categorical_accuracy: 0.4222 - val_loss: 3.3534 - val_categorical_accuracy: 0.2190 - lr: 0.0100\n",
      "Epoch 3/20\n",
      "45/45 [==============================] - ETA: 0s - loss: 2.7050 - categorical_accuracy: 0.4993\n",
      "Epoch 00003: val_loss did not improve from 3.28156\n",
      "45/45 [==============================] - 141s 3s/step - loss: 2.7050 - categorical_accuracy: 0.4993 - val_loss: 3.4801 - val_categorical_accuracy: 0.2095 - lr: 0.0100\n",
      "Epoch 4/20\n",
      "45/45 [==============================] - ETA: 0s - loss: 2.5695 - categorical_accuracy: 0.5733\n",
      "Epoch 00004: val_loss did not improve from 3.28156\n",
      "45/45 [==============================] - 140s 3s/step - loss: 2.5695 - categorical_accuracy: 0.5733 - val_loss: 3.5181 - val_categorical_accuracy: 0.2476 - lr: 0.0100\n",
      "Epoch 5/20\n",
      "45/45 [==============================] - ETA: 0s - loss: 2.4325 - categorical_accuracy: 0.6252\n",
      "Epoch 00005: val_loss did not improve from 3.28156\n",
      "45/45 [==============================] - 141s 3s/step - loss: 2.4325 - categorical_accuracy: 0.6252 - val_loss: 3.7178 - val_categorical_accuracy: 0.1905 - lr: 0.0100\n",
      "Epoch 6/20\n",
      "45/45 [==============================] - ETA: 0s - loss: 2.3508 - categorical_accuracy: 0.6785\n",
      "Epoch 00006: val_loss did not improve from 3.28156\n",
      "\n",
      "Epoch 00006: ReduceLROnPlateau reducing learning rate to 9.999999776482583e-05.\n",
      "45/45 [==============================] - 140s 3s/step - loss: 2.3508 - categorical_accuracy: 0.6785 - val_loss: 3.6340 - val_categorical_accuracy: 0.3048 - lr: 0.0100\n",
      "Epoch 7/20\n",
      "45/45 [==============================] - ETA: 0s - loss: 2.2435 - categorical_accuracy: 0.7037\n",
      "Epoch 00007: val_loss did not improve from 3.28156\n",
      "45/45 [==============================] - 139s 3s/step - loss: 2.2435 - categorical_accuracy: 0.7037 - val_loss: 3.7866 - val_categorical_accuracy: 0.2762 - lr: 1.0000e-04\n",
      "Epoch 8/20\n",
      "45/45 [==============================] - ETA: 0s - loss: 2.2214 - categorical_accuracy: 0.7304\n",
      "Epoch 00008: val_loss did not improve from 3.28156\n",
      "45/45 [==============================] - 140s 3s/step - loss: 2.2214 - categorical_accuracy: 0.7304 - val_loss: 3.7940 - val_categorical_accuracy: 0.3048 - lr: 1.0000e-04\n",
      "Epoch 9/20\n",
      "45/45 [==============================] - ETA: 0s - loss: 2.2319 - categorical_accuracy: 0.7274\n",
      "Epoch 00009: val_loss did not improve from 3.28156\n",
      "45/45 [==============================] - 141s 3s/step - loss: 2.2319 - categorical_accuracy: 0.7274 - val_loss: 3.7018 - val_categorical_accuracy: 0.2857 - lr: 1.0000e-04\n",
      "Epoch 10/20\n",
      "45/45 [==============================] - ETA: 0s - loss: 2.2086 - categorical_accuracy: 0.7422\n",
      "Epoch 00010: val_loss did not improve from 3.28156\n",
      "45/45 [==============================] - 161s 4s/step - loss: 2.2086 - categorical_accuracy: 0.7422 - val_loss: 3.4968 - val_categorical_accuracy: 0.3619 - lr: 1.0000e-04\n",
      "Epoch 11/20\n",
      "45/45 [==============================] - ETA: 0s - loss: 2.2488 - categorical_accuracy: 0.7170\n",
      "Epoch 00011: val_loss did not improve from 3.28156\n",
      "45/45 [==============================] - 226s 5s/step - loss: 2.2488 - categorical_accuracy: 0.7170 - val_loss: 3.4521 - val_categorical_accuracy: 0.4286 - lr: 1.0000e-04\n",
      "Epoch 12/20\n",
      "45/45 [==============================] - ETA: 0s - loss: 2.2104 - categorical_accuracy: 0.7259\n",
      "Epoch 00012: val_loss did not improve from 3.28156\n",
      "45/45 [==============================] - 180s 4s/step - loss: 2.2104 - categorical_accuracy: 0.7259 - val_loss: 3.4214 - val_categorical_accuracy: 0.3714 - lr: 1.0000e-04\n",
      "Epoch 13/20\n",
      "45/45 [==============================] - ETA: 0s - loss: 2.2448 - categorical_accuracy: 0.7141\n",
      "Epoch 00013: val_loss improved from 3.28156 to 3.07819, saving model to model_init_2023-03-1206_30_13.995581/model-00013-2.24480-0.71407-3.07819-0.40952.h5\n",
      "45/45 [==============================] - 179s 4s/step - loss: 2.2448 - categorical_accuracy: 0.7141 - val_loss: 3.0782 - val_categorical_accuracy: 0.4095 - lr: 1.0000e-04\n",
      "Epoch 14/20\n",
      "45/45 [==============================] - ETA: 0s - loss: 2.2015 - categorical_accuracy: 0.7378\n",
      "Epoch 00014: val_loss improved from 3.07819 to 2.98701, saving model to model_init_2023-03-1206_30_13.995581/model-00014-2.20150-0.73778-2.98701-0.45714.h5\n",
      "45/45 [==============================] - 155s 3s/step - loss: 2.2015 - categorical_accuracy: 0.7378 - val_loss: 2.9870 - val_categorical_accuracy: 0.4571 - lr: 1.0000e-04\n",
      "Epoch 15/20\n",
      "45/45 [==============================] - ETA: 0s - loss: 2.1802 - categorical_accuracy: 0.7393\n",
      "Epoch 00015: val_loss improved from 2.98701 to 2.94642, saving model to model_init_2023-03-1206_30_13.995581/model-00015-2.18016-0.73926-2.94642-0.48571.h5\n",
      "45/45 [==============================] - 150s 3s/step - loss: 2.1802 - categorical_accuracy: 0.7393 - val_loss: 2.9464 - val_categorical_accuracy: 0.4857 - lr: 1.0000e-04\n",
      "Epoch 16/20\n",
      "45/45 [==============================] - ETA: 0s - loss: 2.2031 - categorical_accuracy: 0.7156\n",
      "Epoch 00016: val_loss improved from 2.94642 to 2.94536, saving model to model_init_2023-03-1206_30_13.995581/model-00016-2.20314-0.71556-2.94536-0.46667.h5\n",
      "45/45 [==============================] - 149s 3s/step - loss: 2.2031 - categorical_accuracy: 0.7156 - val_loss: 2.9454 - val_categorical_accuracy: 0.4667 - lr: 1.0000e-04\n",
      "Epoch 17/20\n",
      "45/45 [==============================] - ETA: 0s - loss: 2.2172 - categorical_accuracy: 0.7170\n",
      "Epoch 00017: val_loss improved from 2.94536 to 2.84931, saving model to model_init_2023-03-1206_30_13.995581/model-00017-2.21722-0.71704-2.84931-0.52381.h5\n",
      "45/45 [==============================] - 165s 4s/step - loss: 2.2172 - categorical_accuracy: 0.7170 - val_loss: 2.8493 - val_categorical_accuracy: 0.5238 - lr: 1.0000e-04\n",
      "Epoch 18/20\n",
      "45/45 [==============================] - ETA: 0s - loss: 2.2093 - categorical_accuracy: 0.7289\n",
      "Epoch 00018: val_loss did not improve from 2.84931\n",
      "45/45 [==============================] - 214s 5s/step - loss: 2.2093 - categorical_accuracy: 0.7289 - val_loss: 2.9613 - val_categorical_accuracy: 0.4286 - lr: 1.0000e-04\n",
      "Epoch 19/20\n",
      "45/45 [==============================] - ETA: 0s - loss: 2.1879 - categorical_accuracy: 0.7378\n",
      "Epoch 00019: val_loss improved from 2.84931 to 2.72934, saving model to model_init_2023-03-1206_30_13.995581/model-00019-2.18788-0.73778-2.72934-0.51429.h5\n",
      "45/45 [==============================] - 170s 4s/step - loss: 2.1879 - categorical_accuracy: 0.7378 - val_loss: 2.7293 - val_categorical_accuracy: 0.5143 - lr: 1.0000e-04\n",
      "Epoch 20/20\n",
      "45/45 [==============================] - ETA: 0s - loss: 2.2388 - categorical_accuracy: 0.7407\n",
      "Epoch 00020: val_loss did not improve from 2.72934\n",
      "45/45 [==============================] - 179s 4s/step - loss: 2.2388 - categorical_accuracy: 0.7407 - val_loss: 2.7616 - val_categorical_accuracy: 0.5143 - lr: 1.0000e-04\n"
     ]
    }
   ],
   "source": [
    "print(\"Total Params:\", model.count_params())\n",
    "trained_model_4=train_model(model)"
   ]
  },
  {
   "cell_type": "code",
   "execution_count": 15,
   "metadata": {},
   "outputs": [
    {
     "data": {
      "image/png": "[encoded data removed]",
      "text/plain": [
       "<Figure size 1080x288 with 2 Axes>"
      ]
     },
     "metadata": {
      "needs_background": "light"
     },
     "output_type": "display_data"
    }
   ],
   "source": [
    "plot(trained_model_4)"
   ]
  },
  {
   "cell_type": "markdown",
   "metadata": {},
   "source": [
    "> Observation : \n",
    ">> Increase in validation accuracy"
   ]
  },
  {
   "cell_type": "markdown",
   "metadata": {},
   "source": [
    "### Model 5 : Conv3D layers + Dropout + Batch Normalization + L2 Regularization"
   ]
  },
  {
   "cell_type": "code",
   "execution_count": 38,
   "metadata": {},
   "outputs": [],
   "source": [
    "num_featuremaps = [16,32,64,128]\n",
    "num_denselayers = [64,32,5]\n",
    "num_classes = 5\n",
    "frames = 15\n",
    "dropout = 0.25\n",
    "\n",
    "# Input\n",
    "input_shape=(frames,120,120,3)\n",
    "\n",
    "# Define model\n",
    "model = Sequential()\n",
    "\n",
    "\n",
    "model.add(Conv3D(num_featuremaps[0], (3, 3, 3), padding = 'same', input_shape = input_shape))\n",
    "model.add(Activation('relu'))\n",
    "model.add(BatchNormalization())\n",
    "model.add(MaxPooling3D(pool_size = (2, 2, 2)))\n",
    "model.add(Dropout(0.25))\n",
    "          \n",
    "model.add(Conv3D(num_featuremaps[1], (2, 2, 2), padding = 'same'))\n",
    "model.add(Activation('relu'))\n",
    "model.add(BatchNormalization())\n",
    "model.add(MaxPooling3D(pool_size = (2, 2, 2)))\n",
    "\n",
    "model.add(Conv3D(num_featuremaps[2], (2, 2, 2), padding = 'same'))\n",
    "model.add(Activation('relu'))\n",
    "model.add(BatchNormalization())\n",
    "model.add(MaxPooling3D(pool_size = (2, 2, 2)))\n",
    "model.add(Dropout(0.25))\n",
    "          \n",
    "model.add(Flatten())\n",
    "          \n",
    "model.add(Dense(num_denselayers[0], activation='relu',kernel_regularizer=l2(0.01)))\n",
    "model.add(Dropout(0.25))\n",
    "          \n",
    "model.add(Dense(num_denselayers[1], activation='relu',kernel_regularizer=l2(0.01)))\n",
    "model.add(Dropout(0.25))\n",
    "          \n",
    "\n",
    " # using Softmax as last layer\n",
    "model.add(Dense(num_classes, activation='softmax'))"
   ]
  },
  {
   "cell_type": "code",
   "execution_count": 39,
   "metadata": {},
   "outputs": [
    {
     "name": "stdout",
     "output_type": "stream",
     "text": [
      "Model: \"sequential_6\"\n",
      "_________________________________________________________________\n",
      " Layer (type)                Output Shape              Param #   \n",
      "=================================================================\n",
      " conv3d (Conv3D)             (None, 15, 120, 120, 16)  1312      \n",
      "                                                                 \n",
      " activation (Activation)     (None, 15, 120, 120, 16)  0         \n",
      "                                                                 \n",
      " batch_normalization_6 (Batc  (None, 15, 120, 120, 16)  64       \n",
      " hNormalization)                                                 \n",
      "                                                                 \n",
      " max_pooling3d (MaxPooling3D  (None, 7, 60, 60, 16)    0         \n",
      " )                                                               \n",
      "                                                                 \n",
      " dropout_12 (Dropout)        (None, 7, 60, 60, 16)     0         \n",
      "                                                                 \n",
      " conv3d_1 (Conv3D)           (None, 7, 60, 60, 32)     4128      \n",
      "                                                                 \n",
      " activation_1 (Activation)   (None, 7, 60, 60, 32)     0         \n",
      "                                                                 \n",
      " batch_normalization_7 (Batc  (None, 7, 60, 60, 32)    128       \n",
      " hNormalization)                                                 \n",
      "                                                                 \n",
      " max_pooling3d_1 (MaxPooling  (None, 3, 30, 30, 32)    0         \n",
      " 3D)                                                             \n",
      "                                                                 \n",
      " conv3d_2 (Conv3D)           (None, 3, 30, 30, 64)     16448     \n",
      "                                                                 \n",
      " activation_2 (Activation)   (None, 3, 30, 30, 64)     0         \n",
      "                                                                 \n",
      " batch_normalization_8 (Batc  (None, 3, 30, 30, 64)    256       \n",
      " hNormalization)                                                 \n",
      "                                                                 \n",
      " max_pooling3d_2 (MaxPooling  (None, 1, 15, 15, 64)    0         \n",
      " 3D)                                                             \n",
      "                                                                 \n",
      " dropout_13 (Dropout)        (None, 1, 15, 15, 64)     0         \n",
      "                                                                 \n",
      " flatten_6 (Flatten)         (None, 14400)             0         \n",
      "                                                                 \n",
      " dense_12 (Dense)            (None, 64)                921664    \n",
      "                                                                 \n",
      " dropout_14 (Dropout)        (None, 64)                0         \n",
      "                                                                 \n",
      " dense_13 (Dense)            (None, 32)                2080      \n",
      "                                                                 \n",
      " dropout_15 (Dropout)        (None, 32)                0         \n",
      "                                                                 \n",
      " dense_14 (Dense)            (None, 5)                 165       \n",
      "                                                                 \n",
      "=================================================================\n",
      "Total params: 946,245\n",
      "Trainable params: 946,021\n",
      "Non-trainable params: 224\n",
      "_________________________________________________________________\n",
      "None\n"
     ]
    }
   ],
   "source": [
    "optimiser = \"Adam\" #write your optimizer\n",
    "model.compile(optimizer=optimiser, loss='categorical_crossentropy', metrics=['categorical_accuracy'])\n",
    "\n",
    "# Model Summary\n",
    "print (model.summary())"
   ]
  },
  {
   "cell_type": "code",
   "execution_count": 40,
   "metadata": {},
   "outputs": [
    {
     "name": "stdout",
     "output_type": "stream",
     "text": [
      "Total Params: 946245\n",
      "WARNING:tensorflow:`period` argument is deprecated. Please use `save_freq` to specify the frequency in number of batches seen.\n",
      "Source path =  /home/datasets/Project_data/train ; batch size = 25\n"
     ]
    },
    {
     "name": "stderr",
     "output_type": "stream",
     "text": [
      "/tmp/ipykernel_267/2256448371.py:28: UserWarning: `Model.fit_generator` is deprecated and will be removed in a future version. Please use `Model.fit`, which supports generators.\n",
      "  history=model.fit_generator(train_generator, steps_per_epoch=steps_per_epoch, epochs=num_epochs, verbose=1,\n"
     ]
    },
    {
     "name": "stdout",
     "output_type": "stream",
     "text": [
      "Epoch 1/20\n",
      "27/27 [==============================] - ETA: 0s - loss: 5.3403 - categorical_accuracy: 0.2519Source path =  /home/datasets/Project_data/val ; batch size = 25\n",
      "\n",
      "Epoch 00001: val_loss improved from inf to 3.70293, saving model to model_init_2023-03-1210_47_59.579050/model-00001-5.34026-0.25185-3.70293-0.15000.h5\n",
      "27/27 [==============================] - 80s 3s/step - loss: 5.3403 - categorical_accuracy: 0.2519 - val_loss: 3.7029 - val_categorical_accuracy: 0.1500 - lr: 0.0010\n",
      "Epoch 2/20\n",
      "27/27 [==============================] - ETA: 0s - loss: 3.2847 - categorical_accuracy: 0.3615\n",
      "Epoch 00002: val_loss did not improve from 3.70293\n",
      "27/27 [==============================] - 79s 3s/step - loss: 3.2847 - categorical_accuracy: 0.3615 - val_loss: 5.3580 - val_categorical_accuracy: 0.2600 - lr: 0.0010\n",
      "Epoch 3/20\n",
      "27/27 [==============================] - ETA: 0s - loss: 2.9643 - categorical_accuracy: 0.4370\n",
      "Epoch 00003: val_loss did not improve from 3.70293\n",
      "27/27 [==============================] - 79s 3s/step - loss: 2.9643 - categorical_accuracy: 0.4370 - val_loss: 6.9082 - val_categorical_accuracy: 0.2000 - lr: 0.0010\n",
      "Epoch 4/20\n",
      "27/27 [==============================] - ETA: 0s - loss: 2.8501 - categorical_accuracy: 0.4667\n",
      "Epoch 00004: val_loss did not improve from 3.70293\n",
      "27/27 [==============================] - 79s 3s/step - loss: 2.8501 - categorical_accuracy: 0.4667 - val_loss: 6.7780 - val_categorical_accuracy: 0.2300 - lr: 0.0010\n",
      "Epoch 5/20\n",
      "27/27 [==============================] - ETA: 0s - loss: 2.5974 - categorical_accuracy: 0.5111\n",
      "Epoch 00005: val_loss did not improve from 3.70293\n",
      "27/27 [==============================] - 80s 3s/step - loss: 2.5974 - categorical_accuracy: 0.5111 - val_loss: 6.4522 - val_categorical_accuracy: 0.3100 - lr: 0.0010\n",
      "Epoch 6/20\n",
      "27/27 [==============================] - ETA: 0s - loss: 2.4596 - categorical_accuracy: 0.5437\n",
      "Epoch 00006: val_loss did not improve from 3.70293\n",
      "\n",
      "Epoch 00006: ReduceLROnPlateau reducing learning rate to 1.0000000474974514e-05.\n",
      "27/27 [==============================] - 78s 3s/step - loss: 2.4596 - categorical_accuracy: 0.5437 - val_loss: 6.9987 - val_categorical_accuracy: 0.1900 - lr: 0.0010\n",
      "Epoch 7/20\n",
      "27/27 [==============================] - ETA: 0s - loss: 2.4094 - categorical_accuracy: 0.5570\n",
      "Epoch 00007: val_loss did not improve from 3.70293\n",
      "27/27 [==============================] - 79s 3s/step - loss: 2.4094 - categorical_accuracy: 0.5570 - val_loss: 6.0777 - val_categorical_accuracy: 0.2300 - lr: 1.0000e-05\n",
      "Epoch 8/20\n",
      "27/27 [==============================] - ETA: 0s - loss: 2.3563 - categorical_accuracy: 0.6030\n",
      "Epoch 00008: val_loss did not improve from 3.70293\n",
      "27/27 [==============================] - 78s 3s/step - loss: 2.3563 - categorical_accuracy: 0.6030 - val_loss: 6.9225 - val_categorical_accuracy: 0.1800 - lr: 1.0000e-05\n",
      "Epoch 9/20\n",
      "27/27 [==============================] - ETA: 0s - loss: 2.1929 - categorical_accuracy: 0.5926\n",
      "Epoch 00009: val_loss did not improve from 3.70293\n",
      "27/27 [==============================] - 79s 3s/step - loss: 2.1929 - categorical_accuracy: 0.5926 - val_loss: 6.8114 - val_categorical_accuracy: 0.1800 - lr: 1.0000e-05\n",
      "Epoch 10/20\n",
      "27/27 [==============================] - ETA: 0s - loss: 2.1673 - categorical_accuracy: 0.6207\n",
      "Epoch 00010: val_loss did not improve from 3.70293\n",
      "27/27 [==============================] - 79s 3s/step - loss: 2.1673 - categorical_accuracy: 0.6207 - val_loss: 6.7325 - val_categorical_accuracy: 0.1700 - lr: 1.0000e-05\n",
      "Epoch 11/20\n",
      "27/27 [==============================] - ETA: 0s - loss: 2.1883 - categorical_accuracy: 0.6133\n",
      "Epoch 00011: val_loss did not improve from 3.70293\n",
      "27/27 [==============================] - 81s 3s/step - loss: 2.1883 - categorical_accuracy: 0.6133 - val_loss: 5.4912 - val_categorical_accuracy: 0.3200 - lr: 1.0000e-05\n",
      "Epoch 12/20\n",
      "27/27 [==============================] - ETA: 0s - loss: 2.2210 - categorical_accuracy: 0.6207\n",
      "Epoch 00012: val_loss did not improve from 3.70293\n",
      "27/27 [==============================] - 78s 3s/step - loss: 2.2210 - categorical_accuracy: 0.6207 - val_loss: 5.7794 - val_categorical_accuracy: 0.2600 - lr: 1.0000e-05\n",
      "Epoch 13/20\n",
      "27/27 [==============================] - ETA: 0s - loss: 2.1643 - categorical_accuracy: 0.6385\n",
      "Epoch 00013: val_loss did not improve from 3.70293\n",
      "27/27 [==============================] - 79s 3s/step - loss: 2.1643 - categorical_accuracy: 0.6385 - val_loss: 5.5552 - val_categorical_accuracy: 0.2800 - lr: 1.0000e-05\n",
      "Epoch 14/20\n",
      "27/27 [==============================] - ETA: 0s - loss: 2.2028 - categorical_accuracy: 0.6044\n",
      "Epoch 00014: val_loss did not improve from 3.70293\n",
      "\n",
      "Epoch 00014: ReduceLROnPlateau reducing learning rate to 1.0000000656873453e-07.\n",
      "27/27 [==============================] - 82s 3s/step - loss: 2.2028 - categorical_accuracy: 0.6044 - val_loss: 5.0449 - val_categorical_accuracy: 0.3200 - lr: 1.0000e-05\n",
      "Epoch 15/20\n",
      "27/27 [==============================] - ETA: 0s - loss: 2.1115 - categorical_accuracy: 0.6444\n",
      "Epoch 00015: val_loss did not improve from 3.70293\n",
      "27/27 [==============================] - 80s 3s/step - loss: 2.1115 - categorical_accuracy: 0.6444 - val_loss: 4.5457 - val_categorical_accuracy: 0.3200 - lr: 1.0000e-07\n",
      "Epoch 16/20\n",
      "27/27 [==============================] - ETA: 0s - loss: 2.0951 - categorical_accuracy: 0.6356\n",
      "Epoch 00016: val_loss did not improve from 3.70293\n",
      "27/27 [==============================] - 82s 3s/step - loss: 2.0951 - categorical_accuracy: 0.6356 - val_loss: 5.2165 - val_categorical_accuracy: 0.2300 - lr: 1.0000e-07\n",
      "Epoch 17/20\n",
      "27/27 [==============================] - ETA: 0s - loss: 2.1369 - categorical_accuracy: 0.6474\n",
      "Epoch 00017: val_loss did not improve from 3.70293\n",
      "27/27 [==============================] - 82s 3s/step - loss: 2.1369 - categorical_accuracy: 0.6474 - val_loss: 4.3092 - val_categorical_accuracy: 0.2900 - lr: 1.0000e-07\n",
      "Epoch 18/20\n",
      "27/27 [==============================] - ETA: 0s - loss: 2.1657 - categorical_accuracy: 0.6415\n",
      "Epoch 00018: val_loss did not improve from 3.70293\n",
      "27/27 [==============================] - 82s 3s/step - loss: 2.1657 - categorical_accuracy: 0.6415 - val_loss: 4.0252 - val_categorical_accuracy: 0.3000 - lr: 1.0000e-07\n",
      "Epoch 19/20\n",
      "27/27 [==============================] - ETA: 0s - loss: 2.2307 - categorical_accuracy: 0.5852\n",
      "Epoch 00019: val_loss did not improve from 3.70293\n",
      "27/27 [==============================] - 83s 3s/step - loss: 2.2307 - categorical_accuracy: 0.5852 - val_loss: 3.8176 - val_categorical_accuracy: 0.2400 - lr: 1.0000e-07\n",
      "Epoch 20/20\n",
      "27/27 [==============================] - ETA: 0s - loss: 2.1413 - categorical_accuracy: 0.6281\n",
      "Epoch 00020: val_loss improved from 3.70293 to 3.38763, saving model to model_init_2023-03-1210_47_59.579050/model-00020-2.14134-0.62815-3.38763-0.31000.h5\n",
      "27/27 [==============================] - 82s 3s/step - loss: 2.1413 - categorical_accuracy: 0.6281 - val_loss: 3.3876 - val_categorical_accuracy: 0.3100 - lr: 1.0000e-07\n"
     ]
    }
   ],
   "source": [
    "print(\"Total Params:\", model.count_params())\n",
    "trained_model_5=train_model(model)"
   ]
  },
  {
   "cell_type": "code",
   "execution_count": 41,
   "metadata": {},
   "outputs": [
    {
     "data": {
      "image/png": "[encoded data removed]",
      "text/plain": [
       "<Figure size 1080x288 with 2 Axes>"
      ]
     },
     "metadata": {
      "needs_background": "light"
     },
     "output_type": "display_data"
    }
   ],
   "source": [
    "plot(trained_model_5)"
   ]
  },
  {
   "cell_type": "markdown",
   "metadata": {},
   "source": [
    "> Observation : \n",
    ">> Good Performance, val_loss & train loss are almost same at the end\n",
    ">> As well val_accuracy & train accuracy also touching eaching other at the end in the graph"
   ]
  },
  {
   "cell_type": "code",
   "execution_count": null,
   "metadata": {},
   "outputs": [],
   "source": [
    "aaaa"
   ]
  },
  {
   "cell_type": "markdown",
   "metadata": {},
   "source": [
    "### Model 6 : Transfer Learning + Resnet50 + dropout + GRU Layer"
   ]
  },
  {
   "cell_type": "code",
   "execution_count": 10,
   "metadata": {},
   "outputs": [],
   "source": [
    "from tensorflow.keras.applications.resnet50 import ResNet50"
   ]
  },
  {
   "cell_type": "code",
   "execution_count": 11,
   "metadata": {},
   "outputs": [
    {
     "name": "stderr",
     "output_type": "stream",
     "text": [
      "2023-03-12 10:48:31.684546: W tensorflow/core/common_runtime/gpu/gpu_bfc_allocator.cc:39] Overriding allow_growth setting because the TF_FORCE_GPU_ALLOW_GROWTH environment variable is set. Original config value was 0.\n",
      "2023-03-12 10:48:31.684622: I tensorflow/core/common_runtime/gpu/gpu_device.cc:1525] Created device /job:localhost/replica:0/task:0/device:GPU:0 with 14802 MB memory:  -> device: 0, name: Quadro RTX 5000, pci bus id: 0000:1c:00.0, compute capability: 7.5\n"
     ]
    }
   ],
   "source": [
    "num_featuremaps = [16,32,64,128]\n",
    "num_denselayers = [64,32,5]\n",
    "num_classes = 5\n",
    "frames = 15\n",
    "dropout = 0.25\n",
    "\n",
    "# Input\n",
    "input_shape=(frames,120,120,3)\n",
    "\n",
    "# Define model\n",
    "\n",
    "resnet_model = ResNet50(weights='imagenet', include_top=False)\n",
    "\n",
    "model = Sequential()\n",
    "model.add(TimeDistributed(resnet_model,input_shape=input_shape))\n",
    "model.add(TimeDistributed(BatchNormalization()))\n",
    "model.add(TimeDistributed(MaxPooling2D((2, 2))))\n",
    "model.add(TimeDistributed(Flatten()))\n",
    "\n",
    "\n",
    "model.add(GRU(64, return_sequences=False))\n",
    "model.add(Dropout(dropout))\n",
    "\n",
    "model.add(Dense(num_denselayers[1], activation='relu'))\n",
    "model.add(Dropout(dropout))\n",
    "\n",
    "# using Softmax as last layer\n",
    "model.add(Dense(num_classes, activation='softmax')) \n"
   ]
  },
  {
   "cell_type": "code",
   "execution_count": 12,
   "metadata": {},
   "outputs": [
    {
     "name": "stdout",
     "output_type": "stream",
     "text": [
      "Model: \"sequential\"\n",
      "_________________________________________________________________\n",
      " Layer (type)                Output Shape              Param #   \n",
      "=================================================================\n",
      " time_distributed (TimeDistr  (None, 15, 4, 4, 2048)   23587712  \n",
      " ibuted)                                                         \n",
      "                                                                 \n",
      " time_distributed_1 (TimeDis  (None, 15, 4, 4, 2048)   8192      \n",
      " tributed)                                                       \n",
      "                                                                 \n",
      " time_distributed_2 (TimeDis  (None, 15, 2, 2, 2048)   0         \n",
      " tributed)                                                       \n",
      "                                                                 \n",
      " time_distributed_3 (TimeDis  (None, 15, 8192)         0         \n",
      " tributed)                                                       \n",
      "                                                                 \n",
      " gru (GRU)                   (None, 64)                1585536   \n",
      "                                                                 \n",
      " dropout (Dropout)           (None, 64)                0         \n",
      "                                                                 \n",
      " dense (Dense)               (None, 32)                2080      \n",
      "                                                                 \n",
      " dropout_1 (Dropout)         (None, 32)                0         \n",
      "                                                                 \n",
      " dense_1 (Dense)             (None, 5)                 165       \n",
      "                                                                 \n",
      "=================================================================\n",
      "Total params: 25,183,685\n",
      "Trainable params: 25,126,469\n",
      "Non-trainable params: 57,216\n",
      "_________________________________________________________________\n",
      "None\n"
     ]
    }
   ],
   "source": [
    "optimiser = \"Adam\" #write your optimizer\n",
    "model.compile(optimizer=optimiser, loss='categorical_crossentropy', metrics=['categorical_accuracy'])\n",
    "\n",
    "# Model Summary\n",
    "print (model.summary())"
   ]
  },
  {
   "cell_type": "code",
   "execution_count": 13,
   "metadata": {},
   "outputs": [
    {
     "name": "stdout",
     "output_type": "stream",
     "text": [
      "Total Params: 25183685\n",
      "WARNING:tensorflow:`period` argument is deprecated. Please use `save_freq` to specify the frequency in number of batches seen.\n",
      "Source path =  /home/datasets/Project_data/train ; batch size = 15\n"
     ]
    },
    {
     "name": "stderr",
     "output_type": "stream",
     "text": [
      "/tmp/ipykernel_267/2256448371.py:28: UserWarning: `Model.fit_generator` is deprecated and will be removed in a future version. Please use `Model.fit`, which supports generators.\n",
      "  history=model.fit_generator(train_generator, steps_per_epoch=steps_per_epoch, epochs=num_epochs, verbose=1,\n"
     ]
    },
    {
     "name": "stdout",
     "output_type": "stream",
     "text": [
      "Epoch 1/20\n"
     ]
    },
    {
     "name": "stderr",
     "output_type": "stream",
     "text": [
      "2023-03-12 10:48:43.282682: I tensorflow/stream_executor/cuda/cuda_dnn.cc:377] Loaded cuDNN version 8302\n"
     ]
    },
    {
     "name": "stdout",
     "output_type": "stream",
     "text": [
      "45/45 [==============================] - ETA: 0s - loss: 1.4108 - categorical_accuracy: 0.4370Source path =  /home/datasets/Project_data/val ; batch size = 15\n",
      "\n",
      "Epoch 00001: val_loss improved from inf to 1.72230, saving model to model_init_2023-03-1210_47_59.579050/model-00001-1.41080-0.43704-1.72230-0.14286.h5\n"
     ]
    },
    {
     "name": "stderr",
     "output_type": "stream",
     "text": [
      "/usr/local/lib/python3.8/dist-packages/keras/engine/functional.py:1410: CustomMaskWarning: Custom mask layers require a config and must override get_config. When loading, the custom mask layer must be passed to the custom_objects argument.\n",
      "  layer_config = serialize_layer_fn(layer)\n"
     ]
    },
    {
     "name": "stdout",
     "output_type": "stream",
     "text": [
      "45/45 [==============================] - 95s 2s/step - loss: 1.4108 - categorical_accuracy: 0.4370 - val_loss: 1.7223 - val_categorical_accuracy: 0.1429 - lr: 0.0010\n",
      "Epoch 2/20\n",
      "45/45 [==============================] - ETA: 0s - loss: 1.0612 - categorical_accuracy: 0.6104\n",
      "Epoch 00002: val_loss did not improve from 1.72230\n",
      "45/45 [==============================] - 81s 2s/step - loss: 1.0612 - categorical_accuracy: 0.6104 - val_loss: 1.9516 - val_categorical_accuracy: 0.1524 - lr: 0.0010\n",
      "Epoch 3/20\n",
      "45/45 [==============================] - ETA: 0s - loss: 0.9787 - categorical_accuracy: 0.6178\n",
      "Epoch 00003: val_loss did not improve from 1.72230\n",
      "45/45 [==============================] - 80s 2s/step - loss: 0.9787 - categorical_accuracy: 0.6178 - val_loss: 1.8511 - val_categorical_accuracy: 0.1524 - lr: 0.0010\n",
      "Epoch 4/20\n",
      "45/45 [==============================] - ETA: 0s - loss: 1.0374 - categorical_accuracy: 0.6104\n",
      "Epoch 00004: val_loss did not improve from 1.72230\n",
      "45/45 [==============================] - 80s 2s/step - loss: 1.0374 - categorical_accuracy: 0.6104 - val_loss: 2.7344 - val_categorical_accuracy: 0.1905 - lr: 0.0010\n",
      "Epoch 5/20\n",
      "45/45 [==============================] - ETA: 0s - loss: 1.0598 - categorical_accuracy: 0.6104\n",
      "Epoch 00005: val_loss did not improve from 1.72230\n",
      "45/45 [==============================] - 80s 2s/step - loss: 1.0598 - categorical_accuracy: 0.6104 - val_loss: 2.1905 - val_categorical_accuracy: 0.1524 - lr: 0.0010\n",
      "Epoch 6/20\n",
      "45/45 [==============================] - ETA: 0s - loss: 1.1725 - categorical_accuracy: 0.5556\n",
      "Epoch 00006: val_loss did not improve from 1.72230\n",
      "\n",
      "Epoch 00006: ReduceLROnPlateau reducing learning rate to 1.0000000474974514e-05.\n",
      "45/45 [==============================] - 81s 2s/step - loss: 1.1725 - categorical_accuracy: 0.5556 - val_loss: 1.8128 - val_categorical_accuracy: 0.2762 - lr: 0.0010\n",
      "Epoch 7/20\n",
      "45/45 [==============================] - ETA: 0s - loss: 0.9425 - categorical_accuracy: 0.6681\n",
      "Epoch 00007: val_loss did not improve from 1.72230\n",
      "45/45 [==============================] - 80s 2s/step - loss: 0.9425 - categorical_accuracy: 0.6681 - val_loss: 1.9582 - val_categorical_accuracy: 0.2667 - lr: 1.0000e-05\n",
      "Epoch 8/20\n",
      "45/45 [==============================] - ETA: 0s - loss: 0.9149 - categorical_accuracy: 0.6681\n",
      "Epoch 00008: val_loss did not improve from 1.72230\n",
      "45/45 [==============================] - 80s 2s/step - loss: 0.9149 - categorical_accuracy: 0.6681 - val_loss: 2.1000 - val_categorical_accuracy: 0.2000 - lr: 1.0000e-05\n",
      "Epoch 9/20\n",
      "45/45 [==============================] - ETA: 0s - loss: 0.8845 - categorical_accuracy: 0.6696\n",
      "Epoch 00009: val_loss did not improve from 1.72230\n",
      "45/45 [==============================] - 79s 2s/step - loss: 0.8845 - categorical_accuracy: 0.6696 - val_loss: 2.3674 - val_categorical_accuracy: 0.1619 - lr: 1.0000e-05\n",
      "Epoch 10/20\n",
      "45/45 [==============================] - ETA: 0s - loss: 0.8776 - categorical_accuracy: 0.6830\n",
      "Epoch 00010: val_loss did not improve from 1.72230\n",
      "45/45 [==============================] - 81s 2s/step - loss: 0.8776 - categorical_accuracy: 0.6830 - val_loss: 2.3212 - val_categorical_accuracy: 0.3238 - lr: 1.0000e-05\n",
      "Epoch 11/20\n",
      "45/45 [==============================] - ETA: 0s - loss: 0.8759 - categorical_accuracy: 0.6770\n",
      "Epoch 00011: val_loss did not improve from 1.72230\n",
      "45/45 [==============================] - 80s 2s/step - loss: 0.8759 - categorical_accuracy: 0.6770 - val_loss: 1.9545 - val_categorical_accuracy: 0.3905 - lr: 1.0000e-05\n",
      "Epoch 12/20\n",
      "45/45 [==============================] - ETA: 0s - loss: 0.8429 - categorical_accuracy: 0.6948\n",
      "Epoch 00012: val_loss did not improve from 1.72230\n",
      "45/45 [==============================] - 81s 2s/step - loss: 0.8429 - categorical_accuracy: 0.6948 - val_loss: 1.7472 - val_categorical_accuracy: 0.4381 - lr: 1.0000e-05\n",
      "Epoch 13/20\n",
      "45/45 [==============================] - ETA: 0s - loss: 0.8276 - categorical_accuracy: 0.7096\n",
      "Epoch 00013: val_loss improved from 1.72230 to 1.23046, saving model to model_init_2023-03-1210_47_59.579050/model-00013-0.82758-0.70963-1.23046-0.60000.h5\n",
      "45/45 [==============================] - 81s 2s/step - loss: 0.8276 - categorical_accuracy: 0.7096 - val_loss: 1.2305 - val_categorical_accuracy: 0.6000 - lr: 1.0000e-05\n",
      "Epoch 14/20\n",
      "45/45 [==============================] - ETA: 0s - loss: 0.8062 - categorical_accuracy: 0.7126\n",
      "Epoch 00014: val_loss improved from 1.23046 to 1.03336, saving model to model_init_2023-03-1210_47_59.579050/model-00014-0.80615-0.71259-1.03336-0.70476.h5\n",
      "45/45 [==============================] - 81s 2s/step - loss: 0.8062 - categorical_accuracy: 0.7126 - val_loss: 1.0334 - val_categorical_accuracy: 0.7048 - lr: 1.0000e-05\n",
      "Epoch 15/20\n",
      "45/45 [==============================] - ETA: 0s - loss: 0.8054 - categorical_accuracy: 0.7200\n",
      "Epoch 00015: val_loss did not improve from 1.03336\n",
      "45/45 [==============================] - 80s 2s/step - loss: 0.8054 - categorical_accuracy: 0.7200 - val_loss: 1.1039 - val_categorical_accuracy: 0.6952 - lr: 1.0000e-05\n",
      "Epoch 16/20\n",
      "45/45 [==============================] - ETA: 0s - loss: 0.7932 - categorical_accuracy: 0.7096\n",
      "Epoch 00016: val_loss did not improve from 1.03336\n",
      "45/45 [==============================] - 79s 2s/step - loss: 0.7932 - categorical_accuracy: 0.7096 - val_loss: 1.0580 - val_categorical_accuracy: 0.7143 - lr: 1.0000e-05\n",
      "Epoch 17/20\n",
      "45/45 [==============================] - ETA: 0s - loss: 0.7756 - categorical_accuracy: 0.7185\n",
      "Epoch 00017: val_loss did not improve from 1.03336\n",
      "45/45 [==============================] - 80s 2s/step - loss: 0.7756 - categorical_accuracy: 0.7185 - val_loss: 1.1682 - val_categorical_accuracy: 0.7619 - lr: 1.0000e-05\n",
      "Epoch 18/20\n",
      "45/45 [==============================] - ETA: 0s - loss: 0.7622 - categorical_accuracy: 0.7541\n",
      "Epoch 00018: val_loss did not improve from 1.03336\n",
      "45/45 [==============================] - 79s 2s/step - loss: 0.7622 - categorical_accuracy: 0.7541 - val_loss: 1.0549 - val_categorical_accuracy: 0.7429 - lr: 1.0000e-05\n",
      "Epoch 19/20\n",
      "45/45 [==============================] - ETA: 0s - loss: 0.7085 - categorical_accuracy: 0.7867\n",
      "Epoch 00019: val_loss improved from 1.03336 to 0.99030, saving model to model_init_2023-03-1210_47_59.579050/model-00019-0.70854-0.78667-0.99030-0.72381.h5\n",
      "45/45 [==============================] - 80s 2s/step - loss: 0.7085 - categorical_accuracy: 0.7867 - val_loss: 0.9903 - val_categorical_accuracy: 0.7238 - lr: 1.0000e-05\n",
      "Epoch 20/20\n",
      "45/45 [==============================] - ETA: 0s - loss: 0.7271 - categorical_accuracy: 0.7407\n",
      "Epoch 00020: val_loss improved from 0.99030 to 0.98957, saving model to model_init_2023-03-1210_47_59.579050/model-00020-0.72708-0.74074-0.98957-0.70476.h5\n",
      "45/45 [==============================] - 80s 2s/step - loss: 0.7271 - categorical_accuracy: 0.7407 - val_loss: 0.9896 - val_categorical_accuracy: 0.7048 - lr: 1.0000e-05\n"
     ]
    }
   ],
   "source": [
    "print(\"Total Params:\", model.count_params())\n",
    "trained_model_6=train_model(model)"
   ]
  },
  {
   "cell_type": "code",
   "execution_count": 14,
   "metadata": {},
   "outputs": [
    {
     "data": {
      "image/png": "[encoded data removed]",
      "text/plain": [
       "<Figure size 1080x288 with 2 Axes>"
      ]
     },
     "metadata": {
      "needs_background": "light"
     },
     "output_type": "display_data"
    }
   ],
   "source": [
    "plot(trained_model_6)"
   ]
  },
  {
   "cell_type": "markdown",
   "metadata": {},
   "source": [
    "> Observation : \n",
    ">> Degraded the performance compared to last model"
   ]
  },
  {
   "cell_type": "markdown",
   "metadata": {},
   "source": [
    "### Model 7 : Transfer Learning + VGGNET + dropout + GRU Layer"
   ]
  },
  {
   "cell_type": "code",
   "execution_count": 15,
   "metadata": {},
   "outputs": [],
   "source": [
    "from keras.applications.vgg16 import VGG16"
   ]
  },
  {
   "cell_type": "code",
   "execution_count": 16,
   "metadata": {},
   "outputs": [
    {
     "name": "stdout",
     "output_type": "stream",
     "text": [
      "Downloading data from https://storage.googleapis.com/tensorflow/keras-applications/vgg16/vgg16_weights_tf_dim_ordering_tf_kernels_notop.h5\n",
      "58892288/58889256 [==============================] - 2s 0us/step\n",
      "58900480/58889256 [==============================] - 2s 0us/step\n"
     ]
    }
   ],
   "source": [
    "num_featuremaps = [16,32,64,128]\n",
    "num_denselayers = [64,32,5]\n",
    "num_classes = 5\n",
    "frames = 15\n",
    "dropout = 0.25\n",
    "\n",
    "# Input\n",
    "input_shape=(frames,120,120,3)\n",
    "\n",
    "# Define model\n",
    "vgg_model = VGG16(weights='imagenet', include_top=False)\n",
    "\n",
    "model = Sequential()\n",
    "model.add(TimeDistributed(vgg_model,input_shape=input_shape))\n",
    "model.add(TimeDistributed(BatchNormalization()))\n",
    "model.add(TimeDistributed(MaxPooling2D((2, 2))))\n",
    "model.add(TimeDistributed(Flatten()))\n",
    "\n",
    "model.add(GRU(64, return_sequences=False))\n",
    "model.add(Dropout(dropout))\n",
    "\n",
    "model.add(Dense(num_denselayers[1], activation='relu'))\n",
    "model.add(Dropout(dropout))\n",
    "\n",
    "# using Softmax as last layer\n",
    "model.add(Dense(num_classes, activation='softmax')) "
   ]
  },
  {
   "cell_type": "code",
   "execution_count": 17,
   "metadata": {},
   "outputs": [
    {
     "name": "stdout",
     "output_type": "stream",
     "text": [
      "Model: \"sequential_1\"\n",
      "_________________________________________________________________\n",
      " Layer (type)                Output Shape              Param #   \n",
      "=================================================================\n",
      " time_distributed_4 (TimeDis  (None, 15, 3, 3, 512)    14714688  \n",
      " tributed)                                                       \n",
      "                                                                 \n",
      " time_distributed_5 (TimeDis  (None, 15, 3, 3, 512)    2048      \n",
      " tributed)                                                       \n",
      "                                                                 \n",
      " time_distributed_6 (TimeDis  (None, 15, 1, 1, 512)    0         \n",
      " tributed)                                                       \n",
      "                                                                 \n",
      " time_distributed_7 (TimeDis  (None, 15, 512)          0         \n",
      " tributed)                                                       \n",
      "                                                                 \n",
      " gru_1 (GRU)                 (None, 64)                110976    \n",
      "                                                                 \n",
      " dropout_2 (Dropout)         (None, 64)                0         \n",
      "                                                                 \n",
      " dense_2 (Dense)             (None, 32)                2080      \n",
      "                                                                 \n",
      " dropout_3 (Dropout)         (None, 32)                0         \n",
      "                                                                 \n",
      " dense_3 (Dense)             (None, 5)                 165       \n",
      "                                                                 \n",
      "=================================================================\n",
      "Total params: 14,829,957\n",
      "Trainable params: 14,828,933\n",
      "Non-trainable params: 1,024\n",
      "_________________________________________________________________\n",
      "None\n"
     ]
    }
   ],
   "source": [
    "optimiser = \"Adam\" #write your optimizer\n",
    "model.compile(optimizer=optimiser, loss='categorical_crossentropy', metrics=['categorical_accuracy'])\n",
    "\n",
    "# Model Summary\n",
    "print (model.summary())"
   ]
  },
  {
   "cell_type": "code",
   "execution_count": 18,
   "metadata": {},
   "outputs": [
    {
     "name": "stdout",
     "output_type": "stream",
     "text": [
      "Total Params: 14829957\n",
      "WARNING:tensorflow:`period` argument is deprecated. Please use `save_freq` to specify the frequency in number of batches seen.\n",
      "Source path =  /home/datasets/Project_data/train ; batch size = 15\n"
     ]
    },
    {
     "name": "stderr",
     "output_type": "stream",
     "text": [
      "/tmp/ipykernel_267/2256448371.py:28: UserWarning: `Model.fit_generator` is deprecated and will be removed in a future version. Please use `Model.fit`, which supports generators.\n",
      "  history=model.fit_generator(train_generator, steps_per_epoch=steps_per_epoch, epochs=num_epochs, verbose=1,\n"
     ]
    },
    {
     "name": "stdout",
     "output_type": "stream",
     "text": [
      "Epoch 1/20\n",
      "45/45 [==============================] - ETA: 0s - loss: 1.6534 - categorical_accuracy: 0.2711Source path =  /home/datasets/Project_data/val ; batch size = 15\n",
      "\n",
      "Epoch 00001: val_loss improved from inf to 1.72861, saving model to model_init_2023-03-1210_47_59.579050/model-00001-1.65342-0.27111-1.72861-0.20952.h5\n",
      "45/45 [==============================] - 84s 2s/step - loss: 1.6534 - categorical_accuracy: 0.2711 - val_loss: 1.7286 - val_categorical_accuracy: 0.2095 - lr: 0.0010\n",
      "Epoch 2/20\n",
      "45/45 [==============================] - ETA: 0s - loss: 1.5220 - categorical_accuracy: 0.3170\n",
      "Epoch 00002: val_loss did not improve from 1.72861\n",
      "45/45 [==============================] - 81s 2s/step - loss: 1.5220 - categorical_accuracy: 0.3170 - val_loss: 1.8148 - val_categorical_accuracy: 0.2190 - lr: 0.0010\n",
      "Epoch 3/20\n",
      "45/45 [==============================] - ETA: 0s - loss: 1.4606 - categorical_accuracy: 0.3511\n",
      "Epoch 00003: val_loss did not improve from 1.72861\n",
      "45/45 [==============================] - 81s 2s/step - loss: 1.4606 - categorical_accuracy: 0.3511 - val_loss: 1.8288 - val_categorical_accuracy: 0.2476 - lr: 0.0010\n",
      "Epoch 4/20\n",
      "45/45 [==============================] - ETA: 0s - loss: 1.4200 - categorical_accuracy: 0.3511\n",
      "Epoch 00004: val_loss did not improve from 1.72861\n",
      "45/45 [==============================] - 81s 2s/step - loss: 1.4200 - categorical_accuracy: 0.3511 - val_loss: 1.7403 - val_categorical_accuracy: 0.2381 - lr: 0.0010\n",
      "Epoch 5/20\n",
      "45/45 [==============================] - ETA: 0s - loss: 1.3781 - categorical_accuracy: 0.3926\n",
      "Epoch 00005: val_loss improved from 1.72861 to 1.56038, saving model to model_init_2023-03-1210_47_59.579050/model-00005-1.37813-0.39259-1.56038-0.38095.h5\n",
      "45/45 [==============================] - 79s 2s/step - loss: 1.3781 - categorical_accuracy: 0.3926 - val_loss: 1.5604 - val_categorical_accuracy: 0.3810 - lr: 0.0010\n",
      "Epoch 6/20\n",
      "45/45 [==============================] - ETA: 0s - loss: 1.3109 - categorical_accuracy: 0.4533\n",
      "Epoch 00006: val_loss improved from 1.56038 to 1.44554, saving model to model_init_2023-03-1210_47_59.579050/model-00006-1.31093-0.45333-1.44554-0.47619.h5\n",
      "45/45 [==============================] - 82s 2s/step - loss: 1.3109 - categorical_accuracy: 0.4533 - val_loss: 1.4455 - val_categorical_accuracy: 0.4762 - lr: 0.0010\n",
      "Epoch 7/20\n",
      "45/45 [==============================] - ETA: 0s - loss: 1.2723 - categorical_accuracy: 0.4696\n",
      "Epoch 00007: val_loss did not improve from 1.44554\n",
      "45/45 [==============================] - 80s 2s/step - loss: 1.2723 - categorical_accuracy: 0.4696 - val_loss: 1.8080 - val_categorical_accuracy: 0.3048 - lr: 0.0010\n",
      "Epoch 8/20\n",
      "45/45 [==============================] - ETA: 0s - loss: 1.3270 - categorical_accuracy: 0.4356\n",
      "Epoch 00008: val_loss did not improve from 1.44554\n",
      "45/45 [==============================] - 81s 2s/step - loss: 1.3270 - categorical_accuracy: 0.4356 - val_loss: 1.7965 - val_categorical_accuracy: 0.3333 - lr: 0.0010\n",
      "Epoch 9/20\n",
      "45/45 [==============================] - ETA: 0s - loss: 1.2906 - categorical_accuracy: 0.4548\n",
      "Epoch 00009: val_loss improved from 1.44554 to 1.39958, saving model to model_init_2023-03-1210_47_59.579050/model-00009-1.29063-0.45481-1.39958-0.52381.h5\n",
      "45/45 [==============================] - 81s 2s/step - loss: 1.2906 - categorical_accuracy: 0.4548 - val_loss: 1.3996 - val_categorical_accuracy: 0.5238 - lr: 0.0010\n",
      "Epoch 10/20\n",
      "45/45 [==============================] - ETA: 0s - loss: 1.2147 - categorical_accuracy: 0.5067\n",
      "Epoch 00010: val_loss did not improve from 1.39958\n",
      "45/45 [==============================] - 80s 2s/step - loss: 1.2147 - categorical_accuracy: 0.5067 - val_loss: 1.9739 - val_categorical_accuracy: 0.1905 - lr: 0.0010\n",
      "Epoch 11/20\n",
      "45/45 [==============================] - ETA: 0s - loss: 1.1391 - categorical_accuracy: 0.5156\n",
      "Epoch 00011: val_loss did not improve from 1.39958\n",
      "45/45 [==============================] - 81s 2s/step - loss: 1.1391 - categorical_accuracy: 0.5156 - val_loss: 1.4647 - val_categorical_accuracy: 0.3810 - lr: 0.0010\n",
      "Epoch 12/20\n",
      "45/45 [==============================] - ETA: 0s - loss: 1.2157 - categorical_accuracy: 0.5230\n",
      "Epoch 00012: val_loss did not improve from 1.39958\n",
      "45/45 [==============================] - 80s 2s/step - loss: 1.2157 - categorical_accuracy: 0.5230 - val_loss: 2.4153 - val_categorical_accuracy: 0.2857 - lr: 0.0010\n",
      "Epoch 13/20\n",
      "45/45 [==============================] - ETA: 0s - loss: 1.1469 - categorical_accuracy: 0.5393\n",
      "Epoch 00013: val_loss improved from 1.39958 to 1.32387, saving model to model_init_2023-03-1210_47_59.579050/model-00013-1.14690-0.53926-1.32387-0.53333.h5\n",
      "45/45 [==============================] - 81s 2s/step - loss: 1.1469 - categorical_accuracy: 0.5393 - val_loss: 1.3239 - val_categorical_accuracy: 0.5333 - lr: 0.0010\n",
      "Epoch 14/20\n",
      "45/45 [==============================] - ETA: 0s - loss: 1.1019 - categorical_accuracy: 0.5733\n",
      "Epoch 00014: val_loss did not improve from 1.32387\n",
      "45/45 [==============================] - 80s 2s/step - loss: 1.1019 - categorical_accuracy: 0.5733 - val_loss: 1.4758 - val_categorical_accuracy: 0.4952 - lr: 0.0010\n",
      "Epoch 15/20\n",
      "45/45 [==============================] - ETA: 0s - loss: 1.0922 - categorical_accuracy: 0.5822\n",
      "Epoch 00015: val_loss did not improve from 1.32387\n",
      "45/45 [==============================] - 80s 2s/step - loss: 1.0922 - categorical_accuracy: 0.5822 - val_loss: 1.5474 - val_categorical_accuracy: 0.4476 - lr: 0.0010\n",
      "Epoch 16/20\n",
      "45/45 [==============================] - ETA: 0s - loss: 1.0097 - categorical_accuracy: 0.6178\n",
      "Epoch 00016: val_loss improved from 1.32387 to 1.27329, saving model to model_init_2023-03-1210_47_59.579050/model-00016-1.00975-0.61778-1.27329-0.55238.h5\n",
      "45/45 [==============================] - 82s 2s/step - loss: 1.0097 - categorical_accuracy: 0.6178 - val_loss: 1.2733 - val_categorical_accuracy: 0.5524 - lr: 0.0010\n",
      "Epoch 17/20\n",
      "45/45 [==============================] - ETA: 0s - loss: 0.9336 - categorical_accuracy: 0.6459\n",
      "Epoch 00017: val_loss did not improve from 1.27329\n",
      "45/45 [==============================] - 81s 2s/step - loss: 0.9336 - categorical_accuracy: 0.6459 - val_loss: 1.5970 - val_categorical_accuracy: 0.4286 - lr: 0.0010\n",
      "Epoch 18/20\n",
      "45/45 [==============================] - ETA: 0s - loss: 0.9749 - categorical_accuracy: 0.6281\n",
      "Epoch 00018: val_loss did not improve from 1.27329\n",
      "45/45 [==============================] - 81s 2s/step - loss: 0.9749 - categorical_accuracy: 0.6281 - val_loss: 1.3040 - val_categorical_accuracy: 0.5714 - lr: 0.0010\n",
      "Epoch 19/20\n",
      "45/45 [==============================] - ETA: 0s - loss: 0.8930 - categorical_accuracy: 0.6593\n",
      "Epoch 00019: val_loss did not improve from 1.27329\n",
      "45/45 [==============================] - 80s 2s/step - loss: 0.8930 - categorical_accuracy: 0.6593 - val_loss: 2.9103 - val_categorical_accuracy: 0.2476 - lr: 0.0010\n",
      "Epoch 20/20\n",
      "45/45 [==============================] - ETA: 0s - loss: 0.8431 - categorical_accuracy: 0.6800\n",
      "Epoch 00020: val_loss improved from 1.27329 to 1.23684, saving model to model_init_2023-03-1210_47_59.579050/model-00020-0.84314-0.68000-1.23684-0.61905.h5\n",
      "45/45 [==============================] - 81s 2s/step - loss: 0.8431 - categorical_accuracy: 0.6800 - val_loss: 1.2368 - val_categorical_accuracy: 0.6190 - lr: 0.0010\n"
     ]
    }
   ],
   "source": [
    "print(\"Total Params:\", model.count_params())\n",
    "trained_model_7=train_model(model)"
   ]
  },
  {
   "cell_type": "code",
   "execution_count": 19,
   "metadata": {},
   "outputs": [
    {
     "data": {
      "image/png": "[encoded data removed]",
      "text/plain": [
       "<Figure size 1080x288 with 2 Axes>"
      ]
     },
     "metadata": {
      "needs_background": "light"
     },
     "output_type": "display_data"
    }
   ],
   "source": [
    "plot(trained_model_7)"
   ]
  },
  {
   "cell_type": "markdown",
   "metadata": {},
   "source": [
    "> Observation : \n",
    ">> Val_accuracy is more than train accuracy, and train / val loss is close enough at the end"
   ]
  },
  {
   "cell_type": "markdown",
   "metadata": {},
   "source": [
    "### Model 8 : Transfer Learning + mobilenet + dropout + GRU Layer"
   ]
  },
  {
   "cell_type": "code",
   "execution_count": 20,
   "metadata": {},
   "outputs": [],
   "source": [
    "from keras.applications import  mobilenet\n"
   ]
  },
  {
   "cell_type": "code",
   "execution_count": 21,
   "metadata": {},
   "outputs": [
    {
     "name": "stdout",
     "output_type": "stream",
     "text": [
      "WARNING:tensorflow:`input_shape` is undefined or non-square, or `rows` is not in [128, 160, 192, 224]. Weights for input shape (224, 224) will be loaded as the default.\n",
      "Downloading data from https://storage.googleapis.com/tensorflow/keras-applications/mobilenet/mobilenet_1_0_224_tf_no_top.h5\n",
      "17227776/17225924 [==============================] - 2s 0us/step\n",
      "17235968/17225924 [==============================] - 2s 0us/step\n"
     ]
    }
   ],
   "source": [
    "num_featuremaps = [16,32,64,128]\n",
    "num_denselayers = [64,32,5]\n",
    "num_classes = 5\n",
    "frames = 15\n",
    "dropout = 0.25\n",
    "\n",
    "\n",
    "# Input\n",
    "input_shape=(frames,120,120,3)\n",
    "\n",
    "# Define model\n",
    "mobile_model = mobilenet.MobileNet(weights='imagenet', include_top=False)\n",
    "\n",
    "model = Sequential()\n",
    "model.add(TimeDistributed(mobile_model,input_shape=input_shape))\n",
    "\n",
    "model.add(TimeDistributed(BatchNormalization()))\n",
    "model.add(TimeDistributed(MaxPooling2D((2, 2))))\n",
    "model.add(TimeDistributed(Flatten()))\n",
    "\n",
    "model.add(GRU(64, return_sequences=False))\n",
    "model.add(Dropout(dropout))\n",
    "\n",
    "model.add(Dense(num_denselayers[1],activation='relu'))\n",
    "model.add(Dropout(dropout))\n",
    "\n",
    "# using Softmax as last layer\n",
    "model.add(Dense(num_classes, activation='softmax')) "
   ]
  },
  {
   "cell_type": "code",
   "execution_count": 22,
   "metadata": {},
   "outputs": [
    {
     "name": "stdout",
     "output_type": "stream",
     "text": [
      "Model: \"sequential_2\"\n",
      "_________________________________________________________________\n",
      " Layer (type)                Output Shape              Param #   \n",
      "=================================================================\n",
      " time_distributed_8 (TimeDis  (None, 15, 3, 3, 1024)   3228864   \n",
      " tributed)                                                       \n",
      "                                                                 \n",
      " time_distributed_9 (TimeDis  (None, 15, 3, 3, 1024)   4096      \n",
      " tributed)                                                       \n",
      "                                                                 \n",
      " time_distributed_10 (TimeDi  (None, 15, 1, 1, 1024)   0         \n",
      " stributed)                                                      \n",
      "                                                                 \n",
      " time_distributed_11 (TimeDi  (None, 15, 1024)         0         \n",
      " stributed)                                                      \n",
      "                                                                 \n",
      " gru_2 (GRU)                 (None, 64)                209280    \n",
      "                                                                 \n",
      " dropout_4 (Dropout)         (None, 64)                0         \n",
      "                                                                 \n",
      " dense_4 (Dense)             (None, 32)                2080      \n",
      "                                                                 \n",
      " dropout_5 (Dropout)         (None, 32)                0         \n",
      "                                                                 \n",
      " dense_5 (Dense)             (None, 5)                 165       \n",
      "                                                                 \n",
      "=================================================================\n",
      "Total params: 3,444,485\n",
      "Trainable params: 3,420,549\n",
      "Non-trainable params: 23,936\n",
      "_________________________________________________________________\n",
      "None\n"
     ]
    }
   ],
   "source": [
    "optimiser = \"Adam\" #write your optimizer\n",
    "model.compile(optimizer=optimiser, loss='categorical_crossentropy', metrics=['categorical_accuracy'])\n",
    "\n",
    "# Model Summary\n",
    "print (model.summary())"
   ]
  },
  {
   "cell_type": "code",
   "execution_count": 23,
   "metadata": {},
   "outputs": [
    {
     "name": "stdout",
     "output_type": "stream",
     "text": [
      "Total Params: 3444485\n",
      "WARNING:tensorflow:`period` argument is deprecated. Please use `save_freq` to specify the frequency in number of batches seen.\n",
      "Source path =  /home/datasets/Project_data/train ; batch size = 15\n"
     ]
    },
    {
     "name": "stderr",
     "output_type": "stream",
     "text": [
      "/tmp/ipykernel_267/2256448371.py:28: UserWarning: `Model.fit_generator` is deprecated and will be removed in a future version. Please use `Model.fit`, which supports generators.\n",
      "  history=model.fit_generator(train_generator, steps_per_epoch=steps_per_epoch, epochs=num_epochs, verbose=1,\n"
     ]
    },
    {
     "name": "stdout",
     "output_type": "stream",
     "text": [
      "Epoch 1/20\n",
      "45/45 [==============================] - ETA: 0s - loss: 1.0754 - categorical_accuracy: 0.6015Source path =  /home/datasets/Project_data/val ; batch size = 15\n",
      "\n",
      "Epoch 00001: val_loss improved from inf to 1.43064, saving model to model_init_2023-03-1210_47_59.579050/model-00001-1.07536-0.60148-1.43064-0.49524.h5\n",
      "45/45 [==============================] - 85s 2s/step - loss: 1.0754 - categorical_accuracy: 0.6015 - val_loss: 1.4306 - val_categorical_accuracy: 0.4952 - lr: 0.0010\n",
      "Epoch 2/20\n",
      "45/45 [==============================] - ETA: 0s - loss: 0.4264 - categorical_accuracy: 0.8800\n",
      "Epoch 00002: val_loss improved from 1.43064 to 0.89498, saving model to model_init_2023-03-1210_47_59.579050/model-00002-0.42643-0.88000-0.89498-0.85714.h5\n",
      "45/45 [==============================] - 81s 2s/step - loss: 0.4264 - categorical_accuracy: 0.8800 - val_loss: 0.8950 - val_categorical_accuracy: 0.8571 - lr: 0.0010\n",
      "Epoch 3/20\n",
      "45/45 [==============================] - ETA: 0s - loss: 0.2572 - categorical_accuracy: 0.9378\n",
      "Epoch 00003: val_loss did not improve from 0.89498\n",
      "45/45 [==============================] - 80s 2s/step - loss: 0.2572 - categorical_accuracy: 0.9378 - val_loss: 1.0722 - val_categorical_accuracy: 0.8190 - lr: 0.0010\n",
      "Epoch 4/20\n",
      "45/45 [==============================] - ETA: 0s - loss: 0.2394 - categorical_accuracy: 0.9585\n",
      "Epoch 00004: val_loss did not improve from 0.89498\n",
      "45/45 [==============================] - 80s 2s/step - loss: 0.2394 - categorical_accuracy: 0.9585 - val_loss: 1.2077 - val_categorical_accuracy: 0.8571 - lr: 0.0010\n",
      "Epoch 5/20\n",
      "45/45 [==============================] - ETA: 0s - loss: 0.1630 - categorical_accuracy: 0.9630\n",
      "Epoch 00005: val_loss did not improve from 0.89498\n",
      "45/45 [==============================] - 80s 2s/step - loss: 0.1630 - categorical_accuracy: 0.9630 - val_loss: 1.3834 - val_categorical_accuracy: 0.8571 - lr: 0.0010\n",
      "Epoch 6/20\n",
      "45/45 [==============================] - ETA: 0s - loss: 0.2668 - categorical_accuracy: 0.9348\n",
      "Epoch 00006: val_loss did not improve from 0.89498\n",
      "45/45 [==============================] - 80s 2s/step - loss: 0.2668 - categorical_accuracy: 0.9348 - val_loss: 1.3145 - val_categorical_accuracy: 0.8000 - lr: 0.0010\n",
      "Epoch 7/20\n",
      "45/45 [==============================] - ETA: 0s - loss: 0.2179 - categorical_accuracy: 0.9393\n",
      "Epoch 00007: val_loss did not improve from 0.89498\n",
      "\n",
      "Epoch 00007: ReduceLROnPlateau reducing learning rate to 1.0000000474974514e-05.\n",
      "45/45 [==============================] - 80s 2s/step - loss: 0.2179 - categorical_accuracy: 0.9393 - val_loss: 1.0753 - val_categorical_accuracy: 0.8476 - lr: 0.0010\n",
      "Epoch 8/20\n",
      "45/45 [==============================] - ETA: 0s - loss: 0.1512 - categorical_accuracy: 0.9630\n",
      "Epoch 00008: val_loss improved from 0.89498 to 0.80525, saving model to model_init_2023-03-1210_47_59.579050/model-00008-0.15122-0.96296-0.80525-0.85714.h5\n",
      "45/45 [==============================] - 81s 2s/step - loss: 0.1512 - categorical_accuracy: 0.9630 - val_loss: 0.8052 - val_categorical_accuracy: 0.8571 - lr: 1.0000e-05\n",
      "Epoch 9/20\n",
      "45/45 [==============================] - ETA: 0s - loss: 0.2036 - categorical_accuracy: 0.9659\n",
      "Epoch 00009: val_loss did not improve from 0.80525\n",
      "45/45 [==============================] - 81s 2s/step - loss: 0.2036 - categorical_accuracy: 0.9659 - val_loss: 1.0133 - val_categorical_accuracy: 0.8857 - lr: 1.0000e-05\n",
      "Epoch 10/20\n",
      "45/45 [==============================] - ETA: 0s - loss: 0.1485 - categorical_accuracy: 0.9704\n",
      "Epoch 00010: val_loss did not improve from 0.80525\n",
      "45/45 [==============================] - 79s 2s/step - loss: 0.1485 - categorical_accuracy: 0.9704 - val_loss: 1.1164 - val_categorical_accuracy: 0.8667 - lr: 1.0000e-05\n",
      "Epoch 11/20\n",
      "45/45 [==============================] - ETA: 0s - loss: 0.1336 - categorical_accuracy: 0.9778\n",
      "Epoch 00011: val_loss did not improve from 0.80525\n",
      "45/45 [==============================] - 79s 2s/step - loss: 0.1336 - categorical_accuracy: 0.9778 - val_loss: 0.9944 - val_categorical_accuracy: 0.8857 - lr: 1.0000e-05\n",
      "Epoch 12/20\n",
      "45/45 [==============================] - ETA: 0s - loss: 0.1719 - categorical_accuracy: 0.9719\n",
      "Epoch 00012: val_loss did not improve from 0.80525\n",
      "45/45 [==============================] - 79s 2s/step - loss: 0.1719 - categorical_accuracy: 0.9719 - val_loss: 1.0049 - val_categorical_accuracy: 0.8857 - lr: 1.0000e-05\n",
      "Epoch 13/20\n",
      "45/45 [==============================] - ETA: 0s - loss: 0.1111 - categorical_accuracy: 0.9822\n",
      "Epoch 00013: val_loss improved from 0.80525 to 0.77806, saving model to model_init_2023-03-1210_47_59.579050/model-00013-0.11114-0.98222-0.77806-0.88571.h5\n",
      "45/45 [==============================] - 80s 2s/step - loss: 0.1111 - categorical_accuracy: 0.9822 - val_loss: 0.7781 - val_categorical_accuracy: 0.8857 - lr: 1.0000e-05\n",
      "Epoch 14/20\n",
      "45/45 [==============================] - ETA: 0s - loss: 0.1244 - categorical_accuracy: 0.9733\n",
      "Epoch 00014: val_loss did not improve from 0.77806\n",
      "45/45 [==============================] - 79s 2s/step - loss: 0.1244 - categorical_accuracy: 0.9733 - val_loss: 0.8323 - val_categorical_accuracy: 0.9048 - lr: 1.0000e-05\n",
      "Epoch 15/20\n",
      "45/45 [==============================] - ETA: 0s - loss: 0.1373 - categorical_accuracy: 0.9778\n",
      "Epoch 00015: val_loss did not improve from 0.77806\n",
      "45/45 [==============================] - 80s 2s/step - loss: 0.1373 - categorical_accuracy: 0.9778 - val_loss: 0.9944 - val_categorical_accuracy: 0.8857 - lr: 1.0000e-05\n",
      "Epoch 16/20\n",
      "45/45 [==============================] - ETA: 0s - loss: 0.1417 - categorical_accuracy: 0.9793\n",
      "Epoch 00016: val_loss did not improve from 0.77806\n",
      "45/45 [==============================] - 81s 2s/step - loss: 0.1417 - categorical_accuracy: 0.9793 - val_loss: 0.9747 - val_categorical_accuracy: 0.8857 - lr: 1.0000e-05\n",
      "Epoch 17/20\n",
      "45/45 [==============================] - ETA: 0s - loss: 0.1306 - categorical_accuracy: 0.9837\n",
      "Epoch 00017: val_loss did not improve from 0.77806\n",
      "45/45 [==============================] - 87s 2s/step - loss: 0.1306 - categorical_accuracy: 0.9837 - val_loss: 1.0903 - val_categorical_accuracy: 0.8857 - lr: 1.0000e-05\n",
      "Epoch 18/20\n",
      "45/45 [==============================] - ETA: 0s - loss: 0.1082 - categorical_accuracy: 0.9778\n",
      "Epoch 00018: val_loss did not improve from 0.77806\n",
      "\n",
      "Epoch 00018: ReduceLROnPlateau reducing learning rate to 1.0000000656873453e-07.\n",
      "45/45 [==============================] - 84s 2s/step - loss: 0.1082 - categorical_accuracy: 0.9778 - val_loss: 0.9437 - val_categorical_accuracy: 0.8571 - lr: 1.0000e-05\n",
      "Epoch 19/20\n",
      "45/45 [==============================] - ETA: 0s - loss: 0.1284 - categorical_accuracy: 0.9778\n",
      "Epoch 00019: val_loss did not improve from 0.77806\n",
      "45/45 [==============================] - 80s 2s/step - loss: 0.1284 - categorical_accuracy: 0.9778 - val_loss: 0.8709 - val_categorical_accuracy: 0.8762 - lr: 1.0000e-07\n",
      "Epoch 20/20\n",
      "45/45 [==============================] - ETA: 0s - loss: 0.1002 - categorical_accuracy: 0.9867\n",
      "Epoch 00020: val_loss did not improve from 0.77806\n",
      "45/45 [==============================] - 82s 2s/step - loss: 0.1002 - categorical_accuracy: 0.9867 - val_loss: 0.8388 - val_categorical_accuracy: 0.8762 - lr: 1.0000e-07\n"
     ]
    }
   ],
   "source": [
    "print(\"Total Params:\", model.count_params())\n",
    "trained_model_8=train_model(model)"
   ]
  },
  {
   "cell_type": "code",
   "execution_count": 24,
   "metadata": {},
   "outputs": [
    {
     "data": {
      "image/png": "[encoded data removed]",
      "text/plain": [
       "<Figure size 1080x288 with 2 Axes>"
      ]
     },
     "metadata": {
      "needs_background": "light"
     },
     "output_type": "display_data"
    }
   ],
   "source": [
    "plot(trained_model_8)"
   ]
  },
  {
   "cell_type": "markdown",
   "metadata": {},
   "source": [
    "> Observation : \n",
    ">> Awsum : Now Model start perfroming very good as both train & val accuracy is great above 90%"
   ]
  },
  {
   "cell_type": "markdown",
   "metadata": {},
   "source": [
    "### Model 9 : Transfer Learning + mobilenet + dropout + GRU Layer + Increased epoch"
   ]
  },
  {
   "cell_type": "code",
   "execution_count": 25,
   "metadata": {},
   "outputs": [
    {
     "name": "stdout",
     "output_type": "stream",
     "text": [
      "WARNING:tensorflow:`input_shape` is undefined or non-square, or `rows` is not in [128, 160, 192, 224]. Weights for input shape (224, 224) will be loaded as the default.\n"
     ]
    }
   ],
   "source": [
    "num_featuremaps = [16,32,64,128]\n",
    "num_denselayers = [64,32,5]\n",
    "num_classes = 5\n",
    "frames = 15\n",
    "dropout = 0.25\n",
    "num_epochs = 30\n",
    "\n",
    "\n",
    "# Input\n",
    "input_shape=(frames,120,120,3)\n",
    "\n",
    "# Define model\n",
    "mobile_model = mobilenet.MobileNet(weights='imagenet', include_top=False)\n",
    "\n",
    "model = Sequential()\n",
    "model.add(TimeDistributed(mobile_model,input_shape=input_shape))\n",
    "\n",
    "model.add(TimeDistributed(BatchNormalization()))\n",
    "model.add(TimeDistributed(MaxPooling2D((2, 2))))\n",
    "model.add(TimeDistributed(Flatten()))\n",
    "\n",
    "model.add(GRU(64, return_sequences=False))\n",
    "model.add(Dropout(dropout))\n",
    "\n",
    "model.add(Dense(num_denselayers[1],activation='relu'))\n",
    "model.add(Dropout(dropout))\n",
    "\n",
    "# using Softmax as last layer\n",
    "model.add(Dense(num_classes, activation='softmax')) "
   ]
  },
  {
   "cell_type": "code",
   "execution_count": 26,
   "metadata": {},
   "outputs": [
    {
     "name": "stdout",
     "output_type": "stream",
     "text": [
      "Model: \"sequential_3\"\n",
      "_________________________________________________________________\n",
      " Layer (type)                Output Shape              Param #   \n",
      "=================================================================\n",
      " time_distributed_12 (TimeDi  (None, 15, 3, 3, 1024)   3228864   \n",
      " stributed)                                                      \n",
      "                                                                 \n",
      " time_distributed_13 (TimeDi  (None, 15, 3, 3, 1024)   4096      \n",
      " stributed)                                                      \n",
      "                                                                 \n",
      " time_distributed_14 (TimeDi  (None, 15, 1, 1, 1024)   0         \n",
      " stributed)                                                      \n",
      "                                                                 \n",
      " time_distributed_15 (TimeDi  (None, 15, 1024)         0         \n",
      " stributed)                                                      \n",
      "                                                                 \n",
      " gru_3 (GRU)                 (None, 64)                209280    \n",
      "                                                                 \n",
      " dropout_6 (Dropout)         (None, 64)                0         \n",
      "                                                                 \n",
      " dense_6 (Dense)             (None, 32)                2080      \n",
      "                                                                 \n",
      " dropout_7 (Dropout)         (None, 32)                0         \n",
      "                                                                 \n",
      " dense_7 (Dense)             (None, 5)                 165       \n",
      "                                                                 \n",
      "=================================================================\n",
      "Total params: 3,444,485\n",
      "Trainable params: 3,420,549\n",
      "Non-trainable params: 23,936\n",
      "_________________________________________________________________\n",
      "None\n"
     ]
    }
   ],
   "source": [
    "optimiser = \"Adam\" #write your optimizer\n",
    "model.compile(optimizer=optimiser, loss='categorical_crossentropy', metrics=['categorical_accuracy'])\n",
    "\n",
    "# Model Summary\n",
    "print (model.summary())"
   ]
  },
  {
   "cell_type": "code",
   "execution_count": 27,
   "metadata": {},
   "outputs": [
    {
     "name": "stdout",
     "output_type": "stream",
     "text": [
      "Total Params: 3444485\n",
      "WARNING:tensorflow:`period` argument is deprecated. Please use `save_freq` to specify the frequency in number of batches seen.\n",
      "Source path =  /home/datasets/Project_data/train ; batch size = 15\n"
     ]
    },
    {
     "name": "stderr",
     "output_type": "stream",
     "text": [
      "/tmp/ipykernel_267/2256448371.py:28: UserWarning: `Model.fit_generator` is deprecated and will be removed in a future version. Please use `Model.fit`, which supports generators.\n",
      "  history=model.fit_generator(train_generator, steps_per_epoch=steps_per_epoch, epochs=num_epochs, verbose=1,\n"
     ]
    },
    {
     "name": "stdout",
     "output_type": "stream",
     "text": [
      "Epoch 1/30\n",
      "45/45 [==============================] - ETA: 0s - loss: 1.2066 - categorical_accuracy: 0.5363Source path =  /home/datasets/Project_data/val ; batch size = 15\n",
      "\n",
      "Epoch 00001: val_loss improved from inf to 1.01363, saving model to model_init_2023-03-1210_47_59.579050/model-00001-1.20662-0.53630-1.01363-0.72381.h5\n",
      "45/45 [==============================] - 86s 2s/step - loss: 1.2066 - categorical_accuracy: 0.5363 - val_loss: 1.0136 - val_categorical_accuracy: 0.7238 - lr: 0.0010\n",
      "Epoch 2/30\n",
      "45/45 [==============================] - ETA: 0s - loss: 0.4824 - categorical_accuracy: 0.8578\n",
      "Epoch 00002: val_loss improved from 1.01363 to 0.75728, saving model to model_init_2023-03-1210_47_59.579050/model-00002-0.48241-0.85778-0.75728-0.86667.h5\n",
      "45/45 [==============================] - 82s 2s/step - loss: 0.4824 - categorical_accuracy: 0.8578 - val_loss: 0.7573 - val_categorical_accuracy: 0.8667 - lr: 0.0010\n",
      "Epoch 3/30\n",
      "45/45 [==============================] - ETA: 0s - loss: 0.3052 - categorical_accuracy: 0.9111\n",
      "Epoch 00003: val_loss did not improve from 0.75728\n",
      "45/45 [==============================] - 80s 2s/step - loss: 0.3052 - categorical_accuracy: 0.9111 - val_loss: 0.9866 - val_categorical_accuracy: 0.8762 - lr: 0.0010\n",
      "Epoch 4/30\n",
      "45/45 [==============================] - ETA: 0s - loss: 0.2100 - categorical_accuracy: 0.9526\n",
      "Epoch 00004: val_loss did not improve from 0.75728\n",
      "45/45 [==============================] - 81s 2s/step - loss: 0.2100 - categorical_accuracy: 0.9526 - val_loss: 1.0705 - val_categorical_accuracy: 0.8571 - lr: 0.0010\n",
      "Epoch 5/30\n",
      "45/45 [==============================] - ETA: 0s - loss: 0.2324 - categorical_accuracy: 0.9348\n",
      "Epoch 00005: val_loss did not improve from 0.75728\n",
      "45/45 [==============================] - 82s 2s/step - loss: 0.2324 - categorical_accuracy: 0.9348 - val_loss: 1.1073 - val_categorical_accuracy: 0.8286 - lr: 0.0010\n",
      "Epoch 6/30\n",
      "45/45 [==============================] - ETA: 0s - loss: 0.2123 - categorical_accuracy: 0.9437\n",
      "Epoch 00006: val_loss did not improve from 0.75728\n",
      "45/45 [==============================] - 80s 2s/step - loss: 0.2123 - categorical_accuracy: 0.9437 - val_loss: 1.5944 - val_categorical_accuracy: 0.7524 - lr: 0.0010\n",
      "Epoch 7/30\n",
      "45/45 [==============================] - ETA: 0s - loss: 0.1726 - categorical_accuracy: 0.9600\n",
      "Epoch 00007: val_loss did not improve from 0.75728\n",
      "\n",
      "Epoch 00007: ReduceLROnPlateau reducing learning rate to 1.0000000474974514e-05.\n",
      "45/45 [==============================] - 80s 2s/step - loss: 0.1726 - categorical_accuracy: 0.9600 - val_loss: 1.3742 - val_categorical_accuracy: 0.8286 - lr: 0.0010\n",
      "Epoch 8/30\n",
      "45/45 [==============================] - ETA: 0s - loss: 0.1276 - categorical_accuracy: 0.9852\n",
      "Epoch 00008: val_loss did not improve from 0.75728\n",
      "45/45 [==============================] - 80s 2s/step - loss: 0.1276 - categorical_accuracy: 0.9852 - val_loss: 1.1026 - val_categorical_accuracy: 0.8667 - lr: 1.0000e-05\n",
      "Epoch 9/30\n",
      "45/45 [==============================] - ETA: 0s - loss: 0.0909 - categorical_accuracy: 0.9852\n",
      "Epoch 00009: val_loss did not improve from 0.75728\n",
      "45/45 [==============================] - 80s 2s/step - loss: 0.0909 - categorical_accuracy: 0.9852 - val_loss: 1.2392 - val_categorical_accuracy: 0.8667 - lr: 1.0000e-05\n",
      "Epoch 10/30\n",
      "45/45 [==============================] - ETA: 0s - loss: 0.1134 - categorical_accuracy: 0.9926\n",
      "Epoch 00010: val_loss did not improve from 0.75728\n",
      "45/45 [==============================] - 81s 2s/step - loss: 0.1134 - categorical_accuracy: 0.9926 - val_loss: 1.2346 - val_categorical_accuracy: 0.8857 - lr: 1.0000e-05\n",
      "Epoch 11/30\n",
      "45/45 [==============================] - ETA: 0s - loss: 0.1003 - categorical_accuracy: 0.9881\n",
      "Epoch 00011: val_loss did not improve from 0.75728\n",
      "45/45 [==============================] - 80s 2s/step - loss: 0.1003 - categorical_accuracy: 0.9881 - val_loss: 1.2268 - val_categorical_accuracy: 0.8286 - lr: 1.0000e-05\n",
      "Epoch 12/30\n",
      "45/45 [==============================] - ETA: 0s - loss: 0.0927 - categorical_accuracy: 0.9941\n",
      "Epoch 00012: val_loss did not improve from 0.75728\n",
      "45/45 [==============================] - 80s 2s/step - loss: 0.0927 - categorical_accuracy: 0.9941 - val_loss: 1.0478 - val_categorical_accuracy: 0.8667 - lr: 1.0000e-05\n",
      "Epoch 13/30\n",
      "45/45 [==============================] - ETA: 0s - loss: 0.1047 - categorical_accuracy: 0.9896\n",
      "Epoch 00013: val_loss did not improve from 0.75728\n",
      "45/45 [==============================] - 80s 2s/step - loss: 0.1047 - categorical_accuracy: 0.9896 - val_loss: 1.1980 - val_categorical_accuracy: 0.8381 - lr: 1.0000e-05\n",
      "Epoch 14/30\n",
      "45/45 [==============================] - ETA: 0s - loss: 0.0905 - categorical_accuracy: 0.9911\n",
      "Epoch 00014: val_loss did not improve from 0.75728\n",
      "45/45 [==============================] - 79s 2s/step - loss: 0.0905 - categorical_accuracy: 0.9911 - val_loss: 1.1650 - val_categorical_accuracy: 0.8476 - lr: 1.0000e-05\n",
      "Epoch 15/30\n",
      "45/45 [==============================] - ETA: 0s - loss: 0.0927 - categorical_accuracy: 0.9926\n",
      "Epoch 00015: val_loss did not improve from 0.75728\n",
      "\n",
      "Epoch 00015: ReduceLROnPlateau reducing learning rate to 1.0000000656873453e-07.\n",
      "45/45 [==============================] - 79s 2s/step - loss: 0.0927 - categorical_accuracy: 0.9926 - val_loss: 1.1758 - val_categorical_accuracy: 0.8571 - lr: 1.0000e-05\n",
      "Epoch 16/30\n",
      "45/45 [==============================] - ETA: 0s - loss: 0.1040 - categorical_accuracy: 0.9852\n",
      "Epoch 00016: val_loss did not improve from 0.75728\n",
      "45/45 [==============================] - 80s 2s/step - loss: 0.1040 - categorical_accuracy: 0.9852 - val_loss: 0.9960 - val_categorical_accuracy: 0.8857 - lr: 1.0000e-07\n",
      "Epoch 17/30\n",
      "45/45 [==============================] - ETA: 0s - loss: 0.0931 - categorical_accuracy: 0.9867\n",
      "Epoch 00017: val_loss did not improve from 0.75728\n",
      "45/45 [==============================] - 79s 2s/step - loss: 0.0931 - categorical_accuracy: 0.9867 - val_loss: 1.1234 - val_categorical_accuracy: 0.8571 - lr: 1.0000e-07\n",
      "Epoch 18/30\n",
      "45/45 [==============================] - ETA: 0s - loss: 0.0776 - categorical_accuracy: 0.9867\n",
      "Epoch 00018: val_loss did not improve from 0.75728\n",
      "45/45 [==============================] - 81s 2s/step - loss: 0.0776 - categorical_accuracy: 0.9867 - val_loss: 1.1455 - val_categorical_accuracy: 0.8571 - lr: 1.0000e-07\n",
      "Epoch 19/30\n",
      "45/45 [==============================] - ETA: 0s - loss: 0.0868 - categorical_accuracy: 0.9911\n",
      "Epoch 00019: val_loss did not improve from 0.75728\n",
      "45/45 [==============================] - 80s 2s/step - loss: 0.0868 - categorical_accuracy: 0.9911 - val_loss: 1.2099 - val_categorical_accuracy: 0.8667 - lr: 1.0000e-07\n",
      "Epoch 20/30\n",
      "45/45 [==============================] - ETA: 0s - loss: 0.0965 - categorical_accuracy: 0.9852\n",
      "Epoch 00020: val_loss did not improve from 0.75728\n",
      "45/45 [==============================] - 80s 2s/step - loss: 0.0965 - categorical_accuracy: 0.9852 - val_loss: 1.0572 - val_categorical_accuracy: 0.8952 - lr: 1.0000e-07\n",
      "Epoch 21/30\n",
      "45/45 [==============================] - ETA: 0s - loss: 0.0744 - categorical_accuracy: 0.9926\n",
      "Epoch 00021: val_loss did not improve from 0.75728\n",
      "45/45 [==============================] - 78s 2s/step - loss: 0.0744 - categorical_accuracy: 0.9926 - val_loss: 1.2218 - val_categorical_accuracy: 0.8381 - lr: 1.0000e-07\n",
      "Epoch 22/30\n",
      "45/45 [==============================] - ETA: 0s - loss: 0.1019 - categorical_accuracy: 0.9911\n",
      "Epoch 00022: val_loss did not improve from 0.75728\n",
      "45/45 [==============================] - 79s 2s/step - loss: 0.1019 - categorical_accuracy: 0.9911 - val_loss: 1.0999 - val_categorical_accuracy: 0.8667 - lr: 1.0000e-07\n",
      "Epoch 23/30\n",
      "45/45 [==============================] - ETA: 0s - loss: 0.1005 - categorical_accuracy: 0.9896\n",
      "Epoch 00023: val_loss did not improve from 0.75728\n",
      "\n",
      "Epoch 00023: ReduceLROnPlateau reducing learning rate to 1.000000082740371e-09.\n",
      "45/45 [==============================] - 79s 2s/step - loss: 0.1005 - categorical_accuracy: 0.9896 - val_loss: 1.2901 - val_categorical_accuracy: 0.8762 - lr: 1.0000e-07\n",
      "Epoch 24/30\n",
      "45/45 [==============================] - ETA: 0s - loss: 0.0879 - categorical_accuracy: 0.9926\n",
      "Epoch 00024: val_loss did not improve from 0.75728\n",
      "45/45 [==============================] - 79s 2s/step - loss: 0.0879 - categorical_accuracy: 0.9926 - val_loss: 1.1795 - val_categorical_accuracy: 0.8952 - lr: 1.0000e-09\n",
      "Epoch 25/30\n",
      "45/45 [==============================] - ETA: 0s - loss: 0.1035 - categorical_accuracy: 0.9896\n",
      "Epoch 00025: val_loss did not improve from 0.75728\n",
      "45/45 [==============================] - 80s 2s/step - loss: 0.1035 - categorical_accuracy: 0.9896 - val_loss: 1.3811 - val_categorical_accuracy: 0.8286 - lr: 1.0000e-09\n",
      "Epoch 26/30\n",
      "45/45 [==============================] - ETA: 0s - loss: 0.1005 - categorical_accuracy: 0.9941\n",
      "Epoch 00026: val_loss did not improve from 0.75728\n",
      "45/45 [==============================] - 80s 2s/step - loss: 0.1005 - categorical_accuracy: 0.9941 - val_loss: 1.0882 - val_categorical_accuracy: 0.8476 - lr: 1.0000e-09\n",
      "Epoch 27/30\n",
      "45/45 [==============================] - ETA: 0s - loss: 0.1143 - categorical_accuracy: 0.9778\n",
      "Epoch 00027: val_loss did not improve from 0.75728\n",
      "45/45 [==============================] - 78s 2s/step - loss: 0.1143 - categorical_accuracy: 0.9778 - val_loss: 1.1104 - val_categorical_accuracy: 0.8571 - lr: 1.0000e-09\n",
      "Epoch 28/30\n",
      "45/45 [==============================] - ETA: 0s - loss: 0.1038 - categorical_accuracy: 0.9867\n",
      "Epoch 00028: val_loss did not improve from 0.75728\n",
      "45/45 [==============================] - 80s 2s/step - loss: 0.1038 - categorical_accuracy: 0.9867 - val_loss: 1.0946 - val_categorical_accuracy: 0.8762 - lr: 1.0000e-09\n",
      "Epoch 29/30\n",
      "45/45 [==============================] - ETA: 0s - loss: 0.1059 - categorical_accuracy: 0.9822\n",
      "Epoch 00029: val_loss did not improve from 0.75728\n",
      "45/45 [==============================] - 81s 2s/step - loss: 0.1059 - categorical_accuracy: 0.9822 - val_loss: 1.2326 - val_categorical_accuracy: 0.8571 - lr: 1.0000e-09\n",
      "Epoch 30/30\n",
      "45/45 [==============================] - ETA: 0s - loss: 0.0724 - categorical_accuracy: 0.9867\n",
      "Epoch 00030: val_loss did not improve from 0.75728\n",
      "45/45 [==============================] - 80s 2s/step - loss: 0.0724 - categorical_accuracy: 0.9867 - val_loss: 1.0982 - val_categorical_accuracy: 0.8571 - lr: 1.0000e-09\n"
     ]
    }
   ],
   "source": [
    "print(\"Total Params:\", model.count_params())\n",
    "trained_model_9=train_model(model)"
   ]
  },
  {
   "cell_type": "code",
   "execution_count": 28,
   "metadata": {},
   "outputs": [
    {
     "data": {
      "image/png": "[encoded data removed]",
      "text/plain": [
       "<Figure size 1080x288 with 2 Axes>"
      ]
     },
     "metadata": {
      "needs_background": "light"
     },
     "output_type": "display_data"
    }
   ],
   "source": [
    "plot(trained_model_9)"
   ]
  },
  {
   "cell_type": "markdown",
   "metadata": {},
   "source": [
    "> Observation : \n",
    ">> Degraded the Performance Compared to Last Model"
   ]
  },
  {
   "cell_type": "markdown",
   "metadata": {},
   "source": [
    "### Model 10 : Transfer Learning + mobilenet + dropout + GRU Layer + Increased epoch + Increased Batch Size"
   ]
  },
  {
   "cell_type": "code",
   "execution_count": 29,
   "metadata": {},
   "outputs": [
    {
     "name": "stdout",
     "output_type": "stream",
     "text": [
      "WARNING:tensorflow:`input_shape` is undefined or non-square, or `rows` is not in [128, 160, 192, 224]. Weights for input shape (224, 224) will be loaded as the default.\n"
     ]
    }
   ],
   "source": [
    "num_featuremaps = [16,32,64,128]\n",
    "num_denselayers = [64,32,5]\n",
    "num_classes = 5\n",
    "frames = 15\n",
    "dropout = 0.25\n",
    "num_epochs = 30\n",
    "\n",
    "# increasing batch Size\n",
    "batch_size = 20\n",
    "\n",
    "# Input\n",
    "input_shape=(frames,120,120,3)\n",
    "\n",
    "# Define model\n",
    "mobile_model = mobilenet.MobileNet(weights='imagenet', include_top=False)\n",
    "\n",
    "model = Sequential()\n",
    "model.add(TimeDistributed(mobile_model,input_shape=input_shape))\n",
    "\n",
    "model.add(TimeDistributed(BatchNormalization()))\n",
    "model.add(TimeDistributed(MaxPooling2D((2, 2))))\n",
    "model.add(TimeDistributed(Flatten()))\n",
    "\n",
    "model.add(GRU(64, return_sequences=False))\n",
    "model.add(Dropout(dropout))\n",
    "\n",
    "model.add(Dense(num_denselayers[1],activation='relu'))\n",
    "model.add(Dropout(dropout))\n",
    "\n",
    "# using Softmax as last layer\n",
    "model.add(Dense(num_classes, activation='softmax')) \n"
   ]
  },
  {
   "cell_type": "code",
   "execution_count": 30,
   "metadata": {},
   "outputs": [
    {
     "name": "stdout",
     "output_type": "stream",
     "text": [
      "Model: \"sequential_4\"\n",
      "_________________________________________________________________\n",
      " Layer (type)                Output Shape              Param #   \n",
      "=================================================================\n",
      " time_distributed_16 (TimeDi  (None, 15, 3, 3, 1024)   3228864   \n",
      " stributed)                                                      \n",
      "                                                                 \n",
      " time_distributed_17 (TimeDi  (None, 15, 3, 3, 1024)   4096      \n",
      " stributed)                                                      \n",
      "                                                                 \n",
      " time_distributed_18 (TimeDi  (None, 15, 1, 1, 1024)   0         \n",
      " stributed)                                                      \n",
      "                                                                 \n",
      " time_distributed_19 (TimeDi  (None, 15, 1024)         0         \n",
      " stributed)                                                      \n",
      "                                                                 \n",
      " gru_4 (GRU)                 (None, 64)                209280    \n",
      "                                                                 \n",
      " dropout_8 (Dropout)         (None, 64)                0         \n",
      "                                                                 \n",
      " dense_8 (Dense)             (None, 32)                2080      \n",
      "                                                                 \n",
      " dropout_9 (Dropout)         (None, 32)                0         \n",
      "                                                                 \n",
      " dense_9 (Dense)             (None, 5)                 165       \n",
      "                                                                 \n",
      "=================================================================\n",
      "Total params: 3,444,485\n",
      "Trainable params: 3,420,549\n",
      "Non-trainable params: 23,936\n",
      "_________________________________________________________________\n",
      "None\n"
     ]
    }
   ],
   "source": [
    "optimiser = \"Adam\" #write your optimizer\n",
    "model.compile(optimizer=optimiser, loss='categorical_crossentropy', metrics=['categorical_accuracy'])\n",
    "\n",
    "# Model Summary\n",
    "print (model.summary())\n"
   ]
  },
  {
   "cell_type": "code",
   "execution_count": 31,
   "metadata": {},
   "outputs": [
    {
     "name": "stdout",
     "output_type": "stream",
     "text": [
      "Total Params: 3444485\n",
      "WARNING:tensorflow:`period` argument is deprecated. Please use `save_freq` to specify the frequency in number of batches seen.\n",
      "Source path =  /home/datasets/Project_data/train ; batch size = 20\n"
     ]
    },
    {
     "name": "stderr",
     "output_type": "stream",
     "text": [
      "/tmp/ipykernel_267/2256448371.py:28: UserWarning: `Model.fit_generator` is deprecated and will be removed in a future version. Please use `Model.fit`, which supports generators.\n",
      "  history=model.fit_generator(train_generator, steps_per_epoch=steps_per_epoch, epochs=num_epochs, verbose=1,\n"
     ]
    },
    {
     "name": "stdout",
     "output_type": "stream",
     "text": [
      "Epoch 1/30\n",
      "34/34 [==============================] - ETA: 0s - loss: 1.1855 - categorical_accuracy: 0.5265Source path =  /home/datasets/Project_data/val ; batch size = 20\n",
      "\n",
      "Epoch 00001: val_loss improved from inf to 0.92050, saving model to model_init_2023-03-1210_47_59.579050/model-00001-1.18550-0.52647-0.92050-0.69000.h5\n",
      "34/34 [==============================] - 86s 2s/step - loss: 1.1855 - categorical_accuracy: 0.5265 - val_loss: 0.9205 - val_categorical_accuracy: 0.6900 - lr: 0.0010\n",
      "Epoch 2/30\n",
      "34/34 [==============================] - ETA: 0s - loss: 0.4434 - categorical_accuracy: 0.8471\n",
      "Epoch 00002: val_loss improved from 0.92050 to 0.39536, saving model to model_init_2023-03-1210_47_59.579050/model-00002-0.44344-0.84706-0.39536-0.87000.h5\n",
      "34/34 [==============================] - 81s 2s/step - loss: 0.4434 - categorical_accuracy: 0.8471 - val_loss: 0.3954 - val_categorical_accuracy: 0.8700 - lr: 0.0010\n",
      "Epoch 3/30\n",
      "34/34 [==============================] - ETA: 0s - loss: 0.3028 - categorical_accuracy: 0.9162\n",
      "Epoch 00003: val_loss improved from 0.39536 to 0.23169, saving model to model_init_2023-03-1210_47_59.579050/model-00003-0.30277-0.91618-0.23169-0.95000.h5\n",
      "34/34 [==============================] - 81s 2s/step - loss: 0.3028 - categorical_accuracy: 0.9162 - val_loss: 0.2317 - val_categorical_accuracy: 0.9500 - lr: 0.0010\n",
      "Epoch 4/30\n",
      "34/34 [==============================] - ETA: 0s - loss: 0.2374 - categorical_accuracy: 0.9324\n",
      "Epoch 00004: val_loss improved from 0.23169 to 0.13014, saving model to model_init_2023-03-1210_47_59.579050/model-00004-0.23741-0.93235-0.13014-0.98000.h5\n",
      "34/34 [==============================] - 81s 2s/step - loss: 0.2374 - categorical_accuracy: 0.9324 - val_loss: 0.1301 - val_categorical_accuracy: 0.9800 - lr: 0.0010\n",
      "Epoch 5/30\n",
      "34/34 [==============================] - ETA: 0s - loss: 0.1528 - categorical_accuracy: 0.9721\n",
      "Epoch 00005: val_loss did not improve from 0.13014\n",
      "34/34 [==============================] - 80s 2s/step - loss: 0.1528 - categorical_accuracy: 0.9721 - val_loss: 0.8860 - val_categorical_accuracy: 0.7300 - lr: 0.0010\n",
      "Epoch 6/30\n",
      "34/34 [==============================] - ETA: 0s - loss: 0.1110 - categorical_accuracy: 0.9721\n",
      "Epoch 00006: val_loss did not improve from 0.13014\n",
      "34/34 [==============================] - 81s 2s/step - loss: 0.1110 - categorical_accuracy: 0.9721 - val_loss: 0.6085 - val_categorical_accuracy: 0.8400 - lr: 0.0010\n",
      "Epoch 7/30\n",
      "34/34 [==============================] - ETA: 0s - loss: 0.0874 - categorical_accuracy: 0.9897\n",
      "Epoch 00007: val_loss did not improve from 0.13014\n",
      "34/34 [==============================] - 80s 2s/step - loss: 0.0874 - categorical_accuracy: 0.9897 - val_loss: 0.3002 - val_categorical_accuracy: 0.9100 - lr: 0.0010\n",
      "Epoch 8/30\n",
      "34/34 [==============================] - ETA: 0s - loss: 0.0747 - categorical_accuracy: 0.9897\n",
      "Epoch 00008: val_loss did not improve from 0.13014\n",
      "34/34 [==============================] - 80s 2s/step - loss: 0.0747 - categorical_accuracy: 0.9897 - val_loss: 0.2050 - val_categorical_accuracy: 0.9200 - lr: 0.0010\n",
      "Epoch 9/30\n",
      "34/34 [==============================] - ETA: 0s - loss: 0.1967 - categorical_accuracy: 0.9603\n",
      "Epoch 00009: val_loss did not improve from 0.13014\n",
      "\n",
      "Epoch 00009: ReduceLROnPlateau reducing learning rate to 1.0000000474974514e-05.\n",
      "34/34 [==============================] - 80s 2s/step - loss: 0.1967 - categorical_accuracy: 0.9603 - val_loss: 0.5944 - val_categorical_accuracy: 0.8600 - lr: 0.0010\n",
      "Epoch 10/30\n",
      "34/34 [==============================] - ETA: 0s - loss: 0.2022 - categorical_accuracy: 0.9588\n",
      "Epoch 00010: val_loss did not improve from 0.13014\n",
      "34/34 [==============================] - 81s 2s/step - loss: 0.2022 - categorical_accuracy: 0.9588 - val_loss: 0.3981 - val_categorical_accuracy: 0.8800 - lr: 1.0000e-05\n",
      "Epoch 11/30\n",
      "34/34 [==============================] - ETA: 0s - loss: 0.1734 - categorical_accuracy: 0.9618\n",
      "Epoch 00011: val_loss did not improve from 0.13014\n",
      "34/34 [==============================] - 81s 2s/step - loss: 0.1734 - categorical_accuracy: 0.9618 - val_loss: 0.4181 - val_categorical_accuracy: 0.8700 - lr: 1.0000e-05\n",
      "Epoch 12/30\n",
      "34/34 [==============================] - ETA: 0s - loss: 0.1902 - categorical_accuracy: 0.9588\n",
      "Epoch 00012: val_loss did not improve from 0.13014\n",
      "34/34 [==============================] - 81s 2s/step - loss: 0.1902 - categorical_accuracy: 0.9588 - val_loss: 0.3113 - val_categorical_accuracy: 0.8800 - lr: 1.0000e-05\n",
      "Epoch 13/30\n",
      "34/34 [==============================] - ETA: 0s - loss: 0.1704 - categorical_accuracy: 0.9632\n",
      "Epoch 00013: val_loss did not improve from 0.13014\n",
      "34/34 [==============================] - 80s 2s/step - loss: 0.1704 - categorical_accuracy: 0.9632 - val_loss: 0.4331 - val_categorical_accuracy: 0.8500 - lr: 1.0000e-05\n",
      "Epoch 14/30\n",
      "34/34 [==============================] - ETA: 0s - loss: 0.1292 - categorical_accuracy: 0.9735\n",
      "Epoch 00014: val_loss did not improve from 0.13014\n",
      "34/34 [==============================] - 82s 2s/step - loss: 0.1292 - categorical_accuracy: 0.9735 - val_loss: 0.3901 - val_categorical_accuracy: 0.8900 - lr: 1.0000e-05\n",
      "Epoch 15/30\n",
      "34/34 [==============================] - ETA: 0s - loss: 0.1841 - categorical_accuracy: 0.9662\n",
      "Epoch 00015: val_loss did not improve from 0.13014\n",
      "34/34 [==============================] - 81s 2s/step - loss: 0.1841 - categorical_accuracy: 0.9662 - val_loss: 0.2829 - val_categorical_accuracy: 0.9000 - lr: 1.0000e-05\n",
      "Epoch 16/30\n",
      "34/34 [==============================] - ETA: 0s - loss: 0.1269 - categorical_accuracy: 0.9750\n",
      "Epoch 00016: val_loss did not improve from 0.13014\n",
      "34/34 [==============================] - 81s 2s/step - loss: 0.1269 - categorical_accuracy: 0.9750 - val_loss: 0.2944 - val_categorical_accuracy: 0.9000 - lr: 1.0000e-05\n",
      "Epoch 17/30\n",
      "34/34 [==============================] - ETA: 0s - loss: 0.1211 - categorical_accuracy: 0.9794\n",
      "Epoch 00017: val_loss did not improve from 0.13014\n",
      "\n",
      "Epoch 00017: ReduceLROnPlateau reducing learning rate to 1.0000000656873453e-07.\n",
      "34/34 [==============================] - 81s 2s/step - loss: 0.1211 - categorical_accuracy: 0.9794 - val_loss: 0.2245 - val_categorical_accuracy: 0.9200 - lr: 1.0000e-05\n",
      "Epoch 18/30\n",
      "34/34 [==============================] - ETA: 0s - loss: 0.1333 - categorical_accuracy: 0.9662\n",
      "Epoch 00018: val_loss did not improve from 0.13014\n",
      "34/34 [==============================] - 81s 2s/step - loss: 0.1333 - categorical_accuracy: 0.9662 - val_loss: 0.3823 - val_categorical_accuracy: 0.8500 - lr: 1.0000e-07\n",
      "Epoch 19/30\n",
      "34/34 [==============================] - ETA: 0s - loss: 0.0915 - categorical_accuracy: 0.9779\n",
      "Epoch 00019: val_loss did not improve from 0.13014\n",
      "34/34 [==============================] - 81s 2s/step - loss: 0.0915 - categorical_accuracy: 0.9779 - val_loss: 0.2523 - val_categorical_accuracy: 0.8900 - lr: 1.0000e-07\n",
      "Epoch 20/30\n",
      "34/34 [==============================] - ETA: 0s - loss: 0.0936 - categorical_accuracy: 0.9779\n",
      "Epoch 00020: val_loss did not improve from 0.13014\n",
      "34/34 [==============================] - 81s 2s/step - loss: 0.0936 - categorical_accuracy: 0.9779 - val_loss: 0.3170 - val_categorical_accuracy: 0.8800 - lr: 1.0000e-07\n",
      "Epoch 21/30\n",
      "34/34 [==============================] - ETA: 0s - loss: 0.1335 - categorical_accuracy: 0.9750\n",
      "Epoch 00021: val_loss did not improve from 0.13014\n",
      "34/34 [==============================] - 81s 2s/step - loss: 0.1335 - categorical_accuracy: 0.9750 - val_loss: 0.2710 - val_categorical_accuracy: 0.9000 - lr: 1.0000e-07\n",
      "Epoch 22/30\n",
      "34/34 [==============================] - ETA: 0s - loss: 0.1377 - categorical_accuracy: 0.9809\n",
      "Epoch 00022: val_loss did not improve from 0.13014\n",
      "34/34 [==============================] - 80s 2s/step - loss: 0.1377 - categorical_accuracy: 0.9809 - val_loss: 0.2384 - val_categorical_accuracy: 0.9100 - lr: 1.0000e-07\n",
      "Epoch 23/30\n",
      "34/34 [==============================] - ETA: 0s - loss: 0.0870 - categorical_accuracy: 0.9838\n",
      "Epoch 00023: val_loss did not improve from 0.13014\n",
      "34/34 [==============================] - 80s 2s/step - loss: 0.0870 - categorical_accuracy: 0.9838 - val_loss: 0.3002 - val_categorical_accuracy: 0.9000 - lr: 1.0000e-07\n",
      "Epoch 24/30\n",
      "34/34 [==============================] - ETA: 0s - loss: 0.1473 - categorical_accuracy: 0.9721\n",
      "Epoch 00024: val_loss did not improve from 0.13014\n",
      "34/34 [==============================] - 79s 2s/step - loss: 0.1473 - categorical_accuracy: 0.9721 - val_loss: 0.3066 - val_categorical_accuracy: 0.8900 - lr: 1.0000e-07\n",
      "Epoch 25/30\n",
      "34/34 [==============================] - ETA: 0s - loss: 0.1203 - categorical_accuracy: 0.9750\n",
      "Epoch 00025: val_loss did not improve from 0.13014\n",
      "\n",
      "Epoch 00025: ReduceLROnPlateau reducing learning rate to 1.000000082740371e-09.\n",
      "34/34 [==============================] - 80s 2s/step - loss: 0.1203 - categorical_accuracy: 0.9750 - val_loss: 0.2828 - val_categorical_accuracy: 0.8900 - lr: 1.0000e-07\n",
      "Epoch 26/30\n",
      "34/34 [==============================] - ETA: 0s - loss: 0.1245 - categorical_accuracy: 0.9794\n",
      "Epoch 00026: val_loss did not improve from 0.13014\n",
      "34/34 [==============================] - 80s 2s/step - loss: 0.1245 - categorical_accuracy: 0.9794 - val_loss: 0.2789 - val_categorical_accuracy: 0.8900 - lr: 1.0000e-09\n",
      "Epoch 27/30\n",
      "34/34 [==============================] - ETA: 0s - loss: 0.1003 - categorical_accuracy: 0.9809\n",
      "Epoch 00027: val_loss did not improve from 0.13014\n",
      "34/34 [==============================] - 80s 2s/step - loss: 0.1003 - categorical_accuracy: 0.9809 - val_loss: 0.2263 - val_categorical_accuracy: 0.9000 - lr: 1.0000e-09\n",
      "Epoch 28/30\n",
      "34/34 [==============================] - ETA: 0s - loss: 0.1201 - categorical_accuracy: 0.9853\n",
      "Epoch 00028: val_loss did not improve from 0.13014\n",
      "34/34 [==============================] - 80s 2s/step - loss: 0.1201 - categorical_accuracy: 0.9853 - val_loss: 0.1939 - val_categorical_accuracy: 0.9200 - lr: 1.0000e-09\n",
      "Epoch 29/30\n",
      "34/34 [==============================] - ETA: 0s - loss: 0.1221 - categorical_accuracy: 0.9735\n",
      "Epoch 00029: val_loss did not improve from 0.13014\n",
      "34/34 [==============================] - 80s 2s/step - loss: 0.1221 - categorical_accuracy: 0.9735 - val_loss: 0.3180 - val_categorical_accuracy: 0.9000 - lr: 1.0000e-09\n",
      "Epoch 30/30\n",
      "34/34 [==============================] - ETA: 0s - loss: 0.1485 - categorical_accuracy: 0.9735\n",
      "Epoch 00030: val_loss did not improve from 0.13014\n",
      "34/34 [==============================] - 79s 2s/step - loss: 0.1485 - categorical_accuracy: 0.9735 - val_loss: 0.2578 - val_categorical_accuracy: 0.9200 - lr: 1.0000e-09\n"
     ]
    }
   ],
   "source": [
    "print(\"Total Params:\", model.count_params())\n",
    "trained_model_10=train_model(model)"
   ]
  },
  {
   "cell_type": "code",
   "execution_count": 32,
   "metadata": {},
   "outputs": [
    {
     "data": {
      "image/png": "[encoded data removed]",
      "text/plain": [
       "<Figure size 1080x288 with 2 Axes>"
      ]
     },
     "metadata": {
      "needs_background": "light"
     },
     "output_type": "display_data"
    }
   ],
   "source": [
    "plot(trained_model_10)"
   ]
  },
  {
   "cell_type": "markdown",
   "metadata": {},
   "source": [
    "# Selected Model\n",
    "\n",
    "* **Train Accuracy** :   |  **Validation Accuracy** : \n",
    "\n",
    "* **Train Loss** :  | **Validation Loss** : "
   ]
  },
  {
   "cell_type": "markdown",
   "metadata": {},
   "source": [
    "### Model 11 : Transfer Learning + mobilenet + dropout + GRU Layer + Increased Batch Size(More)"
   ]
  },
  {
   "cell_type": "code",
   "execution_count": 33,
   "metadata": {},
   "outputs": [
    {
     "name": "stdout",
     "output_type": "stream",
     "text": [
      "WARNING:tensorflow:`input_shape` is undefined or non-square, or `rows` is not in [128, 160, 192, 224]. Weights for input shape (224, 224) will be loaded as the default.\n"
     ]
    }
   ],
   "source": [
    "num_featuremaps = [16,32,64,128]\n",
    "num_denselayers = [64,32,5]\n",
    "num_classes = 5\n",
    "frames = 15\n",
    "dropout = 0.25\n",
    "num_epochs = 20\n",
    "\n",
    "# increasing batch Size\n",
    "batch_size = 25\n",
    "\n",
    "# Input\n",
    "input_shape=(frames,120,120,3)\n",
    "\n",
    "# Define model\n",
    "mobile_model = mobilenet.MobileNet(weights='imagenet', include_top=False)\n",
    "\n",
    "model = Sequential()\n",
    "model.add(TimeDistributed(mobile_model,input_shape=input_shape))\n",
    "\n",
    "model.add(TimeDistributed(BatchNormalization()))\n",
    "model.add(TimeDistributed(MaxPooling2D((2, 2))))\n",
    "model.add(TimeDistributed(Flatten()))\n",
    "\n",
    "model.add(GRU(64, return_sequences=False))\n",
    "model.add(Dropout(dropout))\n",
    "\n",
    "model.add(Dense(num_denselayers[1],activation='relu'))\n",
    "model.add(Dropout(dropout))\n",
    "\n",
    "# using Softmax as last layer\n",
    "model.add(Dense(num_classes, activation='softmax')) \n"
   ]
  },
  {
   "cell_type": "code",
   "execution_count": 34,
   "metadata": {},
   "outputs": [
    {
     "name": "stdout",
     "output_type": "stream",
     "text": [
      "Model: \"sequential_5\"\n",
      "_________________________________________________________________\n",
      " Layer (type)                Output Shape              Param #   \n",
      "=================================================================\n",
      " time_distributed_20 (TimeDi  (None, 15, 3, 3, 1024)   3228864   \n",
      " stributed)                                                      \n",
      "                                                                 \n",
      " time_distributed_21 (TimeDi  (None, 15, 3, 3, 1024)   4096      \n",
      " stributed)                                                      \n",
      "                                                                 \n",
      " time_distributed_22 (TimeDi  (None, 15, 1, 1, 1024)   0         \n",
      " stributed)                                                      \n",
      "                                                                 \n",
      " time_distributed_23 (TimeDi  (None, 15, 1024)         0         \n",
      " stributed)                                                      \n",
      "                                                                 \n",
      " gru_5 (GRU)                 (None, 64)                209280    \n",
      "                                                                 \n",
      " dropout_10 (Dropout)        (None, 64)                0         \n",
      "                                                                 \n",
      " dense_10 (Dense)            (None, 32)                2080      \n",
      "                                                                 \n",
      " dropout_11 (Dropout)        (None, 32)                0         \n",
      "                                                                 \n",
      " dense_11 (Dense)            (None, 5)                 165       \n",
      "                                                                 \n",
      "=================================================================\n",
      "Total params: 3,444,485\n",
      "Trainable params: 3,420,549\n",
      "Non-trainable params: 23,936\n",
      "_________________________________________________________________\n",
      "None\n"
     ]
    }
   ],
   "source": [
    "optimiser = \"Adam\" #write your optimizer\n",
    "model.compile(optimizer=optimiser, loss='categorical_crossentropy', metrics=['categorical_accuracy'])\n",
    "\n",
    "# Model Summary\n",
    "print (model.summary())\n"
   ]
  },
  {
   "cell_type": "code",
   "execution_count": 35,
   "metadata": {},
   "outputs": [
    {
     "name": "stdout",
     "output_type": "stream",
     "text": [
      "Total Params: 3444485\n",
      "WARNING:tensorflow:`period` argument is deprecated. Please use `save_freq` to specify the frequency in number of batches seen.\n",
      "Source path =  /home/datasets/Project_data/train ; batch size = 25\n"
     ]
    },
    {
     "name": "stderr",
     "output_type": "stream",
     "text": [
      "/tmp/ipykernel_267/2256448371.py:28: UserWarning: `Model.fit_generator` is deprecated and will be removed in a future version. Please use `Model.fit`, which supports generators.\n",
      "  history=model.fit_generator(train_generator, steps_per_epoch=steps_per_epoch, epochs=num_epochs, verbose=1,\n"
     ]
    },
    {
     "name": "stdout",
     "output_type": "stream",
     "text": [
      "Epoch 1/20\n",
      "27/27 [==============================] - ETA: 0s - loss: 1.2594 - categorical_accuracy: 0.5319Source path =  /home/datasets/Project_data/val ; batch size = 25\n",
      "\n",
      "Epoch 00001: val_loss improved from inf to 1.17259, saving model to model_init_2023-03-1210_47_59.579050/model-00001-1.25938-0.53185-1.17259-0.51000.h5\n",
      "27/27 [==============================] - 84s 3s/step - loss: 1.2594 - categorical_accuracy: 0.5319 - val_loss: 1.1726 - val_categorical_accuracy: 0.5100 - lr: 0.0010\n",
      "Epoch 2/20\n",
      "27/27 [==============================] - ETA: 0s - loss: 0.5921 - categorical_accuracy: 0.8178\n",
      "Epoch 00002: val_loss improved from 1.17259 to 0.70765, saving model to model_init_2023-03-1210_47_59.579050/model-00002-0.59208-0.81778-0.70765-0.73000.h5\n",
      "27/27 [==============================] - 80s 3s/step - loss: 0.5921 - categorical_accuracy: 0.8178 - val_loss: 0.7076 - val_categorical_accuracy: 0.7300 - lr: 0.0010\n",
      "Epoch 3/20\n",
      "27/27 [==============================] - ETA: 0s - loss: 0.4477 - categorical_accuracy: 0.9052\n",
      "Epoch 00003: val_loss improved from 0.70765 to 0.42422, saving model to model_init_2023-03-1210_47_59.579050/model-00003-0.44773-0.90519-0.42422-0.86000.h5\n",
      "27/27 [==============================] - 80s 3s/step - loss: 0.4477 - categorical_accuracy: 0.9052 - val_loss: 0.4242 - val_categorical_accuracy: 0.8600 - lr: 0.0010\n",
      "Epoch 4/20\n",
      "27/27 [==============================] - ETA: 0s - loss: 0.3521 - categorical_accuracy: 0.9452\n",
      "Epoch 00004: val_loss improved from 0.42422 to 0.15256, saving model to model_init_2023-03-1210_47_59.579050/model-00004-0.35206-0.94519-0.15256-0.95000.h5\n",
      "27/27 [==============================] - 80s 3s/step - loss: 0.3521 - categorical_accuracy: 0.9452 - val_loss: 0.1526 - val_categorical_accuracy: 0.9500 - lr: 0.0010\n",
      "Epoch 5/20\n",
      "27/27 [==============================] - ETA: 0s - loss: 0.2205 - categorical_accuracy: 0.9733\n",
      "Epoch 00005: val_loss did not improve from 0.15256\n",
      "27/27 [==============================] - 78s 3s/step - loss: 0.2205 - categorical_accuracy: 0.9733 - val_loss: 0.1964 - val_categorical_accuracy: 0.9400 - lr: 0.0010\n",
      "Epoch 6/20\n",
      "27/27 [==============================] - ETA: 0s - loss: 0.2802 - categorical_accuracy: 0.9644\n",
      "Epoch 00006: val_loss did not improve from 0.15256\n",
      "27/27 [==============================] - 80s 3s/step - loss: 0.2802 - categorical_accuracy: 0.9644 - val_loss: 0.4168 - val_categorical_accuracy: 0.8600 - lr: 0.0010\n",
      "Epoch 7/20\n",
      "27/27 [==============================] - ETA: 0s - loss: 0.2677 - categorical_accuracy: 0.9585\n",
      "Epoch 00007: val_loss did not improve from 0.15256\n",
      "27/27 [==============================] - 78s 3s/step - loss: 0.2677 - categorical_accuracy: 0.9585 - val_loss: 0.4083 - val_categorical_accuracy: 0.9100 - lr: 0.0010\n",
      "Epoch 8/20\n",
      "27/27 [==============================] - ETA: 0s - loss: 0.3131 - categorical_accuracy: 0.9570\n",
      "Epoch 00008: val_loss improved from 0.15256 to 0.13034, saving model to model_init_2023-03-1210_47_59.579050/model-00008-0.31310-0.95704-0.13034-0.95000.h5\n",
      "27/27 [==============================] - 80s 3s/step - loss: 0.3131 - categorical_accuracy: 0.9570 - val_loss: 0.1303 - val_categorical_accuracy: 0.9500 - lr: 0.0010\n",
      "Epoch 9/20\n",
      "27/27 [==============================] - ETA: 0s - loss: 0.2395 - categorical_accuracy: 0.9689\n",
      "Epoch 00009: val_loss did not improve from 0.13034\n",
      "27/27 [==============================] - 80s 3s/step - loss: 0.2395 - categorical_accuracy: 0.9689 - val_loss: 0.2273 - val_categorical_accuracy: 0.9000 - lr: 0.0010\n",
      "Epoch 10/20\n",
      "27/27 [==============================] - ETA: 0s - loss: 0.3712 - categorical_accuracy: 0.9467\n",
      "Epoch 00010: val_loss did not improve from 0.13034\n",
      "27/27 [==============================] - 80s 3s/step - loss: 0.3712 - categorical_accuracy: 0.9467 - val_loss: 0.6098 - val_categorical_accuracy: 0.8100 - lr: 0.0010\n",
      "Epoch 11/20\n",
      "27/27 [==============================] - ETA: 0s - loss: 0.3396 - categorical_accuracy: 0.9526\n",
      "Epoch 00011: val_loss improved from 0.13034 to 0.10664, saving model to model_init_2023-03-1210_47_59.579050/model-00011-0.33963-0.95259-0.10664-0.97000.h5\n",
      "27/27 [==============================] - 80s 3s/step - loss: 0.3396 - categorical_accuracy: 0.9526 - val_loss: 0.1066 - val_categorical_accuracy: 0.9700 - lr: 0.0010\n",
      "Epoch 12/20\n",
      "27/27 [==============================] - ETA: 0s - loss: 0.2618 - categorical_accuracy: 0.9704\n",
      "Epoch 00012: val_loss improved from 0.10664 to 0.08672, saving model to model_init_2023-03-1210_47_59.579050/model-00012-0.26176-0.97037-0.08672-0.97000.h5\n",
      "27/27 [==============================] - 80s 3s/step - loss: 0.2618 - categorical_accuracy: 0.9704 - val_loss: 0.0867 - val_categorical_accuracy: 0.9700 - lr: 0.0010\n",
      "Epoch 13/20\n",
      "27/27 [==============================] - ETA: 0s - loss: 0.2383 - categorical_accuracy: 0.9719\n",
      "Epoch 00013: val_loss did not improve from 0.08672\n",
      "27/27 [==============================] - 80s 3s/step - loss: 0.2383 - categorical_accuracy: 0.9719 - val_loss: 0.1926 - val_categorical_accuracy: 0.9300 - lr: 0.0010\n",
      "Epoch 14/20\n",
      "27/27 [==============================] - ETA: 0s - loss: 0.2678 - categorical_accuracy: 0.9719\n",
      "Epoch 00014: val_loss improved from 0.08672 to 0.08132, saving model to model_init_2023-03-1210_47_59.579050/model-00014-0.26784-0.97185-0.08132-0.96000.h5\n",
      "27/27 [==============================] - 79s 3s/step - loss: 0.2678 - categorical_accuracy: 0.9719 - val_loss: 0.0813 - val_categorical_accuracy: 0.9600 - lr: 0.0010\n",
      "Epoch 15/20\n",
      "27/27 [==============================] - ETA: 0s - loss: 0.2589 - categorical_accuracy: 0.9733\n",
      "Epoch 00015: val_loss did not improve from 0.08132\n",
      "27/27 [==============================] - 80s 3s/step - loss: 0.2589 - categorical_accuracy: 0.9733 - val_loss: 0.1309 - val_categorical_accuracy: 0.9500 - lr: 0.0010\n",
      "Epoch 16/20\n",
      "27/27 [==============================] - ETA: 0s - loss: 0.2643 - categorical_accuracy: 0.9719\n",
      "Epoch 00016: val_loss did not improve from 0.08132\n",
      "27/27 [==============================] - 79s 3s/step - loss: 0.2643 - categorical_accuracy: 0.9719 - val_loss: 0.3359 - val_categorical_accuracy: 0.9100 - lr: 0.0010\n",
      "Epoch 17/20\n",
      "27/27 [==============================] - ETA: 0s - loss: 0.2169 - categorical_accuracy: 0.9719\n",
      "Epoch 00017: val_loss did not improve from 0.08132\n",
      "27/27 [==============================] - 80s 3s/step - loss: 0.2169 - categorical_accuracy: 0.9719 - val_loss: 0.4332 - val_categorical_accuracy: 0.8700 - lr: 0.0010\n",
      "Epoch 18/20\n",
      "27/27 [==============================] - ETA: 0s - loss: 0.2477 - categorical_accuracy: 0.9674\n",
      "Epoch 00018: val_loss did not improve from 0.08132\n",
      "27/27 [==============================] - 79s 3s/step - loss: 0.2477 - categorical_accuracy: 0.9674 - val_loss: 0.5113 - val_categorical_accuracy: 0.8500 - lr: 0.0010\n",
      "Epoch 19/20\n",
      "27/27 [==============================] - ETA: 0s - loss: 0.2670 - categorical_accuracy: 0.9570\n",
      "Epoch 00019: val_loss did not improve from 0.08132\n",
      "\n",
      "Epoch 00019: ReduceLROnPlateau reducing learning rate to 1.0000000474974514e-05.\n",
      "27/27 [==============================] - 80s 3s/step - loss: 0.2670 - categorical_accuracy: 0.9570 - val_loss: 0.4171 - val_categorical_accuracy: 0.8500 - lr: 0.0010\n",
      "Epoch 20/20\n",
      "27/27 [==============================] - ETA: 0s - loss: 0.3692 - categorical_accuracy: 0.9496\n",
      "Epoch 00020: val_loss did not improve from 0.08132\n",
      "27/27 [==============================] - 79s 3s/step - loss: 0.3692 - categorical_accuracy: 0.9496 - val_loss: 0.2993 - val_categorical_accuracy: 0.9100 - lr: 1.0000e-05\n"
     ]
    }
   ],
   "source": [
    "print(\"Total Params:\", model.count_params())\n",
    "trained_model_11=train_model(model)"
   ]
  },
  {
   "cell_type": "code",
   "execution_count": 36,
   "metadata": {},
   "outputs": [
    {
     "data": {
      "image/png": "[encoded data removed]",
      "text/plain": [
       "<Figure size 1080x288 with 2 Axes>"
      ]
     },
     "metadata": {
      "needs_background": "light"
     },
     "output_type": "display_data"
    }
   ],
   "source": [
    "plot(trained_model_11)"
   ]
  },
  {
   "cell_type": "markdown",
   "metadata": {},
   "source": [
    "> Observation : \n",
    ">> Almost Perfrom Like Last Model, val/ train accuracy is good no overfitting, but till now Model 8 is best"
   ]
  },
  {
   "cell_type": "markdown",
   "metadata": {},
   "source": [
    "We started by building a basic CNN+RNN model without using any dropouts. GRU was selected as it has fewer parameters than LSTM, as it lacks an output gate.\n",
    "\n",
    "• We experimented with different models by using different model configurations and hyperparameters such as introducing dropouts, using L2 regularization in combination with different optimizers.\n",
    "\n",
    "• We also experimented with SGD() and Adam() optimizers but finally used Adam() as it lead to improvement in model’s accuracy. Due to the limited computational capacity we could not experiment with other optimizers such as Adagrad and Adadelta as these take a lot of time to run.\n",
    "\n",
    "• We also played around with different learning rates and ReduceLROnPlateau was used to decrease the learning rate .\n",
    "\n",
    "• To overcome the issue of overfitting we used Batch Normalization, pooling and dropout layers.\n",
    "\n",
    "• Then we used Conv3D and experimented with different model configurations to arrive at the final model."
   ]
  },
  {
   "cell_type": "code",
   "execution_count": 1,
   "metadata": {},
   "outputs": [
    {
     "name": "stderr",
     "output_type": "stream",
     "text": [
      "2023-03-12 15:54:30.245190: W tensorflow/stream_executor/platform/default/dso_loader.cc:65] Could not load dynamic library 'libcuda.so.1'; dlerror: libcuda.so.1: cannot open shared object file: No such file or directory; LD_LIBRARY_PATH: /usr/local/cuda/extras/CUPTI/lib64:/usr/local/cuda/compat/lib:/usr/local/nvidia/lib:/usr/local/nvidia/lib64\n",
      "2023-03-12 15:54:30.250328: W tensorflow/stream_executor/cuda/cuda_driver.cc:269] failed call to cuInit: UNKNOWN ERROR (303)\n",
      "2023-03-12 15:54:30.250378: I tensorflow/stream_executor/cuda/cuda_diagnostics.cc:163] no NVIDIA GPU device is present: /dev/nvidia0 does not exist\n"
     ]
    }
   ],
   "source": [
    "from tensorflow import keras\n",
    "model = keras.models.load_model('model_init_2023-03-1210_47_59.579050/model-00012-0.26176-0.97037-0.08672-0.97000.h5')"
   ]
  },
  {
   "cell_type": "code",
   "execution_count": 2,
   "metadata": {},
   "outputs": [
    {
     "name": "stdout",
     "output_type": "stream",
     "text": [
      "Model: \"sequential_5\"\n",
      "_________________________________________________________________\n",
      " Layer (type)                Output Shape              Param #   \n",
      "=================================================================\n",
      " time_distributed_20 (TimeDi  (None, 15, 3, 3, 1024)   3228864   \n",
      " stributed)                                                      \n",
      "                                                                 \n",
      " time_distributed_21 (TimeDi  (None, 15, 3, 3, 1024)   4096      \n",
      " stributed)                                                      \n",
      "                                                                 \n",
      " time_distributed_22 (TimeDi  (None, 15, 1, 1, 1024)   0         \n",
      " stributed)                                                      \n",
      "                                                                 \n",
      " time_distributed_23 (TimeDi  (None, 15, 1024)         0         \n",
      " stributed)                                                      \n",
      "                                                                 \n",
      " gru_5 (GRU)                 (None, 64)                209280    \n",
      "                                                                 \n",
      " dropout_10 (Dropout)        (None, 64)                0         \n",
      "                                                                 \n",
      " dense_10 (Dense)            (None, 32)                2080      \n",
      "                                                                 \n",
      " dropout_11 (Dropout)        (None, 32)                0         \n",
      "                                                                 \n",
      " dense_11 (Dense)            (None, 5)                 165       \n",
      "                                                                 \n",
      "=================================================================\n",
      "Total params: 3,444,485\n",
      "Trainable params: 3,420,549\n",
      "Non-trainable params: 23,936\n",
      "_________________________________________________________________\n"
     ]
    }
   ],
   "source": [
    "model.summary()"
   ]
  },
  {
   "cell_type": "markdown",
   "metadata": {},
   "source": [
    "############################################## END OF PROJECT ##############################################"
   ]
  },
  {
   "cell_type": "code",
   "execution_count": null,
   "metadata": {},
   "outputs": [],
   "source": []
  }
 ],
 "metadata": {
  "kernelspec": {
   "display_name": "Python 3 (ipykernel)",
   "language": "python",
   "name": "python3"
  },
  "language_info": {
   "codemirror_mode": {
    "name": "ipython",
    "version": 3
   },
   "file_extension": ".py",
   "mimetype": "text/x-python",
   "name": "python",
   "nbconvert_exporter": "python",
   "pygments_lexer": "ipython3",
   "version": "3.8.10"
  }
 },
 "nbformat": 4,
 "nbformat_minor": 4
}
