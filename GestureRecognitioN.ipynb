{
 "cells": [
  {
   "cell_type": "markdown",
   "metadata": {},
   "source": [
    "# Project Description\n",
    "\n",
    "**Develop a feature in the smart-TV that can recognise five different gestures performed by the user which will help users control the TV without using a remote.**\n",
    "\n",
    "The gestures are continuously monitored by the webcam mounted on the TV. Each gesture corresponds to a specific command:\n",
    "\n",
    "* **Thumbs up**:  Increase the volume\n",
    "* **Thumbs down**: Decrease the volume\n",
    "* **Left swipe**: 'Jump' backwards 10 seconds\n",
    "* **Right swipe**: 'Jump' forward 10 seconds  \n",
    "* **Stop**: Pause the movie\n",
    "\n",
    "[Data Source](https://drive.google.com/uc?id=1ehyrYBQ5rbQQe6yL4XbLWe3FMvuVUGiL)\n",
    "\n",
    "## Objectives\n",
    "\n",
    "**Generator**: The generator should be able to take a batch of videos as input without any error. Steps like cropping, resizing and normalization should be performed successfully.\n",
    "\n",
    "**Model**: Develop a model that is able to train without any errors which will be judged on the total number of parameters (as the inference(prediction) time should be less) and the accuracy achieved. As suggested by Snehansu, start training on a small amount of data and then proceed further.\n",
    "\n",
    "**Write up**: This should contain the detailed procedure followed in choosing the final model. The write up should start with the reason for choosing the base model, then highlight the reasons and metrics taken into consideration to modify and experiment to arrive at the final model."
   ]
  },
  {
   "cell_type": "code",
   "execution_count": 1,
   "metadata": {},
   "outputs": [],
   "source": [
    "# load library\n",
    "import numpy as np\n",
    "import os\n",
    "from imageio import imread\n",
    "from skimage.transform import resize\n",
    "import datetime\n",
    "import os"
   ]
  },
  {
   "cell_type": "markdown",
   "metadata": {},
   "source": [
    ">We set the random seed so that the results don't vary drastically each run of the files."
   ]
  },
  {
   "cell_type": "code",
   "execution_count": 2,
   "metadata": {},
   "outputs": [],
   "source": [
    "np.random.seed(30)\n",
    "import random as rn\n",
    "rn.seed(30)\n",
    "from tensorflow import keras\n",
    "import tensorflow as tf\n",
    "tf.random.set_seed(30)"
   ]
  },
  {
   "cell_type": "markdown",
   "metadata": {},
   "source": [
    "In this block, you read the folder names for training and validation. You also set the `batch_size` here. Note that you set the batch size in such a way that you are able to use the GPU in full capacity. You keep increasing the batch size until the machine throws an error."
   ]
  },
  {
   "cell_type": "markdown",
   "metadata": {},
   "source": [
    "**data path: /home/datasets/Project_data**"
   ]
  },
  {
   "cell_type": "code",
   "execution_count": 3,
   "metadata": {},
   "outputs": [],
   "source": [
    "train_doc = np.random.permutation(open('/home/datasets/Project_data/train.csv').readlines()) #train data details\n",
    "val_doc = np.random.permutation(open('/home/datasets/Project_data/val.csv').readlines())     #validation data details\n",
    "batch_size = 15                                                                              #started with lower batch size"
   ]
  },
  {
   "cell_type": "markdown",
   "metadata": {},
   "source": [
    "## Generator\n",
    "This is one of the most important part of the code. The overall structure of the generator has been given. In the generator, you are going to preprocess the images as you have images of 2 different dimensions as well as create a batch of video frames. You have to experiment with `img_idx`, `y`,`z` and normalization such that you get high accuracy.\n",
    "\n",
    ">Data Processing:\n",
    "\n",
    ">>•\tDeciding on number of images to be taken per video/sequence\n",
    "\n",
    ">>•\tResizing  and cropping the images : This was mainly done to ensure that the Neural network only recognizes the gestures effectively rather than focusing on the other background noise present in the image. We used 120 by 120 image size after experimenting with different sizes.\n",
    "\n",
    ">>•\tNormalizing the images : Normalizing the RGB values of an image can at times be a simple and effective way to get rid of distortions caused by lights and shadows in an image.\n"
   ]
  },
  {
   "cell_type": "code",
   "execution_count": 4,
   "metadata": {},
   "outputs": [],
   "source": [
    "def generator(source_path, folder_list, batch_size):\n",
    "    print( 'Source path = ', source_path, '; batch size =', batch_size)\n",
    "    \n",
    "    # -------------- LIST CREATION\n",
    "    #create a list of image numbers you want to use for a particular video, we are not using all the 30 images in a video, selected pickup of images\n",
    "    img_idx = [x for x in range(0,30,2)]\n",
    "    \n",
    "    while True:\n",
    "        t = np.random.permutation(folder_list)\n",
    "        \n",
    "        # -------------- INITIALISATION OF BATCH\n",
    "        # calculate the number of batches\n",
    "        num_batches =int(len(t)/batch_size) \n",
    "         # we iterate over the number of batches\n",
    "        for batch in range(num_batches):\n",
    "            x=len(img_idx)\n",
    "            y=120\n",
    "            z=120\n",
    "            # x is the number of images you use for each video, (y,z) is the final size of the input images and 3 is the number of channels RGB\n",
    "            batch_data = np.zeros((batch_size,x,y,z,3)) \n",
    "            # batch_labels is the one hot representation of the output\n",
    "            batch_labels = np.zeros((batch_size,5)) \n",
    "            cnt_img=0\n",
    "            for folder in range(batch_size): # iterate over the batch_size\n",
    "                imgs = os.listdir(source_path+'/'+ t[folder + (batch*batch_size)].split(';')[0]) # read all the images in the folder\n",
    "                cnt_img+=1\n",
    "                # ------------------ LOOPING DATA POINTS\n",
    "                for idx,item in enumerate(img_idx): #  Iterate iver the frames/images of a folder to read them in\n",
    "                    image = imread(source_path+'/'+ t[folder + (batch*batch_size)].strip().split(';')[0]+'/'+imgs[item]).astype(np.float32)\n",
    "                    \n",
    "                    #crop the images and resize them. Note that the images are of 2 different shape \n",
    "                    #and the conv3D will throw error if the inputs in a batch have different shapes\n",
    "                    # ------------------ NORMALIZE\n",
    "                    norm_image=image/255.0\n",
    "                    \n",
    "                    # ------------------ RESIZE\n",
    "                    image_resized=resize(norm_image,(120,120),mode='reflect')\n",
    "                    \n",
    "                    batch_data[folder,idx,:,:,0] = (image_resized[:,:,0])#normalise and feed in the image\n",
    "                    batch_data[folder,idx,:,:,1] = (image_resized[:,:,1])#normalise and feed in the image\n",
    "                    batch_data[folder,idx,:,:,2] = (image_resized[:,:,2])#normalise and feed in the image\n",
    "                    \n",
    "                batch_labels[folder, int(t[folder + (batch*batch_size)].strip().split(';')[2])] = 1\n",
    "            yield batch_data, batch_labels #you yield the batch_data and the batch_labels, remember what does yield do\n",
    "\n",
    "        \n",
    "        # write the code for the remaining data points which are left after full batches\n",
    "        cnt_img=0\n",
    "        batch_cover = num_batches*batch_size\n",
    "        rem = len(t) - batch_cover\n",
    "        if(len(t)!=batch_cover):\n",
    "            for folder in range(rem):\n",
    "                imgs = os.listdir(source_path+'/'+ t[folder + batch_cover].split(';')[0]) # read all the images in the folder\n",
    "                cnt_img+=1\n",
    "                for idx,item in enumerate(img_idx): #  Iterate iver the frames/images of a folder to read them in\n",
    "                    image = imread(source_path+'/'+ t[folder + batch_cover].strip().split(';')[0]+'/'+imgs[item]).astype(np.float32)\n",
    "                    \n",
    "                    #crop the images and resize them. Note that the images are of 2 different shape \n",
    "                    #and the conv3D will throw error if the inputs in a batch have different shapes\n",
    "                    norm_image = image/255.0 # normalizing the image \n",
    "                    image_resized=resize(norm_image, (120,120), mode='reflect')\n",
    "                    \n",
    "                    batch_data[folder,idx,:,:,0] = (image_resized[:,:,0]) #normalise and feed in the image\n",
    "                    batch_data[folder,idx,:,:,1] = (image_resized[:,:,1]) #normalise and feed in the image\n",
    "                    batch_data[folder,idx,:,:,2] = (image_resized[:,:,2]) #normalise and feed in the image\n",
    "                    \n",
    "                batch_labels[folder, int(t[folder + batch_size].strip().split(';')[2])] = 1\n",
    "            yield batch_data, batch_labels #you yield the batch_data and the batch_labels, remember what does yield do\n"
   ]
  },
  {
   "cell_type": "markdown",
   "metadata": {},
   "source": [
    "Note here that a video is represented above in the generator as (number of images, height, width, number of channels). Take this into consideration while creating the model architecture."
   ]
  },
  {
   "cell_type": "code",
   "execution_count": 5,
   "metadata": {},
   "outputs": [
    {
     "name": "stdout",
     "output_type": "stream",
     "text": [
      "# training sequences = 663\n",
      "# validation sequences = 100\n",
      "# epochs = 20\n"
     ]
    }
   ],
   "source": [
    "curr_dt_time = datetime.datetime.now()\n",
    "train_path = '/home/datasets/Project_data/train'\n",
    "val_path = '/home/datasets/Project_data/val'\n",
    "num_train_sequences = len(train_doc)\n",
    "print('# training sequences =', num_train_sequences)\n",
    "num_val_sequences = len(val_doc)\n",
    "print('# validation sequences =', num_val_sequences)\n",
    "num_epochs = 20\n",
    "print ('# epochs =', num_epochs)"
   ]
  },
  {
   "cell_type": "markdown",
   "metadata": {},
   "source": [
    "## Model\n",
    "Here you make the model using different functionalities that Keras provides. Remember to use `Conv3D` and `MaxPooling3D` and not `Conv2D` and `Maxpooling2D` for a 3D convolution model. You would want to use `TimeDistributed` while building a Conv2D + RNN model. Also remember that the last layer is the softmax. Design the network in such a way that the model is able to give good accuracy on the least number of parameters so that it can fit in the memory of the webcam."
   ]
  },
  {
   "cell_type": "code",
   "execution_count": 6,
   "metadata": {},
   "outputs": [],
   "source": [
    "from tensorflow.keras.models import Sequential\n",
    "from tensorflow.keras.layers import Dense, GRU, Dropout, TimeDistributed,Flatten, BatchNormalization, Activation, Conv3D, MaxPooling3D\n",
    "from keras.layers.convolutional import Conv2D,MaxPooling2D\n",
    "from tensorflow.keras.callbacks import ModelCheckpoint, ReduceLROnPlateau\n",
    "from tensorflow.keras import optimizers\n",
    "import matplotlib.pyplot as plt\n",
    "from keras.regularizers import l2"
   ]
  },
  {
   "cell_type": "markdown",
   "metadata": {},
   "source": [
    "Now that you have written the model, the next step is to `compile` the model. When you print the `summary` of the model, you'll see the total number of parameters you have to train."
   ]
  },
  {
   "cell_type": "code",
   "execution_count": 7,
   "metadata": {},
   "outputs": [],
   "source": [
    "def train_model( model):\n",
    "        # Let us create the `train_generator` and the `val_generator` which will be used in `.fit_generator`.\n",
    "        train_generator = generator(train_path, train_doc, batch_size)\n",
    "        val_generator = generator(val_path, val_doc, batch_size)\n",
    "\n",
    "        model_name = 'model_init' + '_' + str(curr_dt_time).replace(' ','').replace(':','_') + '/' #file name\n",
    "    \n",
    "        if not os.path.exists(model_name):\n",
    "            os.mkdir(model_name)\n",
    "        \n",
    "        filepath = model_name + 'model-{epoch:05d}-{loss:.5f}-{categorical_accuracy:.5f}-{val_loss:.5f}-{val_categorical_accuracy:.5f}.h5' #file path\n",
    "\n",
    "        checkpoint = ModelCheckpoint(filepath, monitor='val_loss', verbose=1, save_best_only=True, save_weights_only=False, mode='auto', period=1) #chekpoints to save model in .h5\n",
    "        LR = ReduceLROnPlateau(monitor='val_loss', factor=0.01, patience=5, cooldown=4, verbose=1,mode='auto',min_delta=0.0001) #learning Rate\n",
    "        callbacks_list = [checkpoint, LR]\n",
    "\n",
    "        if (num_train_sequences%batch_size) == 0:\n",
    "            steps_per_epoch = int(num_train_sequences/batch_size)\n",
    "        else:\n",
    "            steps_per_epoch = (num_train_sequences//batch_size) + 1 #in case of remaining data points which are left after full batches\n",
    "\n",
    "        if (num_val_sequences%batch_size) == 0:\n",
    "            validation_steps = int(num_val_sequences/batch_size)\n",
    "        else:\n",
    "            validation_steps = (num_val_sequences//batch_size) + 1 #in case of remaining data points which are left after full batches\n",
    "            \n",
    "        # Let us now fit the model. This will start training the model and with the help of the checkpoints, you'll be able to save the model at the end of each epoch.\n",
    "        history=model.fit_generator(train_generator, steps_per_epoch=steps_per_epoch, epochs=num_epochs, verbose=1, \n",
    "                            callbacks=callbacks_list, validation_data=val_generator, \n",
    "                            validation_steps=validation_steps, class_weight=None, workers=1, initial_epoch=0)\n",
    "        return history\n"
   ]
  },
  {
   "cell_type": "code",
   "execution_count": 8,
   "metadata": {},
   "outputs": [],
   "source": [
    "# plot accuracy & loss graph for training & validation results\n",
    "def plot(history):\n",
    "    fig, axes = plt.subplots(nrows=1, ncols=2, figsize=(15,4))\n",
    "    axes[0].plot(history.history['loss'])   \n",
    "    axes[0].plot(history.history['val_loss'])\n",
    "    axes[0].legend(['loss','val_loss'])\n",
    "\n",
    "    axes[1].plot(history.history['categorical_accuracy'])   \n",
    "    axes[1].plot(history.history['val_categorical_accuracy'])\n",
    "    axes[1].legend(['categorical_accuracy','val_categorical_accuracy'])"
   ]
  },
  {
   "cell_type": "code",
   "execution_count": 9,
   "metadata": {},
   "outputs": [],
   "source": [
    "def plot_2(history):\n",
    "    plt.plot(trained_model.history['categorical_accuracy'])\n",
    "    plt.plot(trained_model.history['val_categorical_accuracy'])\n",
    "    plt.title('model accuracy')\n",
    "    plt.ylabel('accuracy')\n",
    "    plt.xlabel('epoch')\n",
    "    plt.legend(['train', 'test'], loc='upper left')\n",
    "    plt.show()"
   ]
  },
  {
   "cell_type": "markdown",
   "metadata": {},
   "source": [
    "### Model 1 : Conv2D layers + GRU Layer+ Adam optimiser + No dropout"
   ]
  },
  {
   "cell_type": "code",
   "execution_count": 10,
   "metadata": {},
   "outputs": [
    {
     "name": "stderr",
     "output_type": "stream",
     "text": [
      "2023-03-11 22:10:11.666026: W tensorflow/stream_executor/platform/default/dso_loader.cc:65] Could not load dynamic library 'libcuda.so.1'; dlerror: libcuda.so.1: cannot open shared object file: No such file or directory; LD_LIBRARY_PATH: /usr/local/cuda/extras/CUPTI/lib64:/usr/local/cuda/compat/lib:/usr/local/nvidia/lib:/usr/local/nvidia/lib64\n",
      "2023-03-11 22:10:11.666079: W tensorflow/stream_executor/cuda/cuda_driver.cc:269] failed call to cuInit: UNKNOWN ERROR (303)\n",
      "2023-03-11 22:10:11.666108: I tensorflow/stream_executor/cuda/cuda_diagnostics.cc:163] no NVIDIA GPU device is present: /dev/nvidia0 does not exist\n"
     ]
    }
   ],
   "source": [
    "num_featuremaps = [16,32,64,128]\n",
    "num_denselayers = [64,32,5]\n",
    "num_classes = 5\n",
    "frames = 15\n",
    "\n",
    "\n",
    "# Input\n",
    "input_shape=(frames,120,120,3)\n",
    "\n",
    "model = Sequential()\n",
    "\n",
    "model.add(TimeDistributed(Conv2D(num_featuremaps[0], (3, 3), strides=(2, 2),activation='relu', padding='same'), input_shape=input_shape))\n",
    "model.add(TimeDistributed(BatchNormalization()))\n",
    "model.add(TimeDistributed(MaxPooling2D((2, 2), strides=(2, 2))))\n",
    "\n",
    "model.add(TimeDistributed(Conv2D(num_featuremaps[1], (3,3),padding='same', activation='relu')))\n",
    "model.add(TimeDistributed(BatchNormalization()))\n",
    "model.add(TimeDistributed(MaxPooling2D((2, 2), strides=(2, 2))))\n",
    "\n",
    "model.add(TimeDistributed(Conv2D(num_featuremaps[2], (3,3),padding='same', activation='relu')))\n",
    "model.add(TimeDistributed(BatchNormalization()))\n",
    "model.add(TimeDistributed(MaxPooling2D((2, 2), strides=(2, 2))))\n",
    "\n",
    "model.add(TimeDistributed(Conv2D(num_featuremaps[3], (2,2),padding='same', activation='relu')))\n",
    "model.add(TimeDistributed(BatchNormalization()))\n",
    "model.add(TimeDistributed(MaxPooling2D((2, 2), strides=(2, 2))))\n",
    "\n",
    "model.add(TimeDistributed(Flatten()))\n",
    "\n",
    "model.add(Dense(num_denselayers[0], activation='relu'))\n",
    "model.add(Dense(num_denselayers[1], activation='relu'))\n",
    "\n",
    "## using GRU as the RNN model\n",
    "model.add(GRU(64, return_sequences=False))\n",
    "\n",
    "# using Softmax as last layer\n",
    "model.add(Dense(num_classes, activation='softmax')) "
   ]
  },
  {
   "cell_type": "code",
   "execution_count": 11,
   "metadata": {
    "scrolled": true
   },
   "outputs": [
    {
     "name": "stdout",
     "output_type": "stream",
     "text": [
      "Model: \"sequential\"\n",
      "_________________________________________________________________\n",
      " Layer (type)                Output Shape              Param #   \n",
      "=================================================================\n",
      " time_distributed (TimeDistr  (None, 15, 60, 60, 16)   448       \n",
      " ibuted)                                                         \n",
      "                                                                 \n",
      " time_distributed_1 (TimeDis  (None, 15, 60, 60, 16)   64        \n",
      " tributed)                                                       \n",
      "                                                                 \n",
      " time_distributed_2 (TimeDis  (None, 15, 30, 30, 16)   0         \n",
      " tributed)                                                       \n",
      "                                                                 \n",
      " time_distributed_3 (TimeDis  (None, 15, 30, 30, 32)   4640      \n",
      " tributed)                                                       \n",
      "                                                                 \n",
      " time_distributed_4 (TimeDis  (None, 15, 30, 30, 32)   128       \n",
      " tributed)                                                       \n",
      "                                                                 \n",
      " time_distributed_5 (TimeDis  (None, 15, 15, 15, 32)   0         \n",
      " tributed)                                                       \n",
      "                                                                 \n",
      " time_distributed_6 (TimeDis  (None, 15, 15, 15, 64)   18496     \n",
      " tributed)                                                       \n",
      "                                                                 \n",
      " time_distributed_7 (TimeDis  (None, 15, 15, 15, 64)   256       \n",
      " tributed)                                                       \n",
      "                                                                 \n",
      " time_distributed_8 (TimeDis  (None, 15, 7, 7, 64)     0         \n",
      " tributed)                                                       \n",
      "                                                                 \n",
      " time_distributed_9 (TimeDis  (None, 15, 7, 7, 128)    32896     \n",
      " tributed)                                                       \n",
      "                                                                 \n",
      " time_distributed_10 (TimeDi  (None, 15, 7, 7, 128)    512       \n",
      " stributed)                                                      \n",
      "                                                                 \n",
      " time_distributed_11 (TimeDi  (None, 15, 3, 3, 128)    0         \n",
      " stributed)                                                      \n",
      "                                                                 \n",
      " time_distributed_12 (TimeDi  (None, 15, 1152)         0         \n",
      " stributed)                                                      \n",
      "                                                                 \n",
      " dense (Dense)               (None, 15, 64)            73792     \n",
      "                                                                 \n",
      " dense_1 (Dense)             (None, 15, 32)            2080      \n",
      "                                                                 \n",
      " gru (GRU)                   (None, 64)                18816     \n",
      "                                                                 \n",
      " dense_2 (Dense)             (None, 5)                 325       \n",
      "                                                                 \n",
      "=================================================================\n",
      "Total params: 152,453\n",
      "Trainable params: 151,973\n",
      "Non-trainable params: 480\n",
      "_________________________________________________________________\n",
      "None\n"
     ]
    }
   ],
   "source": [
    "from tensorflow.keras.optimizers import Adam\n",
    "optimiser = \"Adam\"#write your optimizer\n",
    "model.compile(optimizer=optimiser, loss='categorical_crossentropy', metrics=['categorical_accuracy'])\n",
    "print (model.summary())"
   ]
  },
  {
   "cell_type": "code",
   "execution_count": 12,
   "metadata": {},
   "outputs": [
    {
     "name": "stdout",
     "output_type": "stream",
     "text": [
      "Total Params: 152453\n",
      "WARNING:tensorflow:`period` argument is deprecated. Please use `save_freq` to specify the frequency in number of batches seen.\n",
      "Source path =  /home/datasets/Project_data/train ; batch size = 15\n"
     ]
    },
    {
     "name": "stderr",
     "output_type": "stream",
     "text": [
      "/tmp/ipykernel_369/2256448371.py:28: UserWarning: `Model.fit_generator` is deprecated and will be removed in a future version. Please use `Model.fit`, which supports generators.\n",
      "  history=model.fit_generator(train_generator, steps_per_epoch=steps_per_epoch, epochs=num_epochs, verbose=1,\n"
     ]
    },
    {
     "name": "stdout",
     "output_type": "stream",
     "text": [
      "Epoch 1/20\n",
      "45/45 [==============================] - ETA: 0s - loss: 1.2147 - categorical_accuracy: 0.4963Source path =  /home/datasets/Project_data/val ; batch size = 15\n",
      "\n",
      "Epoch 00001: val_loss improved from inf to 1.72147, saving model to model_init_2023-03-1122_10_07.194785/model-00001-1.21468-0.49630-1.72147-0.24762.h5\n",
      "45/45 [==============================] - 145s 3s/step - loss: 1.2147 - categorical_accuracy: 0.4963 - val_loss: 1.7215 - val_categorical_accuracy: 0.2476 - lr: 0.0010\n",
      "Epoch 2/20\n",
      "45/45 [==============================] - ETA: 0s - loss: 0.8005 - categorical_accuracy: 0.7111\n",
      "Epoch 00002: val_loss did not improve from 1.72147\n",
      "45/45 [==============================] - 139s 3s/step - loss: 0.8005 - categorical_accuracy: 0.7111 - val_loss: 2.1632 - val_categorical_accuracy: 0.2000 - lr: 0.0010\n",
      "Epoch 3/20\n",
      "45/45 [==============================] - ETA: 0s - loss: 0.5384 - categorical_accuracy: 0.7970\n",
      "Epoch 00003: val_loss did not improve from 1.72147\n",
      "45/45 [==============================] - 138s 3s/step - loss: 0.5384 - categorical_accuracy: 0.7970 - val_loss: 2.5519 - val_categorical_accuracy: 0.2190 - lr: 0.0010\n",
      "Epoch 4/20\n",
      "45/45 [==============================] - ETA: 0s - loss: 0.3396 - categorical_accuracy: 0.8874\n",
      "Epoch 00004: val_loss did not improve from 1.72147\n",
      "45/45 [==============================] - 137s 3s/step - loss: 0.3396 - categorical_accuracy: 0.8874 - val_loss: 2.8924 - val_categorical_accuracy: 0.2286 - lr: 0.0010\n",
      "Epoch 5/20\n",
      "45/45 [==============================] - ETA: 0s - loss: 0.2137 - categorical_accuracy: 0.9319\n",
      "Epoch 00005: val_loss did not improve from 1.72147\n",
      "45/45 [==============================] - 142s 3s/step - loss: 0.2137 - categorical_accuracy: 0.9319 - val_loss: 2.9824 - val_categorical_accuracy: 0.2476 - lr: 0.0010\n",
      "Epoch 6/20\n",
      "45/45 [==============================] - ETA: 0s - loss: 0.1507 - categorical_accuracy: 0.9644\n",
      "Epoch 00006: val_loss did not improve from 1.72147\n",
      "\n",
      "Epoch 00006: ReduceLROnPlateau reducing learning rate to 1.0000000474974514e-05.\n",
      "45/45 [==============================] - 138s 3s/step - loss: 0.1507 - categorical_accuracy: 0.9644 - val_loss: 3.0276 - val_categorical_accuracy: 0.2952 - lr: 0.0010\n",
      "Epoch 7/20\n",
      "45/45 [==============================] - ETA: 0s - loss: 0.1248 - categorical_accuracy: 0.9807\n",
      "Epoch 00007: val_loss did not improve from 1.72147\n",
      "45/45 [==============================] - 136s 3s/step - loss: 0.1248 - categorical_accuracy: 0.9807 - val_loss: 3.1645 - val_categorical_accuracy: 0.2952 - lr: 1.0000e-05\n",
      "Epoch 8/20\n",
      "45/45 [==============================] - ETA: 0s - loss: 0.0902 - categorical_accuracy: 0.9852\n",
      "Epoch 00008: val_loss did not improve from 1.72147\n",
      "45/45 [==============================] - 137s 3s/step - loss: 0.0902 - categorical_accuracy: 0.9852 - val_loss: 2.9653 - val_categorical_accuracy: 0.2857 - lr: 1.0000e-05\n",
      "Epoch 9/20\n",
      "45/45 [==============================] - ETA: 0s - loss: 0.0842 - categorical_accuracy: 0.9896\n",
      "Epoch 00009: val_loss did not improve from 1.72147\n",
      "45/45 [==============================] - 138s 3s/step - loss: 0.0842 - categorical_accuracy: 0.9896 - val_loss: 2.6497 - val_categorical_accuracy: 0.3810 - lr: 1.0000e-05\n",
      "Epoch 10/20\n",
      "45/45 [==============================] - ETA: 0s - loss: 0.1008 - categorical_accuracy: 0.9926\n",
      "Epoch 00010: val_loss did not improve from 1.72147\n",
      "45/45 [==============================] - 138s 3s/step - loss: 0.1008 - categorical_accuracy: 0.9926 - val_loss: 2.2746 - val_categorical_accuracy: 0.4667 - lr: 1.0000e-05\n",
      "Epoch 11/20\n",
      "45/45 [==============================] - ETA: 0s - loss: 0.0876 - categorical_accuracy: 0.9881\n",
      "Epoch 00011: val_loss did not improve from 1.72147\n",
      "45/45 [==============================] - 145s 3s/step - loss: 0.0876 - categorical_accuracy: 0.9881 - val_loss: 1.9543 - val_categorical_accuracy: 0.5905 - lr: 1.0000e-05\n",
      "Epoch 12/20\n",
      "45/45 [==============================] - ETA: 0s - loss: 0.0816 - categorical_accuracy: 0.9911\n",
      "Epoch 00012: val_loss did not improve from 1.72147\n",
      "45/45 [==============================] - 149s 3s/step - loss: 0.0816 - categorical_accuracy: 0.9911 - val_loss: 2.1146 - val_categorical_accuracy: 0.5333 - lr: 1.0000e-05\n",
      "Epoch 13/20\n",
      "45/45 [==============================] - ETA: 0s - loss: 0.0816 - categorical_accuracy: 0.9911\n",
      "Epoch 00013: val_loss did not improve from 1.72147\n",
      "45/45 [==============================] - 153s 3s/step - loss: 0.0816 - categorical_accuracy: 0.9911 - val_loss: 1.7450 - val_categorical_accuracy: 0.6000 - lr: 1.0000e-05\n",
      "Epoch 14/20\n",
      "45/45 [==============================] - ETA: 0s - loss: 0.0867 - categorical_accuracy: 0.9911\n",
      "Epoch 00014: val_loss improved from 1.72147 to 1.41477, saving model to model_init_2023-03-1122_10_07.194785/model-00014-0.08671-0.99111-1.41477-0.66667.h5\n",
      "45/45 [==============================] - 143s 3s/step - loss: 0.0867 - categorical_accuracy: 0.9911 - val_loss: 1.4148 - val_categorical_accuracy: 0.6667 - lr: 1.0000e-05\n",
      "Epoch 15/20\n",
      "45/45 [==============================] - ETA: 0s - loss: 0.0678 - categorical_accuracy: 0.9956\n",
      "Epoch 00015: val_loss did not improve from 1.41477\n",
      "45/45 [==============================] - 142s 3s/step - loss: 0.0678 - categorical_accuracy: 0.9956 - val_loss: 1.4891 - val_categorical_accuracy: 0.6571 - lr: 1.0000e-05\n",
      "Epoch 16/20\n",
      "45/45 [==============================] - ETA: 0s - loss: 0.0656 - categorical_accuracy: 0.9956\n",
      "Epoch 00016: val_loss did not improve from 1.41477\n",
      "45/45 [==============================] - 153s 3s/step - loss: 0.0656 - categorical_accuracy: 0.9956 - val_loss: 1.4910 - val_categorical_accuracy: 0.6667 - lr: 1.0000e-05\n",
      "Epoch 17/20\n",
      "45/45 [==============================] - ETA: 0s - loss: 0.0801 - categorical_accuracy: 0.9970\n",
      "Epoch 00017: val_loss improved from 1.41477 to 1.35092, saving model to model_init_2023-03-1122_10_07.194785/model-00017-0.08012-0.99704-1.35092-0.68571.h5\n",
      "45/45 [==============================] - 154s 3s/step - loss: 0.0801 - categorical_accuracy: 0.9970 - val_loss: 1.3509 - val_categorical_accuracy: 0.6857 - lr: 1.0000e-05\n",
      "Epoch 18/20\n",
      "45/45 [==============================] - ETA: 0s - loss: 0.0757 - categorical_accuracy: 0.9956\n",
      "Epoch 00018: val_loss did not improve from 1.35092\n",
      "45/45 [==============================] - 158s 4s/step - loss: 0.0757 - categorical_accuracy: 0.9956 - val_loss: 1.3892 - val_categorical_accuracy: 0.7143 - lr: 1.0000e-05\n",
      "Epoch 19/20\n",
      "45/45 [==============================] - ETA: 0s - loss: 0.0710 - categorical_accuracy: 0.9941\n",
      "Epoch 00019: val_loss did not improve from 1.35092\n",
      "45/45 [==============================] - 161s 4s/step - loss: 0.0710 - categorical_accuracy: 0.9941 - val_loss: 1.3832 - val_categorical_accuracy: 0.6952 - lr: 1.0000e-05\n",
      "Epoch 20/20\n",
      "45/45 [==============================] - ETA: 0s - loss: 0.0762 - categorical_accuracy: 0.9926\n",
      "Epoch 00020: val_loss improved from 1.35092 to 1.29260, saving model to model_init_2023-03-1122_10_07.194785/model-00020-0.07617-0.99259-1.29260-0.70476.h5\n",
      "45/45 [==============================] - 159s 4s/step - loss: 0.0762 - categorical_accuracy: 0.9926 - val_loss: 1.2926 - val_categorical_accuracy: 0.7048 - lr: 1.0000e-05\n"
     ]
    }
   ],
   "source": [
    "print(\"Total Params:\", model.count_params())\n",
    "trained_model_1=train_model(model)"
   ]
  },
  {
   "cell_type": "code",
   "execution_count": 13,
   "metadata": {},
   "outputs": [
    {
     "data": {
      "image/png": "[encoded data removed]",
      "text/plain": [
       "<Figure size 1080x288 with 2 Axes>"
      ]
     },
     "metadata": {
      "needs_background": "light"
     },
     "output_type": "display_data"
    }
   ],
   "source": [
    "plot(trained_model_1)"
   ]
  },
  {
   "cell_type": "markdown",
   "metadata": {},
   "source": [
    "Observation\n",
    "\n",
    "- The accuracy on the training dataset in very high while the accuracy on the validation dataset is too less.\n",
    "- This is an indication of overfitting on the training dataset."
   ]
  },
  {
   "cell_type": "markdown",
   "metadata": {},
   "source": [
    "### Model 2 : Conv2D layers + GRU Layer+ Adam optimiser + Dropout"
   ]
  },
  {
   "cell_type": "code",
   "execution_count": 14,
   "metadata": {},
   "outputs": [],
   "source": [
    "num_featuremaps = [16,32,64,128]\n",
    "num_denselayers = [64,32,5]\n",
    "num_classes = 5\n",
    "frames = 15\n",
    "dropout=0.25\n",
    "\n",
    "\n",
    "# Input\n",
    "input_shape=(frames,120,120,3)\n",
    "\n",
    "model = Sequential()\n",
    "\n",
    "model.add(TimeDistributed(Conv2D(num_featuremaps[0], (3, 3), strides=(2, 2),activation='relu', padding='same'), input_shape=input_shape))\n",
    "model.add(TimeDistributed(BatchNormalization()))\n",
    "model.add(TimeDistributed(MaxPooling2D((2, 2), strides=(2, 2))))\n",
    "model.add(Dropout(dropout))\n",
    "\n",
    "model.add(TimeDistributed(Conv2D(num_featuremaps[1], (3,3),padding='same', activation='relu')))\n",
    "model.add(TimeDistributed(BatchNormalization()))\n",
    "model.add(TimeDistributed(MaxPooling2D((2, 2), strides=(2, 2))))\n",
    "\n",
    "model.add(TimeDistributed(Conv2D(num_featuremaps[2], (3,3),padding='same', activation='relu')))\n",
    "model.add(TimeDistributed(BatchNormalization()))\n",
    "model.add(TimeDistributed(MaxPooling2D((2, 2), strides=(2, 2))))\n",
    "model.add(Dropout(dropout))\n",
    "\n",
    "model.add(TimeDistributed(Conv2D(num_featuremaps[3], (2,2),padding='same', activation='relu')))\n",
    "model.add(TimeDistributed(BatchNormalization()))\n",
    "model.add(TimeDistributed(MaxPooling2D((2, 2), strides=(2, 2))))\n",
    "\n",
    "model.add(TimeDistributed(Flatten()))\n",
    "\n",
    "model.add(Dense(num_denselayers[0], activation='relu'))\n",
    "model.add(Dense(num_denselayers[1], activation='relu'))\n",
    "model.add(Dropout(dropout))\n",
    "\n",
    "## using GRU as the RNN model\n",
    "model.add(GRU(64, return_sequences=False))\n",
    "model.add(Dropout(dropout))\n",
    "\n",
    "# using Softmax as last layer\n",
    "model.add(Dense(num_classes, activation='softmax')) "
   ]
  },
  {
   "cell_type": "code",
   "execution_count": 15,
   "metadata": {},
   "outputs": [
    {
     "name": "stdout",
     "output_type": "stream",
     "text": [
      "Model: \"sequential_1\"\n",
      "_________________________________________________________________\n",
      " Layer (type)                Output Shape              Param #   \n",
      "=================================================================\n",
      " time_distributed_13 (TimeDi  (None, 15, 60, 60, 16)   448       \n",
      " stributed)                                                      \n",
      "                                                                 \n",
      " time_distributed_14 (TimeDi  (None, 15, 60, 60, 16)   64        \n",
      " stributed)                                                      \n",
      "                                                                 \n",
      " time_distributed_15 (TimeDi  (None, 15, 30, 30, 16)   0         \n",
      " stributed)                                                      \n",
      "                                                                 \n",
      " dropout (Dropout)           (None, 15, 30, 30, 16)    0         \n",
      "                                                                 \n",
      " time_distributed_16 (TimeDi  (None, 15, 30, 30, 32)   4640      \n",
      " stributed)                                                      \n",
      "                                                                 \n",
      " time_distributed_17 (TimeDi  (None, 15, 30, 30, 32)   128       \n",
      " stributed)                                                      \n",
      "                                                                 \n",
      " time_distributed_18 (TimeDi  (None, 15, 15, 15, 32)   0         \n",
      " stributed)                                                      \n",
      "                                                                 \n",
      " time_distributed_19 (TimeDi  (None, 15, 15, 15, 64)   18496     \n",
      " stributed)                                                      \n",
      "                                                                 \n",
      " time_distributed_20 (TimeDi  (None, 15, 15, 15, 64)   256       \n",
      " stributed)                                                      \n",
      "                                                                 \n",
      " time_distributed_21 (TimeDi  (None, 15, 7, 7, 64)     0         \n",
      " stributed)                                                      \n",
      "                                                                 \n",
      " dropout_1 (Dropout)         (None, 15, 7, 7, 64)      0         \n",
      "                                                                 \n",
      " time_distributed_22 (TimeDi  (None, 15, 7, 7, 128)    32896     \n",
      " stributed)                                                      \n",
      "                                                                 \n",
      " time_distributed_23 (TimeDi  (None, 15, 7, 7, 128)    512       \n",
      " stributed)                                                      \n",
      "                                                                 \n",
      " time_distributed_24 (TimeDi  (None, 15, 3, 3, 128)    0         \n",
      " stributed)                                                      \n",
      "                                                                 \n",
      " time_distributed_25 (TimeDi  (None, 15, 1152)         0         \n",
      " stributed)                                                      \n",
      "                                                                 \n",
      " dense_3 (Dense)             (None, 15, 64)            73792     \n",
      "                                                                 \n",
      " dense_4 (Dense)             (None, 15, 32)            2080      \n",
      "                                                                 \n",
      " dropout_2 (Dropout)         (None, 15, 32)            0         \n",
      "                                                                 \n",
      " gru_1 (GRU)                 (None, 64)                18816     \n",
      "                                                                 \n",
      " dropout_3 (Dropout)         (None, 64)                0         \n",
      "                                                                 \n",
      " dense_5 (Dense)             (None, 5)                 325       \n",
      "                                                                 \n",
      "=================================================================\n",
      "Total params: 152,453\n",
      "Trainable params: 151,973\n",
      "Non-trainable params: 480\n",
      "_________________________________________________________________\n",
      "None\n"
     ]
    }
   ],
   "source": [
    "optimiser = \"Adam\"#write your optimizer\n",
    "model.compile(optimizer=optimiser, loss='categorical_crossentropy', metrics=['categorical_accuracy'])\n",
    "\n",
    "# Model Summary\n",
    "print (model.summary())"
   ]
  },
  {
   "cell_type": "code",
   "execution_count": 16,
   "metadata": {},
   "outputs": [
    {
     "name": "stdout",
     "output_type": "stream",
     "text": [
      "Total Params: 152453\n",
      "WARNING:tensorflow:`period` argument is deprecated. Please use `save_freq` to specify the frequency in number of batches seen.\n",
      "Source path =  /home/datasets/Project_data/train ; batch size = 15\n"
     ]
    },
    {
     "name": "stderr",
     "output_type": "stream",
     "text": [
      "/tmp/ipykernel_369/2256448371.py:28: UserWarning: `Model.fit_generator` is deprecated and will be removed in a future version. Please use `Model.fit`, which supports generators.\n",
      "  history=model.fit_generator(train_generator, steps_per_epoch=steps_per_epoch, epochs=num_epochs, verbose=1,\n"
     ]
    },
    {
     "name": "stdout",
     "output_type": "stream",
     "text": [
      "Epoch 1/20\n",
      "45/45 [==============================] - ETA: 0s - loss: 1.4369 - categorical_accuracy: 0.3733Source path =  /home/datasets/Project_data/val ; batch size = 15\n",
      "\n",
      "Epoch 00001: val_loss improved from inf to 1.96902, saving model to model_init_2023-03-1122_10_07.194785/model-00001-1.43689-0.37333-1.96902-0.20952.h5\n",
      "45/45 [==============================] - 174s 4s/step - loss: 1.4369 - categorical_accuracy: 0.3733 - val_loss: 1.9690 - val_categorical_accuracy: 0.2095 - lr: 0.0010\n",
      "Epoch 2/20\n",
      "45/45 [==============================] - ETA: 0s - loss: 1.1157 - categorical_accuracy: 0.5393\n",
      "Epoch 00002: val_loss did not improve from 1.96902\n",
      "45/45 [==============================] - 167s 4s/step - loss: 1.1157 - categorical_accuracy: 0.5393 - val_loss: 2.4553 - val_categorical_accuracy: 0.2000 - lr: 0.0010\n",
      "Epoch 3/20\n",
      "45/45 [==============================] - ETA: 0s - loss: 0.8543 - categorical_accuracy: 0.6593\n",
      "Epoch 00003: val_loss did not improve from 1.96902\n",
      "45/45 [==============================] - 162s 4s/step - loss: 0.8543 - categorical_accuracy: 0.6593 - val_loss: 2.7138 - val_categorical_accuracy: 0.2286 - lr: 0.0010\n",
      "Epoch 4/20\n",
      "45/45 [==============================] - ETA: 0s - loss: 0.6897 - categorical_accuracy: 0.7304\n",
      "Epoch 00004: val_loss did not improve from 1.96902\n",
      "45/45 [==============================] - 165s 4s/step - loss: 0.6897 - categorical_accuracy: 0.7304 - val_loss: 2.8598 - val_categorical_accuracy: 0.2190 - lr: 0.0010\n",
      "Epoch 5/20\n",
      "45/45 [==============================] - ETA: 0s - loss: 0.5588 - categorical_accuracy: 0.8074\n",
      "Epoch 00005: val_loss did not improve from 1.96902\n",
      "45/45 [==============================] - 168s 4s/step - loss: 0.5588 - categorical_accuracy: 0.8074 - val_loss: 2.6212 - val_categorical_accuracy: 0.2286 - lr: 0.0010\n",
      "Epoch 6/20\n",
      "45/45 [==============================] - ETA: 0s - loss: 0.4665 - categorical_accuracy: 0.8296\n",
      "Epoch 00006: val_loss did not improve from 1.96902\n",
      "\n",
      "Epoch 00006: ReduceLROnPlateau reducing learning rate to 1.0000000474974514e-05.\n",
      "45/45 [==============================] - 165s 4s/step - loss: 0.4665 - categorical_accuracy: 0.8296 - val_loss: 3.4917 - val_categorical_accuracy: 0.2381 - lr: 0.0010\n",
      "Epoch 7/20\n",
      "45/45 [==============================] - ETA: 0s - loss: 0.3660 - categorical_accuracy: 0.8711\n",
      "Epoch 00007: val_loss did not improve from 1.96902\n",
      "45/45 [==============================] - 169s 4s/step - loss: 0.3660 - categorical_accuracy: 0.8711 - val_loss: 3.4980 - val_categorical_accuracy: 0.2381 - lr: 1.0000e-05\n",
      "Epoch 8/20\n",
      "45/45 [==============================] - ETA: 0s - loss: 0.3750 - categorical_accuracy: 0.8741\n",
      "Epoch 00008: val_loss did not improve from 1.96902\n",
      "45/45 [==============================] - 168s 4s/step - loss: 0.3750 - categorical_accuracy: 0.8741 - val_loss: 3.0303 - val_categorical_accuracy: 0.2952 - lr: 1.0000e-05\n",
      "Epoch 9/20\n",
      "45/45 [==============================] - ETA: 0s - loss: 0.3161 - categorical_accuracy: 0.9081\n",
      "Epoch 00009: val_loss did not improve from 1.96902\n",
      "45/45 [==============================] - 166s 4s/step - loss: 0.3161 - categorical_accuracy: 0.9081 - val_loss: 2.7156 - val_categorical_accuracy: 0.3238 - lr: 1.0000e-05\n",
      "Epoch 10/20\n",
      "45/45 [==============================] - ETA: 0s - loss: 0.3283 - categorical_accuracy: 0.8933\n",
      "Epoch 00010: val_loss did not improve from 1.96902\n",
      "45/45 [==============================] - 162s 4s/step - loss: 0.3283 - categorical_accuracy: 0.8933 - val_loss: 2.4737 - val_categorical_accuracy: 0.3714 - lr: 1.0000e-05\n",
      "Epoch 11/20\n",
      "45/45 [==============================] - ETA: 0s - loss: 0.3017 - categorical_accuracy: 0.9185\n",
      "Epoch 00011: val_loss improved from 1.96902 to 1.77299, saving model to model_init_2023-03-1122_10_07.194785/model-00011-0.30173-0.91852-1.77299-0.43810.h5\n",
      "45/45 [==============================] - 166s 4s/step - loss: 0.3017 - categorical_accuracy: 0.9185 - val_loss: 1.7730 - val_categorical_accuracy: 0.4381 - lr: 1.0000e-05\n",
      "Epoch 12/20\n",
      "45/45 [==============================] - ETA: 0s - loss: 0.2765 - categorical_accuracy: 0.9230\n",
      "Epoch 00012: val_loss did not improve from 1.77299\n",
      "45/45 [==============================] - 167s 4s/step - loss: 0.2765 - categorical_accuracy: 0.9230 - val_loss: 1.9460 - val_categorical_accuracy: 0.4571 - lr: 1.0000e-05\n",
      "Epoch 13/20\n",
      "45/45 [==============================] - ETA: 0s - loss: 0.3040 - categorical_accuracy: 0.9111\n",
      "Epoch 00013: val_loss improved from 1.77299 to 1.58280, saving model to model_init_2023-03-1122_10_07.194785/model-00013-0.30404-0.91111-1.58280-0.56190.h5\n",
      "45/45 [==============================] - 163s 4s/step - loss: 0.3040 - categorical_accuracy: 0.9111 - val_loss: 1.5828 - val_categorical_accuracy: 0.5619 - lr: 1.0000e-05\n",
      "Epoch 14/20\n",
      "45/45 [==============================] - ETA: 0s - loss: 0.3119 - categorical_accuracy: 0.9170\n",
      "Epoch 00014: val_loss improved from 1.58280 to 1.54011, saving model to model_init_2023-03-1122_10_07.194785/model-00014-0.31193-0.91704-1.54011-0.63810.h5\n",
      "45/45 [==============================] - 168s 4s/step - loss: 0.3119 - categorical_accuracy: 0.9170 - val_loss: 1.5401 - val_categorical_accuracy: 0.6381 - lr: 1.0000e-05\n",
      "Epoch 15/20\n",
      "45/45 [==============================] - ETA: 0s - loss: 0.2778 - categorical_accuracy: 0.9378\n",
      "Epoch 00015: val_loss did not improve from 1.54011\n",
      "45/45 [==============================] - 165s 4s/step - loss: 0.2778 - categorical_accuracy: 0.9378 - val_loss: 1.5458 - val_categorical_accuracy: 0.5714 - lr: 1.0000e-05\n",
      "Epoch 16/20\n",
      "45/45 [==============================] - ETA: 0s - loss: 0.2798 - categorical_accuracy: 0.9156\n",
      "Epoch 00016: val_loss improved from 1.54011 to 1.35739, saving model to model_init_2023-03-1122_10_07.194785/model-00016-0.27983-0.91556-1.35739-0.63810.h5\n",
      "45/45 [==============================] - 152s 3s/step - loss: 0.2798 - categorical_accuracy: 0.9156 - val_loss: 1.3574 - val_categorical_accuracy: 0.6381 - lr: 1.0000e-05\n",
      "Epoch 17/20\n",
      "45/45 [==============================] - ETA: 0s - loss: 0.2489 - categorical_accuracy: 0.9274\n",
      "Epoch 00017: val_loss improved from 1.35739 to 1.23028, saving model to model_init_2023-03-1122_10_07.194785/model-00017-0.24893-0.92741-1.23028-0.69524.h5\n",
      "45/45 [==============================] - 146s 3s/step - loss: 0.2489 - categorical_accuracy: 0.9274 - val_loss: 1.2303 - val_categorical_accuracy: 0.6952 - lr: 1.0000e-05\n",
      "Epoch 18/20\n",
      "45/45 [==============================] - ETA: 0s - loss: 0.2595 - categorical_accuracy: 0.9363\n",
      "Epoch 00018: val_loss did not improve from 1.23028\n",
      "45/45 [==============================] - 145s 3s/step - loss: 0.2595 - categorical_accuracy: 0.9363 - val_loss: 1.4516 - val_categorical_accuracy: 0.5905 - lr: 1.0000e-05\n",
      "Epoch 19/20\n",
      "45/45 [==============================] - ETA: 0s - loss: 0.2371 - categorical_accuracy: 0.9393\n",
      "Epoch 00019: val_loss did not improve from 1.23028\n",
      "45/45 [==============================] - 143s 3s/step - loss: 0.2371 - categorical_accuracy: 0.9393 - val_loss: 1.4593 - val_categorical_accuracy: 0.6667 - lr: 1.0000e-05\n",
      "Epoch 20/20\n",
      "45/45 [==============================] - ETA: 0s - loss: 0.2581 - categorical_accuracy: 0.9333\n",
      "Epoch 00020: val_loss did not improve from 1.23028\n",
      "45/45 [==============================] - 144s 3s/step - loss: 0.2581 - categorical_accuracy: 0.9333 - val_loss: 1.3480 - val_categorical_accuracy: 0.7048 - lr: 1.0000e-05\n"
     ]
    }
   ],
   "source": [
    "print(\"Total Params:\", model.count_params())\n",
    "trained_model_2=train_model(model)"
   ]
  },
  {
   "cell_type": "code",
   "execution_count": 17,
   "metadata": {},
   "outputs": [
    {
     "data": {
      "image/png": "[encoded data removed]",
      "text/plain": [
       "<Figure size 1080x288 with 2 Axes>"
      ]
     },
     "metadata": {
      "needs_background": "light"
     },
     "output_type": "display_data"
    }
   ],
   "source": [
    "plot(trained_model_2)"
   ]
  },
  {
   "cell_type": "markdown",
   "metadata": {},
   "source": [
    "> Observation : \n",
    ">> There is no major improvement compared to last model that is having overfitting"
   ]
  },
  {
   "cell_type": "markdown",
   "metadata": {},
   "source": [
    "### Model 3 : Conv2D layers + GRU Layer+ Adam optimiser + dropout + L2 regularization"
   ]
  },
  {
   "cell_type": "code",
   "execution_count": 18,
   "metadata": {},
   "outputs": [],
   "source": [
    "num_featuremaps = [16,32,64,128]\n",
    "num_denselayers = [64,32,5]\n",
    "num_classes = 5\n",
    "frames = 15\n",
    "dropout = 0.25\n",
    "\n",
    "# Input\n",
    "input_shape=(frames,120,120,3)\n",
    "\n",
    "model = Sequential()\n",
    "\n",
    "model.add(TimeDistributed(Conv2D(num_featuremaps[0], (3, 3), strides=(2, 2),activation='relu', padding='same'), input_shape=input_shape))\n",
    "model.add(TimeDistributed(BatchNormalization()))\n",
    "model.add(TimeDistributed(MaxPooling2D((2, 2), strides=(2, 2))))\n",
    "model.add(Dropout(dropout))\n",
    "\n",
    "model.add(TimeDistributed(Conv2D(num_featuremaps[1], (3,3),padding='same', activation='relu')))\n",
    "model.add(TimeDistributed(BatchNormalization()))\n",
    "model.add(TimeDistributed(MaxPooling2D((2, 2), strides=(2, 2))))\n",
    "\n",
    "model.add(TimeDistributed(Conv2D(num_featuremaps[2], (3,3),padding='same', activation='relu')))\n",
    "model.add(TimeDistributed(BatchNormalization()))\n",
    "model.add(TimeDistributed(MaxPooling2D((2, 2), strides=(2, 2))))\n",
    "model.add(Dropout(dropout))\n",
    "\n",
    "model.add(TimeDistributed(Conv2D(num_featuremaps[3], (2,2),padding='same', activation='relu')))\n",
    "model.add(TimeDistributed(BatchNormalization()))\n",
    "model.add(TimeDistributed(MaxPooling2D((2, 2), strides=(2, 2))))\n",
    "\n",
    "model.add(TimeDistributed(Flatten()))\n",
    "\n",
    "model.add(Dense(num_denselayers[0], activation='relu', kernel_regularizer=l2(0.01)))\n",
    "model.add(Dense(num_denselayers[1], activation='relu', kernel_regularizer=l2(0.01)))\n",
    "model.add(Dropout(dropout))\n",
    "\n",
    "## using GRU as the RNN model along with softmax as our last layer.\n",
    "model.add(GRU(64, return_sequences=False))\n",
    "model.add(Dropout(dropout))\n",
    "\n",
    "# using Softmax as last layer\n",
    "model.add(Dense(num_classes, activation='softmax')) \n"
   ]
  },
  {
   "cell_type": "code",
   "execution_count": 19,
   "metadata": {},
   "outputs": [
    {
     "name": "stdout",
     "output_type": "stream",
     "text": [
      "Model: \"sequential_2\"\n",
      "_________________________________________________________________\n",
      " Layer (type)                Output Shape              Param #   \n",
      "=================================================================\n",
      " time_distributed_26 (TimeDi  (None, 15, 60, 60, 16)   448       \n",
      " stributed)                                                      \n",
      "                                                                 \n",
      " time_distributed_27 (TimeDi  (None, 15, 60, 60, 16)   64        \n",
      " stributed)                                                      \n",
      "                                                                 \n",
      " time_distributed_28 (TimeDi  (None, 15, 30, 30, 16)   0         \n",
      " stributed)                                                      \n",
      "                                                                 \n",
      " dropout_4 (Dropout)         (None, 15, 30, 30, 16)    0         \n",
      "                                                                 \n",
      " time_distributed_29 (TimeDi  (None, 15, 30, 30, 32)   4640      \n",
      " stributed)                                                      \n",
      "                                                                 \n",
      " time_distributed_30 (TimeDi  (None, 15, 30, 30, 32)   128       \n",
      " stributed)                                                      \n",
      "                                                                 \n",
      " time_distributed_31 (TimeDi  (None, 15, 15, 15, 32)   0         \n",
      " stributed)                                                      \n",
      "                                                                 \n",
      " time_distributed_32 (TimeDi  (None, 15, 15, 15, 64)   18496     \n",
      " stributed)                                                      \n",
      "                                                                 \n",
      " time_distributed_33 (TimeDi  (None, 15, 15, 15, 64)   256       \n",
      " stributed)                                                      \n",
      "                                                                 \n",
      " time_distributed_34 (TimeDi  (None, 15, 7, 7, 64)     0         \n",
      " stributed)                                                      \n",
      "                                                                 \n",
      " dropout_5 (Dropout)         (None, 15, 7, 7, 64)      0         \n",
      "                                                                 \n",
      " time_distributed_35 (TimeDi  (None, 15, 7, 7, 128)    32896     \n",
      " stributed)                                                      \n",
      "                                                                 \n",
      " time_distributed_36 (TimeDi  (None, 15, 7, 7, 128)    512       \n",
      " stributed)                                                      \n",
      "                                                                 \n",
      " time_distributed_37 (TimeDi  (None, 15, 3, 3, 128)    0         \n",
      " stributed)                                                      \n",
      "                                                                 \n",
      " time_distributed_38 (TimeDi  (None, 15, 1152)         0         \n",
      " stributed)                                                      \n",
      "                                                                 \n",
      " dense_6 (Dense)             (None, 15, 64)            73792     \n",
      "                                                                 \n",
      " dense_7 (Dense)             (None, 15, 32)            2080      \n",
      "                                                                 \n",
      " dropout_6 (Dropout)         (None, 15, 32)            0         \n",
      "                                                                 \n",
      " gru_2 (GRU)                 (None, 64)                18816     \n",
      "                                                                 \n",
      " dropout_7 (Dropout)         (None, 64)                0         \n",
      "                                                                 \n",
      " dense_8 (Dense)             (None, 5)                 325       \n",
      "                                                                 \n",
      "=================================================================\n",
      "Total params: 152,453\n",
      "Trainable params: 151,973\n",
      "Non-trainable params: 480\n",
      "_________________________________________________________________\n",
      "None\n"
     ]
    }
   ],
   "source": [
    "optimiser = \"Adam\"#write your optimizer\n",
    "model.compile(optimizer=optimiser, loss='categorical_crossentropy', metrics=['categorical_accuracy'])\n",
    "\n",
    "# Model Summary\n",
    "print (model.summary())"
   ]
  },
  {
   "cell_type": "code",
   "execution_count": 20,
   "metadata": {},
   "outputs": [
    {
     "name": "stdout",
     "output_type": "stream",
     "text": [
      "Total Params: 152453\n",
      "WARNING:tensorflow:`period` argument is deprecated. Please use `save_freq` to specify the frequency in number of batches seen.\n",
      "Source path =  /home/datasets/Project_data/train ; batch size = 15\n"
     ]
    },
    {
     "name": "stderr",
     "output_type": "stream",
     "text": [
      "/tmp/ipykernel_369/2256448371.py:28: UserWarning: `Model.fit_generator` is deprecated and will be removed in a future version. Please use `Model.fit`, which supports generators.\n",
      "  history=model.fit_generator(train_generator, steps_per_epoch=steps_per_epoch, epochs=num_epochs, verbose=1,\n"
     ]
    },
    {
     "name": "stdout",
     "output_type": "stream",
     "text": [
      "Epoch 1/20\n",
      "45/45 [==============================] - ETA: 0s - loss: 2.8628 - categorical_accuracy: 0.3837Source path =  /home/datasets/Project_data/val ; batch size = 15\n",
      "\n",
      "Epoch 00001: val_loss improved from inf to 3.10617, saving model to model_init_2023-03-1122_10_07.194785/model-00001-2.86277-0.38370-3.10617-0.13333.h5\n",
      "45/45 [==============================] - 149s 3s/step - loss: 2.8628 - categorical_accuracy: 0.3837 - val_loss: 3.1062 - val_categorical_accuracy: 0.1333 - lr: 0.0010\n",
      "Epoch 2/20\n",
      "45/45 [==============================] - ETA: 0s - loss: 2.2040 - categorical_accuracy: 0.5719\n",
      "Epoch 00002: val_loss improved from 3.10617 to 2.90474, saving model to model_init_2023-03-1122_10_07.194785/model-00002-2.20398-0.57185-2.90474-0.16190.h5\n",
      "45/45 [==============================] - 148s 3s/step - loss: 2.2040 - categorical_accuracy: 0.5719 - val_loss: 2.9047 - val_categorical_accuracy: 0.1619 - lr: 0.0010\n",
      "Epoch 3/20\n",
      "45/45 [==============================] - ETA: 0s - loss: 1.7786 - categorical_accuracy: 0.6563\n",
      "Epoch 00003: val_loss did not improve from 2.90474\n",
      "45/45 [==============================] - 145s 3s/step - loss: 1.7786 - categorical_accuracy: 0.6563 - val_loss: 2.9798 - val_categorical_accuracy: 0.2571 - lr: 0.0010\n",
      "Epoch 4/20\n",
      "45/45 [==============================] - ETA: 0s - loss: 1.4606 - categorical_accuracy: 0.7319\n",
      "Epoch 00004: val_loss did not improve from 2.90474\n",
      "45/45 [==============================] - 144s 3s/step - loss: 1.4606 - categorical_accuracy: 0.7319 - val_loss: 3.5106 - val_categorical_accuracy: 0.1333 - lr: 0.0010\n",
      "Epoch 5/20\n",
      "45/45 [==============================] - ETA: 0s - loss: 1.2819 - categorical_accuracy: 0.7556\n",
      "Epoch 00005: val_loss did not improve from 2.90474\n",
      "45/45 [==============================] - 144s 3s/step - loss: 1.2819 - categorical_accuracy: 0.7556 - val_loss: 3.2544 - val_categorical_accuracy: 0.3429 - lr: 0.0010\n",
      "Epoch 6/20\n",
      "45/45 [==============================] - ETA: 0s - loss: 1.0491 - categorical_accuracy: 0.8400\n",
      "Epoch 00006: val_loss did not improve from 2.90474\n",
      "45/45 [==============================] - 144s 3s/step - loss: 1.0491 - categorical_accuracy: 0.8400 - val_loss: 3.1846 - val_categorical_accuracy: 0.3810 - lr: 0.0010\n",
      "Epoch 7/20\n",
      "45/45 [==============================] - ETA: 0s - loss: 0.9714 - categorical_accuracy: 0.8267\n",
      "Epoch 00007: val_loss did not improve from 2.90474\n",
      "\n",
      "Epoch 00007: ReduceLROnPlateau reducing learning rate to 1.0000000474974514e-05.\n",
      "45/45 [==============================] - 144s 3s/step - loss: 0.9714 - categorical_accuracy: 0.8267 - val_loss: 3.4356 - val_categorical_accuracy: 0.2762 - lr: 0.0010\n",
      "Epoch 8/20\n",
      "45/45 [==============================] - ETA: 0s - loss: 0.8327 - categorical_accuracy: 0.8770\n",
      "Epoch 00008: val_loss did not improve from 2.90474\n",
      "45/45 [==============================] - 143s 3s/step - loss: 0.8327 - categorical_accuracy: 0.8770 - val_loss: 3.3209 - val_categorical_accuracy: 0.2667 - lr: 1.0000e-05\n",
      "Epoch 9/20\n",
      "45/45 [==============================] - ETA: 0s - loss: 0.7651 - categorical_accuracy: 0.9185\n",
      "Epoch 00009: val_loss did not improve from 2.90474\n",
      "45/45 [==============================] - 145s 3s/step - loss: 0.7651 - categorical_accuracy: 0.9185 - val_loss: 3.0021 - val_categorical_accuracy: 0.3619 - lr: 1.0000e-05\n",
      "Epoch 10/20\n",
      "45/45 [==============================] - ETA: 0s - loss: 0.7486 - categorical_accuracy: 0.9230\n",
      "Epoch 00010: val_loss improved from 2.90474 to 2.88873, saving model to model_init_2023-03-1122_10_07.194785/model-00010-0.74865-0.92296-2.88873-0.33333.h5\n",
      "45/45 [==============================] - 142s 3s/step - loss: 0.7486 - categorical_accuracy: 0.9230 - val_loss: 2.8887 - val_categorical_accuracy: 0.3333 - lr: 1.0000e-05\n",
      "Epoch 11/20\n",
      "45/45 [==============================] - ETA: 0s - loss: 0.7370 - categorical_accuracy: 0.9289\n",
      "Epoch 00011: val_loss improved from 2.88873 to 2.51638, saving model to model_init_2023-03-1122_10_07.194785/model-00011-0.73699-0.92889-2.51638-0.39048.h5\n",
      "45/45 [==============================] - 143s 3s/step - loss: 0.7370 - categorical_accuracy: 0.9289 - val_loss: 2.5164 - val_categorical_accuracy: 0.3905 - lr: 1.0000e-05\n",
      "Epoch 12/20\n",
      "45/45 [==============================] - ETA: 0s - loss: 0.7448 - categorical_accuracy: 0.9185\n",
      "Epoch 00012: val_loss improved from 2.51638 to 1.94939, saving model to model_init_2023-03-1122_10_07.194785/model-00012-0.74484-0.91852-1.94939-0.59048.h5\n",
      "45/45 [==============================] - 143s 3s/step - loss: 0.7448 - categorical_accuracy: 0.9185 - val_loss: 1.9494 - val_categorical_accuracy: 0.5905 - lr: 1.0000e-05\n",
      "Epoch 13/20\n",
      "45/45 [==============================] - ETA: 0s - loss: 0.7244 - categorical_accuracy: 0.9348\n",
      "Epoch 00013: val_loss did not improve from 1.94939\n",
      "45/45 [==============================] - 144s 3s/step - loss: 0.7244 - categorical_accuracy: 0.9348 - val_loss: 2.0767 - val_categorical_accuracy: 0.5905 - lr: 1.0000e-05\n",
      "Epoch 14/20\n",
      "45/45 [==============================] - ETA: 0s - loss: 0.7368 - categorical_accuracy: 0.9274\n",
      "Epoch 00014: val_loss improved from 1.94939 to 1.81829, saving model to model_init_2023-03-1122_10_07.194785/model-00014-0.73677-0.92741-1.81829-0.65714.h5\n",
      "45/45 [==============================] - 143s 3s/step - loss: 0.7368 - categorical_accuracy: 0.9274 - val_loss: 1.8183 - val_categorical_accuracy: 0.6571 - lr: 1.0000e-05\n",
      "Epoch 15/20\n",
      "45/45 [==============================] - ETA: 0s - loss: 0.7309 - categorical_accuracy: 0.9348\n",
      "Epoch 00015: val_loss did not improve from 1.81829\n",
      "45/45 [==============================] - 142s 3s/step - loss: 0.7309 - categorical_accuracy: 0.9348 - val_loss: 1.8602 - val_categorical_accuracy: 0.6667 - lr: 1.0000e-05\n",
      "Epoch 16/20\n",
      "45/45 [==============================] - ETA: 0s - loss: 0.7178 - categorical_accuracy: 0.9333\n",
      "Epoch 00016: val_loss improved from 1.81829 to 1.75456, saving model to model_init_2023-03-1122_10_07.194785/model-00016-0.71776-0.93333-1.75456-0.68571.h5\n",
      "45/45 [==============================] - 141s 3s/step - loss: 0.7178 - categorical_accuracy: 0.9333 - val_loss: 1.7546 - val_categorical_accuracy: 0.6857 - lr: 1.0000e-05\n",
      "Epoch 17/20\n",
      "45/45 [==============================] - ETA: 0s - loss: 0.7161 - categorical_accuracy: 0.9452\n",
      "Epoch 00017: val_loss did not improve from 1.75456\n",
      "45/45 [==============================] - 143s 3s/step - loss: 0.7161 - categorical_accuracy: 0.9452 - val_loss: 1.7841 - val_categorical_accuracy: 0.7048 - lr: 1.0000e-05\n",
      "Epoch 18/20\n",
      "45/45 [==============================] - ETA: 0s - loss: 0.7060 - categorical_accuracy: 0.9378\n",
      "Epoch 00018: val_loss improved from 1.75456 to 1.57844, saving model to model_init_2023-03-1122_10_07.194785/model-00018-0.70603-0.93778-1.57844-0.71429.h5\n",
      "45/45 [==============================] - 143s 3s/step - loss: 0.7060 - categorical_accuracy: 0.9378 - val_loss: 1.5784 - val_categorical_accuracy: 0.7143 - lr: 1.0000e-05\n",
      "Epoch 19/20\n",
      "45/45 [==============================] - ETA: 0s - loss: 0.6938 - categorical_accuracy: 0.9378\n",
      "Epoch 00019: val_loss did not improve from 1.57844\n",
      "45/45 [==============================] - 142s 3s/step - loss: 0.6938 - categorical_accuracy: 0.9378 - val_loss: 1.7548 - val_categorical_accuracy: 0.6762 - lr: 1.0000e-05\n",
      "Epoch 20/20\n",
      "45/45 [==============================] - ETA: 0s - loss: 0.7257 - categorical_accuracy: 0.9393\n",
      "Epoch 00020: val_loss did not improve from 1.57844\n",
      "45/45 [==============================] - 142s 3s/step - loss: 0.7257 - categorical_accuracy: 0.9393 - val_loss: 1.6839 - val_categorical_accuracy: 0.7238 - lr: 1.0000e-05\n"
     ]
    }
   ],
   "source": [
    "print(\"Total Params:\", model.count_params())\n",
    "trained_model_3=train_model(model)"
   ]
  },
  {
   "cell_type": "code",
   "execution_count": 21,
   "metadata": {},
   "outputs": [
    {
     "data": {
      "image/png": "[encoded data removed]",
      "text/plain": [
       "<Figure size 1080x288 with 2 Axes>"
      ]
     },
     "metadata": {
      "needs_background": "light"
     },
     "output_type": "display_data"
    }
   ],
   "source": [
    "plot(trained_model_3)"
   ]
  },
  {
   "cell_type": "markdown",
   "metadata": {},
   "source": [
    "> Observation : \n",
    ">> Val Loss is getting lower"
   ]
  },
  {
   "cell_type": "markdown",
   "metadata": {},
   "source": [
    "### Model 4 : Conv2D layers + GRU Layer+ SDG optimiser + dropout + L2 regularization¶"
   ]
  },
  {
   "cell_type": "code",
   "execution_count": 12,
   "metadata": {},
   "outputs": [],
   "source": [
    "num_featuremaps = [16,32,64,128]\n",
    "num_denselayers = [64,32,5]\n",
    "num_classes = 5\n",
    "frames = 15\n",
    "dropout = 0.25\n",
    "\n",
    "# Input\n",
    "input_shape=(frames,120,120,3)\n",
    "\n",
    "model = Sequential()\n",
    "\n",
    "model.add(TimeDistributed(Conv2D(num_featuremaps[0], (3, 3), strides=(2, 2),activation='relu', padding='same'), input_shape=input_shape))\n",
    "model.add(TimeDistributed(BatchNormalization()))\n",
    "model.add(TimeDistributed(MaxPooling2D((2, 2), strides=(2, 2))))\n",
    "model.add(Dropout(dropout))\n",
    "\n",
    "model.add(TimeDistributed(Conv2D(num_featuremaps[1], (3,3),padding='same', activation='relu')))\n",
    "model.add(TimeDistributed(BatchNormalization()))\n",
    "model.add(TimeDistributed(MaxPooling2D((2, 2), strides=(2, 2))))\n",
    "\n",
    "model.add(TimeDistributed(Conv2D(num_featuremaps[2], (3,3),padding='same', activation='relu')))\n",
    "model.add(TimeDistributed(BatchNormalization()))\n",
    "model.add(TimeDistributed(MaxPooling2D((2, 2), strides=(2, 2))))\n",
    "model.add(Dropout(dropout))\n",
    "\n",
    "model.add(TimeDistributed(Conv2D(num_featuremaps[3], (2,2),padding='same', activation='relu')))\n",
    "model.add(TimeDistributed(BatchNormalization()))\n",
    "model.add(TimeDistributed(MaxPooling2D((2, 2), strides=(2, 2))))\n",
    "\n",
    "model.add(TimeDistributed(Flatten()))\n",
    "\n",
    "model.add(Dense(num_denselayers[0], activation='relu', kernel_regularizer=l2(0.01)))\n",
    "model.add(Dense(num_denselayers[1], activation='relu', kernel_regularizer=l2(0.01)))\n",
    "model.add(Dropout(dropout))\n",
    "\n",
    "## using GRU as the RNN model along with softmax as our last layer.\n",
    "model.add(GRU(64, return_sequences=False))\n",
    "model.add(Dropout(dropout))\n",
    "\n",
    " # using Softmax as last layer\n",
    "model.add(Dense(num_classes, activation='softmax'))"
   ]
  },
  {
   "cell_type": "code",
   "execution_count": 13,
   "metadata": {},
   "outputs": [
    {
     "name": "stdout",
     "output_type": "stream",
     "text": [
      "Model: \"sequential_1\"\n",
      "_________________________________________________________________\n",
      " Layer (type)                Output Shape              Param #   \n",
      "=================================================================\n",
      " time_distributed_13 (TimeDi  (None, 15, 60, 60, 16)   448       \n",
      " stributed)                                                      \n",
      "                                                                 \n",
      " time_distributed_14 (TimeDi  (None, 15, 60, 60, 16)   64        \n",
      " stributed)                                                      \n",
      "                                                                 \n",
      " time_distributed_15 (TimeDi  (None, 15, 30, 30, 16)   0         \n",
      " stributed)                                                      \n",
      "                                                                 \n",
      " dropout_4 (Dropout)         (None, 15, 30, 30, 16)    0         \n",
      "                                                                 \n",
      " time_distributed_16 (TimeDi  (None, 15, 30, 30, 32)   4640      \n",
      " stributed)                                                      \n",
      "                                                                 \n",
      " time_distributed_17 (TimeDi  (None, 15, 30, 30, 32)   128       \n",
      " stributed)                                                      \n",
      "                                                                 \n",
      " time_distributed_18 (TimeDi  (None, 15, 15, 15, 32)   0         \n",
      " stributed)                                                      \n",
      "                                                                 \n",
      " time_distributed_19 (TimeDi  (None, 15, 15, 15, 64)   18496     \n",
      " stributed)                                                      \n",
      "                                                                 \n",
      " time_distributed_20 (TimeDi  (None, 15, 15, 15, 64)   256       \n",
      " stributed)                                                      \n",
      "                                                                 \n",
      " time_distributed_21 (TimeDi  (None, 15, 7, 7, 64)     0         \n",
      " stributed)                                                      \n",
      "                                                                 \n",
      " dropout_5 (Dropout)         (None, 15, 7, 7, 64)      0         \n",
      "                                                                 \n",
      " time_distributed_22 (TimeDi  (None, 15, 7, 7, 128)    32896     \n",
      " stributed)                                                      \n",
      "                                                                 \n",
      " time_distributed_23 (TimeDi  (None, 15, 7, 7, 128)    512       \n",
      " stributed)                                                      \n",
      "                                                                 \n",
      " time_distributed_24 (TimeDi  (None, 15, 3, 3, 128)    0         \n",
      " stributed)                                                      \n",
      "                                                                 \n",
      " time_distributed_25 (TimeDi  (None, 15, 1152)         0         \n",
      " stributed)                                                      \n",
      "                                                                 \n",
      " dense_3 (Dense)             (None, 15, 64)            73792     \n",
      "                                                                 \n",
      " dense_4 (Dense)             (None, 15, 32)            2080      \n",
      "                                                                 \n",
      " dropout_6 (Dropout)         (None, 15, 32)            0         \n",
      "                                                                 \n",
      " gru_1 (GRU)                 (None, 64)                18816     \n",
      "                                                                 \n",
      " dropout_7 (Dropout)         (None, 64)                0         \n",
      "                                                                 \n",
      " dense_5 (Dense)             (None, 5)                 325       \n",
      "                                                                 \n",
      "=================================================================\n",
      "Total params: 152,453\n",
      "Trainable params: 151,973\n",
      "Non-trainable params: 480\n",
      "_________________________________________________________________\n",
      "None\n"
     ]
    }
   ],
   "source": [
    "optimiser = \"sgd\" #write your optimizer\n",
    "model.compile(optimizer=optimiser, loss='categorical_crossentropy', metrics=['categorical_accuracy'])\n",
    "\n",
    "# Model Summary\n",
    "print (model.summary())"
   ]
  },
  {
   "cell_type": "code",
   "execution_count": 14,
   "metadata": {},
   "outputs": [
    {
     "name": "stdout",
     "output_type": "stream",
     "text": [
      "Total Params: 152453\n",
      "WARNING:tensorflow:`period` argument is deprecated. Please use `save_freq` to specify the frequency in number of batches seen.\n",
      "Source path =  /home/datasets/Project_data/train ; batch size = 15\n"
     ]
    },
    {
     "name": "stderr",
     "output_type": "stream",
     "text": [
      "/tmp/ipykernel_293/2256448371.py:28: UserWarning: `Model.fit_generator` is deprecated and will be removed in a future version. Please use `Model.fit`, which supports generators.\n",
      "  history=model.fit_generator(train_generator, steps_per_epoch=steps_per_epoch, epochs=num_epochs, verbose=1,\n"
     ]
    },
    {
     "name": "stdout",
     "output_type": "stream",
     "text": [
      "Epoch 1/20\n",
      "45/45 [==============================] - ETA: 0s - loss: 3.1389 - categorical_accuracy: 0.3111Source path =  /home/datasets/Project_data/val ; batch size = 15\n",
      "\n",
      "Epoch 00001: val_loss improved from inf to 3.28156, saving model to model_init_2023-03-1206_30_13.995581/model-00001-3.13895-0.31111-3.28156-0.22857.h5\n",
      "45/45 [==============================] - 156s 3s/step - loss: 3.1389 - categorical_accuracy: 0.3111 - val_loss: 3.2816 - val_categorical_accuracy: 0.2286 - lr: 0.0100\n",
      "Epoch 2/20\n",
      "45/45 [==============================] - ETA: 0s - loss: 2.9094 - categorical_accuracy: 0.4222\n",
      "Epoch 00002: val_loss did not improve from 3.28156\n",
      "45/45 [==============================] - 146s 3s/step - loss: 2.9094 - categorical_accuracy: 0.4222 - val_loss: 3.3534 - val_categorical_accuracy: 0.2190 - lr: 0.0100\n",
      "Epoch 3/20\n",
      "45/45 [==============================] - ETA: 0s - loss: 2.7050 - categorical_accuracy: 0.4993\n",
      "Epoch 00003: val_loss did not improve from 3.28156\n",
      "45/45 [==============================] - 141s 3s/step - loss: 2.7050 - categorical_accuracy: 0.4993 - val_loss: 3.4801 - val_categorical_accuracy: 0.2095 - lr: 0.0100\n",
      "Epoch 4/20\n",
      "45/45 [==============================] - ETA: 0s - loss: 2.5695 - categorical_accuracy: 0.5733\n",
      "Epoch 00004: val_loss did not improve from 3.28156\n",
      "45/45 [==============================] - 140s 3s/step - loss: 2.5695 - categorical_accuracy: 0.5733 - val_loss: 3.5181 - val_categorical_accuracy: 0.2476 - lr: 0.0100\n",
      "Epoch 5/20\n",
      "45/45 [==============================] - ETA: 0s - loss: 2.4325 - categorical_accuracy: 0.6252\n",
      "Epoch 00005: val_loss did not improve from 3.28156\n",
      "45/45 [==============================] - 141s 3s/step - loss: 2.4325 - categorical_accuracy: 0.6252 - val_loss: 3.7178 - val_categorical_accuracy: 0.1905 - lr: 0.0100\n",
      "Epoch 6/20\n",
      "45/45 [==============================] - ETA: 0s - loss: 2.3508 - categorical_accuracy: 0.6785\n",
      "Epoch 00006: val_loss did not improve from 3.28156\n",
      "\n",
      "Epoch 00006: ReduceLROnPlateau reducing learning rate to 9.999999776482583e-05.\n",
      "45/45 [==============================] - 140s 3s/step - loss: 2.3508 - categorical_accuracy: 0.6785 - val_loss: 3.6340 - val_categorical_accuracy: 0.3048 - lr: 0.0100\n",
      "Epoch 7/20\n",
      "45/45 [==============================] - ETA: 0s - loss: 2.2435 - categorical_accuracy: 0.7037\n",
      "Epoch 00007: val_loss did not improve from 3.28156\n",
      "45/45 [==============================] - 139s 3s/step - loss: 2.2435 - categorical_accuracy: 0.7037 - val_loss: 3.7866 - val_categorical_accuracy: 0.2762 - lr: 1.0000e-04\n",
      "Epoch 8/20\n",
      "45/45 [==============================] - ETA: 0s - loss: 2.2214 - categorical_accuracy: 0.7304\n",
      "Epoch 00008: val_loss did not improve from 3.28156\n",
      "45/45 [==============================] - 140s 3s/step - loss: 2.2214 - categorical_accuracy: 0.7304 - val_loss: 3.7940 - val_categorical_accuracy: 0.3048 - lr: 1.0000e-04\n",
      "Epoch 9/20\n",
      "45/45 [==============================] - ETA: 0s - loss: 2.2319 - categorical_accuracy: 0.7274\n",
      "Epoch 00009: val_loss did not improve from 3.28156\n",
      "45/45 [==============================] - 141s 3s/step - loss: 2.2319 - categorical_accuracy: 0.7274 - val_loss: 3.7018 - val_categorical_accuracy: 0.2857 - lr: 1.0000e-04\n",
      "Epoch 10/20\n",
      "45/45 [==============================] - ETA: 0s - loss: 2.2086 - categorical_accuracy: 0.7422\n",
      "Epoch 00010: val_loss did not improve from 3.28156\n",
      "45/45 [==============================] - 161s 4s/step - loss: 2.2086 - categorical_accuracy: 0.7422 - val_loss: 3.4968 - val_categorical_accuracy: 0.3619 - lr: 1.0000e-04\n",
      "Epoch 11/20\n",
      "45/45 [==============================] - ETA: 0s - loss: 2.2488 - categorical_accuracy: 0.7170\n",
      "Epoch 00011: val_loss did not improve from 3.28156\n",
      "45/45 [==============================] - 226s 5s/step - loss: 2.2488 - categorical_accuracy: 0.7170 - val_loss: 3.4521 - val_categorical_accuracy: 0.4286 - lr: 1.0000e-04\n",
      "Epoch 12/20\n",
      "45/45 [==============================] - ETA: 0s - loss: 2.2104 - categorical_accuracy: 0.7259\n",
      "Epoch 00012: val_loss did not improve from 3.28156\n",
      "45/45 [==============================] - 180s 4s/step - loss: 2.2104 - categorical_accuracy: 0.7259 - val_loss: 3.4214 - val_categorical_accuracy: 0.3714 - lr: 1.0000e-04\n",
      "Epoch 13/20\n",
      "45/45 [==============================] - ETA: 0s - loss: 2.2448 - categorical_accuracy: 0.7141\n",
      "Epoch 00013: val_loss improved from 3.28156 to 3.07819, saving model to model_init_2023-03-1206_30_13.995581/model-00013-2.24480-0.71407-3.07819-0.40952.h5\n",
      "45/45 [==============================] - 179s 4s/step - loss: 2.2448 - categorical_accuracy: 0.7141 - val_loss: 3.0782 - val_categorical_accuracy: 0.4095 - lr: 1.0000e-04\n",
      "Epoch 14/20\n",
      "45/45 [==============================] - ETA: 0s - loss: 2.2015 - categorical_accuracy: 0.7378\n",
      "Epoch 00014: val_loss improved from 3.07819 to 2.98701, saving model to model_init_2023-03-1206_30_13.995581/model-00014-2.20150-0.73778-2.98701-0.45714.h5\n",
      "45/45 [==============================] - 155s 3s/step - loss: 2.2015 - categorical_accuracy: 0.7378 - val_loss: 2.9870 - val_categorical_accuracy: 0.4571 - lr: 1.0000e-04\n",
      "Epoch 15/20\n",
      "45/45 [==============================] - ETA: 0s - loss: 2.1802 - categorical_accuracy: 0.7393\n",
      "Epoch 00015: val_loss improved from 2.98701 to 2.94642, saving model to model_init_2023-03-1206_30_13.995581/model-00015-2.18016-0.73926-2.94642-0.48571.h5\n",
      "45/45 [==============================] - 150s 3s/step - loss: 2.1802 - categorical_accuracy: 0.7393 - val_loss: 2.9464 - val_categorical_accuracy: 0.4857 - lr: 1.0000e-04\n",
      "Epoch 16/20\n",
      "45/45 [==============================] - ETA: 0s - loss: 2.2031 - categorical_accuracy: 0.7156\n",
      "Epoch 00016: val_loss improved from 2.94642 to 2.94536, saving model to model_init_2023-03-1206_30_13.995581/model-00016-2.20314-0.71556-2.94536-0.46667.h5\n",
      "45/45 [==============================] - 149s 3s/step - loss: 2.2031 - categorical_accuracy: 0.7156 - val_loss: 2.9454 - val_categorical_accuracy: 0.4667 - lr: 1.0000e-04\n",
      "Epoch 17/20\n",
      "45/45 [==============================] - ETA: 0s - loss: 2.2172 - categorical_accuracy: 0.7170\n",
      "Epoch 00017: val_loss improved from 2.94536 to 2.84931, saving model to model_init_2023-03-1206_30_13.995581/model-00017-2.21722-0.71704-2.84931-0.52381.h5\n",
      "45/45 [==============================] - 165s 4s/step - loss: 2.2172 - categorical_accuracy: 0.7170 - val_loss: 2.8493 - val_categorical_accuracy: 0.5238 - lr: 1.0000e-04\n",
      "Epoch 18/20\n",
      "45/45 [==============================] - ETA: 0s - loss: 2.2093 - categorical_accuracy: 0.7289\n",
      "Epoch 00018: val_loss did not improve from 2.84931\n",
      "45/45 [==============================] - 214s 5s/step - loss: 2.2093 - categorical_accuracy: 0.7289 - val_loss: 2.9613 - val_categorical_accuracy: 0.4286 - lr: 1.0000e-04\n",
      "Epoch 19/20\n",
      "45/45 [==============================] - ETA: 0s - loss: 2.1879 - categorical_accuracy: 0.7378\n",
      "Epoch 00019: val_loss improved from 2.84931 to 2.72934, saving model to model_init_2023-03-1206_30_13.995581/model-00019-2.18788-0.73778-2.72934-0.51429.h5\n",
      "45/45 [==============================] - 170s 4s/step - loss: 2.1879 - categorical_accuracy: 0.7378 - val_loss: 2.7293 - val_categorical_accuracy: 0.5143 - lr: 1.0000e-04\n",
      "Epoch 20/20\n",
      "45/45 [==============================] - ETA: 0s - loss: 2.2388 - categorical_accuracy: 0.7407\n",
      "Epoch 00020: val_loss did not improve from 2.72934\n",
      "45/45 [==============================] - 179s 4s/step - loss: 2.2388 - categorical_accuracy: 0.7407 - val_loss: 2.7616 - val_categorical_accuracy: 0.5143 - lr: 1.0000e-04\n"
     ]
    }
   ],
   "source": [
    "print(\"Total Params:\", model.count_params())\n",
    "trained_model_4=train_model(model)"
   ]
  },
  {
   "cell_type": "code",
   "execution_count": 15,
   "metadata": {},
   "outputs": [
    {
     "data": {
      "image/png": "[encoded data removed]",
      "text/plain": [
       "<Figure size 1080x288 with 2 Axes>"
      ]
     },
     "metadata": {
      "needs_background": "light"
     },
     "output_type": "display_data"
    }
   ],
   "source": [
    "plot(trained_model_4)"
   ]
  },
  {
   "cell_type": "markdown",
   "metadata": {},
   "source": [
    "> Observation : \n",
    ">> Increase in validation accuracy"
   ]
  },
  {
   "cell_type": "markdown",
   "metadata": {},
   "source": [
    "### Model 5 : Conv3D layers + Dropout + Batch Normalization + L2 Regularization"
   ]
  },
  {
   "cell_type": "code",
   "execution_count": 16,
   "metadata": {},
   "outputs": [],
   "source": [
    "num_featuremaps = [16,32,64,128]\n",
    "num_denselayers = [64,32,5]\n",
    "num_classes = 5\n",
    "frames = 15\n",
    "dropout = 0.25\n",
    "\n",
    "# Input\n",
    "input_shape=(frames,120,120,3)\n",
    "\n",
    "# Define model\n",
    "model = Sequential()\n",
    "\n",
    "\n",
    "model.add(Conv3D(num_featuremaps[0], (3, 3, 3), padding = 'same', input_shape = input_shape))\n",
    "model.add(Activation('relu'))\n",
    "model.add(BatchNormalization())\n",
    "model.add(MaxPooling3D(pool_size = (2, 2, 2)))\n",
    "model.add(Dropout(0.25))\n",
    "          \n",
    "model.add(Conv3D(num_featuremaps[1], (2, 2, 2), padding = 'same'))\n",
    "model.add(Activation('relu'))\n",
    "model.add(BatchNormalization())\n",
    "model.add(MaxPooling3D(pool_size = (2, 2, 2)))\n",
    "\n",
    "model.add(Conv3D(num_featuremaps[2], (2, 2, 2), padding = 'same'))\n",
    "model.add(Activation('relu'))\n",
    "model.add(BatchNormalization())\n",
    "model.add(MaxPooling3D(pool_size = (2, 2, 2)))\n",
    "model.add(Dropout(0.25))\n",
    "          \n",
    "model.add(Flatten())\n",
    "          \n",
    "model.add(Dense(num_denselayers[0], activation='relu',kernel_regularizer=l2(0.01)))\n",
    "model.add(Dropout(0.25))\n",
    "          \n",
    "model.add(Dense(num_denselayers[1], activation='relu',kernel_regularizer=l2(0.01)))\n",
    "model.add(Dropout(0.25))\n",
    "          \n",
    "\n",
    " # using Softmax as last layer\n",
    "model.add(Dense(num_classes, activation='softmax'))"
   ]
  },
  {
   "cell_type": "code",
   "execution_count": 17,
   "metadata": {},
   "outputs": [
    {
     "name": "stdout",
     "output_type": "stream",
     "text": [
      "Model: \"sequential_2\"\n",
      "_________________________________________________________________\n",
      " Layer (type)                Output Shape              Param #   \n",
      "=================================================================\n",
      " conv3d (Conv3D)             (None, 15, 120, 120, 16)  1312      \n",
      "                                                                 \n",
      " activation (Activation)     (None, 15, 120, 120, 16)  0         \n",
      "                                                                 \n",
      " batch_normalization_8 (Batc  (None, 15, 120, 120, 16)  64       \n",
      " hNormalization)                                                 \n",
      "                                                                 \n",
      " max_pooling3d (MaxPooling3D  (None, 7, 60, 60, 16)    0         \n",
      " )                                                               \n",
      "                                                                 \n",
      " dropout_8 (Dropout)         (None, 7, 60, 60, 16)     0         \n",
      "                                                                 \n",
      " conv3d_1 (Conv3D)           (None, 7, 60, 60, 32)     4128      \n",
      "                                                                 \n",
      " activation_1 (Activation)   (None, 7, 60, 60, 32)     0         \n",
      "                                                                 \n",
      " batch_normalization_9 (Batc  (None, 7, 60, 60, 32)    128       \n",
      " hNormalization)                                                 \n",
      "                                                                 \n",
      " max_pooling3d_1 (MaxPooling  (None, 3, 30, 30, 32)    0         \n",
      " 3D)                                                             \n",
      "                                                                 \n",
      " conv3d_2 (Conv3D)           (None, 3, 30, 30, 64)     16448     \n",
      "                                                                 \n",
      " activation_2 (Activation)   (None, 3, 30, 30, 64)     0         \n",
      "                                                                 \n",
      " batch_normalization_10 (Bat  (None, 3, 30, 30, 64)    256       \n",
      " chNormalization)                                                \n",
      "                                                                 \n",
      " max_pooling3d_2 (MaxPooling  (None, 1, 15, 15, 64)    0         \n",
      " 3D)                                                             \n",
      "                                                                 \n",
      " dropout_9 (Dropout)         (None, 1, 15, 15, 64)     0         \n",
      "                                                                 \n",
      " flatten_2 (Flatten)         (None, 14400)             0         \n",
      "                                                                 \n",
      " dense_6 (Dense)             (None, 64)                921664    \n",
      "                                                                 \n",
      " dropout_10 (Dropout)        (None, 64)                0         \n",
      "                                                                 \n",
      " dense_7 (Dense)             (None, 32)                2080      \n",
      "                                                                 \n",
      " dropout_11 (Dropout)        (None, 32)                0         \n",
      "                                                                 \n",
      " dense_8 (Dense)             (None, 5)                 165       \n",
      "                                                                 \n",
      "=================================================================\n",
      "Total params: 946,245\n",
      "Trainable params: 946,021\n",
      "Non-trainable params: 224\n",
      "_________________________________________________________________\n",
      "None\n"
     ]
    }
   ],
   "source": [
    "optimiser = \"Adam\" #write your optimizer\n",
    "model.compile(optimizer=optimiser, loss='categorical_crossentropy', metrics=['categorical_accuracy'])\n",
    "\n",
    "# Model Summary\n",
    "print (model.summary())"
   ]
  },
  {
   "cell_type": "code",
   "execution_count": null,
   "metadata": {},
   "outputs": [
    {
     "name": "stdout",
     "output_type": "stream",
     "text": [
      "Total Params: 946245\n",
      "WARNING:tensorflow:`period` argument is deprecated. Please use `save_freq` to specify the frequency in number of batches seen.\n",
      "Source path =  /home/datasets/Project_data/train ; batch size = 15\n"
     ]
    },
    {
     "name": "stderr",
     "output_type": "stream",
     "text": [
      "/tmp/ipykernel_293/2256448371.py:28: UserWarning: `Model.fit_generator` is deprecated and will be removed in a future version. Please use `Model.fit`, which supports generators.\n",
      "  history=model.fit_generator(train_generator, steps_per_epoch=steps_per_epoch, epochs=num_epochs, verbose=1,\n"
     ]
    },
    {
     "name": "stdout",
     "output_type": "stream",
     "text": [
      "Epoch 1/20\n",
      "45/45 [==============================] - ETA: 0s - loss: 4.7568 - categorical_accuracy: 0.2681 Source path =  /home/datasets/Project_data/val ; batch size = 15\n",
      "\n",
      "Epoch 00001: val_loss improved from inf to 4.44995, saving model to model_init_2023-03-1206_30_13.995581/model-00001-4.75680-0.26815-4.44995-0.25714.h5\n",
      "45/45 [==============================] - 603s 13s/step - loss: 4.7568 - categorical_accuracy: 0.2681 - val_loss: 4.4500 - val_categorical_accuracy: 0.2571 - lr: 0.0010\n",
      "Epoch 2/20\n",
      "45/45 [==============================] - ETA: 0s - loss: 3.1422 - categorical_accuracy: 0.3289 \n",
      "Epoch 00002: val_loss did not improve from 4.44995\n",
      "45/45 [==============================] - 634s 14s/step - loss: 3.1422 - categorical_accuracy: 0.3289 - val_loss: 10.2266 - val_categorical_accuracy: 0.2000 - lr: 0.0010\n",
      "Epoch 3/20\n",
      "45/45 [==============================] - ETA: 0s - loss: 2.8578 - categorical_accuracy: 0.3363 \n",
      "Epoch 00003: val_loss did not improve from 4.44995\n",
      "45/45 [==============================] - 606s 13s/step - loss: 2.8578 - categorical_accuracy: 0.3363 - val_loss: 10.4256 - val_categorical_accuracy: 0.1714 - lr: 0.0010\n",
      "Epoch 4/20\n",
      "45/45 [==============================] - ETA: 0s - loss: 2.5910 - categorical_accuracy: 0.4059 \n",
      "Epoch 00004: val_loss did not improve from 4.44995\n",
      "45/45 [==============================] - 611s 14s/step - loss: 2.5910 - categorical_accuracy: 0.4059 - val_loss: 8.1419 - val_categorical_accuracy: 0.1905 - lr: 0.0010\n",
      "Epoch 5/20\n",
      "45/45 [==============================] - ETA: 0s - loss: 2.4341 - categorical_accuracy: 0.4267 \n",
      "Epoch 00005: val_loss did not improve from 4.44995\n",
      "45/45 [==============================] - 590s 13s/step - loss: 2.4341 - categorical_accuracy: 0.4267 - val_loss: 5.9319 - val_categorical_accuracy: 0.2095 - lr: 0.0010\n",
      "Epoch 6/20\n",
      "45/45 [==============================] - ETA: 0s - loss: 2.3331 - categorical_accuracy: 0.4622 \n",
      "Epoch 00006: val_loss improved from 4.44995 to 4.23164, saving model to model_init_2023-03-1206_30_13.995581/model-00006-2.33310-0.46222-4.23164-0.33333.h5\n",
      "45/45 [==============================] - 609s 14s/step - loss: 2.3331 - categorical_accuracy: 0.4622 - val_loss: 4.2316 - val_categorical_accuracy: 0.3333 - lr: 0.0010\n",
      "Epoch 7/20\n",
      "45/45 [==============================] - ETA: 0s - loss: 2.0027 - categorical_accuracy: 0.5541 \n",
      "Epoch 00007: val_loss improved from 4.23164 to 3.00682, saving model to model_init_2023-03-1206_30_13.995581/model-00007-2.00272-0.55407-3.00682-0.32381.h5\n",
      "45/45 [==============================] - 601s 13s/step - loss: 2.0027 - categorical_accuracy: 0.5541 - val_loss: 3.0068 - val_categorical_accuracy: 0.3238 - lr: 0.0010\n",
      "Epoch 8/20\n",
      "45/45 [==============================] - ETA: 0s - loss: 1.8441 - categorical_accuracy: 0.5852 \n",
      "Epoch 00008: val_loss improved from 3.00682 to 2.97171, saving model to model_init_2023-03-1206_30_13.995581/model-00008-1.84405-0.58519-2.97171-0.34286.h5\n",
      "45/45 [==============================] - 606s 13s/step - loss: 1.8441 - categorical_accuracy: 0.5852 - val_loss: 2.9717 - val_categorical_accuracy: 0.3429 - lr: 0.0010\n",
      "Epoch 9/20\n",
      "45/45 [==============================] - ETA: 0s - loss: 1.7260 - categorical_accuracy: 0.6252 \n",
      "Epoch 00009: val_loss did not improve from 2.97171\n",
      "45/45 [==============================] - 600s 13s/step - loss: 1.7260 - categorical_accuracy: 0.6252 - val_loss: 2.9856 - val_categorical_accuracy: 0.3714 - lr: 0.0010\n",
      "Epoch 10/20\n",
      "45/45 [==============================] - ETA: 0s - loss: 1.6322 - categorical_accuracy: 0.6667 \n",
      "Epoch 00010: val_loss improved from 2.97171 to 2.62636, saving model to model_init_2023-03-1206_30_13.995581/model-00010-1.63217-0.66667-2.62636-0.42857.h5\n",
      "45/45 [==============================] - 620s 14s/step - loss: 1.6322 - categorical_accuracy: 0.6667 - val_loss: 2.6264 - val_categorical_accuracy: 0.4286 - lr: 0.0010\n",
      "Epoch 11/20\n",
      "45/45 [==============================] - ETA: 0s - loss: 1.5678 - categorical_accuracy: 0.6741 \n",
      "Epoch 00011: val_loss did not improve from 2.62636\n",
      "45/45 [==============================] - 618s 14s/step - loss: 1.5678 - categorical_accuracy: 0.6741 - val_loss: 2.9634 - val_categorical_accuracy: 0.4000 - lr: 0.0010\n",
      "Epoch 12/20\n",
      "45/45 [==============================] - ETA: 0s - loss: 1.3977 - categorical_accuracy: 0.7096 \n",
      "Epoch 00012: val_loss improved from 2.62636 to 2.48734, saving model to model_init_2023-03-1206_30_13.995581/model-00012-1.39769-0.70963-2.48734-0.49524.h5\n",
      "45/45 [==============================] - 633s 14s/step - loss: 1.3977 - categorical_accuracy: 0.7096 - val_loss: 2.4873 - val_categorical_accuracy: 0.4952 - lr: 0.0010\n",
      "Epoch 13/20\n",
      "45/45 [==============================] - ETA: 0s - loss: 1.3726 - categorical_accuracy: 0.7393 \n",
      "Epoch 00013: val_loss did not improve from 2.48734\n",
      "45/45 [==============================] - 639s 14s/step - loss: 1.3726 - categorical_accuracy: 0.7393 - val_loss: 3.4897 - val_categorical_accuracy: 0.4286 - lr: 0.0010\n",
      "Epoch 14/20\n",
      "45/45 [==============================] - ETA: 0s - loss: 1.3001 - categorical_accuracy: 0.7837 \n",
      "Epoch 00014: val_loss did not improve from 2.48734\n",
      "45/45 [==============================] - 655s 15s/step - loss: 1.3001 - categorical_accuracy: 0.7837 - val_loss: 5.5796 - val_categorical_accuracy: 0.3238 - lr: 0.0010\n",
      "Epoch 15/20\n",
      "45/45 [==============================] - ETA: 0s - loss: 1.3651 - categorical_accuracy: 0.7556 \n",
      "Epoch 00015: val_loss did not improve from 2.48734\n",
      "45/45 [==============================] - 654s 15s/step - loss: 1.3651 - categorical_accuracy: 0.7556 - val_loss: 3.5928 - val_categorical_accuracy: 0.3619 - lr: 0.0010\n",
      "Epoch 16/20\n",
      "36/45 [=======================>......] - ETA: 2:01 - loss: 1.0533 - categorical_accuracy: 0.8537"
     ]
    }
   ],
   "source": [
    "print(\"Total Params:\", model.count_params())\n",
    "trained_model_5=train_model(model)"
   ]
  },
  {
   "cell_type": "code",
   "execution_count": null,
   "metadata": {},
   "outputs": [],
   "source": [
    "plot(trained_model_5)"
   ]
  },
  {
   "cell_type": "markdown",
   "metadata": {},
   "source": [
    "> Observation : \n",
    ">> Good Performance, val_loss & train loss are almost same at the end\n",
    ">> As well val_accuracy & train accuracy also touching eaching other at the end in the graph"
   ]
  },
  {
   "cell_type": "code",
   "execution_count": null,
   "metadata": {},
   "outputs": [],
   "source": [
    "aaaa"
   ]
  },
  {
   "cell_type": "markdown",
   "metadata": {},
   "source": [
    "### Model 6 : Transfer Learning + Resnet50 + dropout + GRU Layer"
   ]
  },
  {
   "cell_type": "code",
   "execution_count": null,
   "metadata": {},
   "outputs": [],
   "source": [
    "from tensorflow.keras.applications.resnet50 import ResNet50"
   ]
  },
  {
   "cell_type": "code",
   "execution_count": null,
   "metadata": {},
   "outputs": [],
   "source": [
    "num_featuremaps = [16,32,64,128]\n",
    "num_denselayers = [64,32,5]\n",
    "num_classes = 5\n",
    "frames = 15\n",
    "dropout = 0.25\n",
    "\n",
    "# Input\n",
    "input_shape=(frames,120,120,3)\n",
    "\n",
    "# Define model\n",
    "\n",
    "resnet_model = ResNet50(weights='imagenet', include_top=False)\n",
    "\n",
    "model = Sequential()\n",
    "model.add(TimeDistributed(resnet_model,input_shape=input_shape))\n",
    "model.add(TimeDistributed(BatchNormalization()))\n",
    "model.add(TimeDistributed(MaxPooling2D((2, 2))))\n",
    "model.add(TimeDistributed(Flatten()))\n",
    "\n",
    "\n",
    "model.add(GRU(64, return_sequences=False))\n",
    "model.add(Dropout(dropout))\n",
    "\n",
    "model.add(Dense(num_denselayers[1], activation='relu'))\n",
    "model.add(Dropout(dropout))\n",
    "\n",
    "# using Softmax as last layer\n",
    "model.add(Dense(num_classes, activation='softmax')) \n"
   ]
  },
  {
   "cell_type": "code",
   "execution_count": null,
   "metadata": {},
   "outputs": [],
   "source": [
    "optimiser = \"Adam\" #write your optimizer\n",
    "model.compile(optimizer=optimiser, loss='categorical_crossentropy', metrics=['categorical_accuracy'])\n",
    "\n",
    "# Model Summary\n",
    "print (model.summary())"
   ]
  },
  {
   "cell_type": "code",
   "execution_count": null,
   "metadata": {},
   "outputs": [],
   "source": [
    "print(\"Total Params:\", model.count_params())\n",
    "trained_model_6=train_model(model)"
   ]
  },
  {
   "cell_type": "code",
   "execution_count": null,
   "metadata": {},
   "outputs": [],
   "source": [
    "plot(trained_model_6)"
   ]
  },
  {
   "cell_type": "markdown",
   "metadata": {},
   "source": [
    "> Observation : \n",
    ">> Degraded the performance compared to last model"
   ]
  },
  {
   "cell_type": "markdown",
   "metadata": {},
   "source": [
    "### Model 7 : Transfer Learning + VGGNET + dropout + GRU Layer"
   ]
  },
  {
   "cell_type": "code",
   "execution_count": null,
   "metadata": {},
   "outputs": [],
   "source": [
    "from keras.applications.vgg16 import VGG16"
   ]
  },
  {
   "cell_type": "code",
   "execution_count": null,
   "metadata": {},
   "outputs": [],
   "source": [
    "num_featuremaps = [16,32,64,128]\n",
    "num_denselayers = [64,32,5]\n",
    "num_classes = 5\n",
    "frames = 15\n",
    "dropout = 0.25\n",
    "\n",
    "# Input\n",
    "input_shape=(frames,120,120,3)\n",
    "\n",
    "# Define model\n",
    "vgg_model = VGG16(weights='imagenet', include_top=False)\n",
    "\n",
    "model = Sequential()\n",
    "model.add(TimeDistributed(vgg_model,input_shape=input_shape))\n",
    "model.add(TimeDistributed(BatchNormalization()))\n",
    "model.add(TimeDistributed(MaxPooling2D((2, 2))))\n",
    "model.add(TimeDistributed(Flatten()))\n",
    "\n",
    "model.add(GRU(64, return_sequences=False))\n",
    "model.add(Dropout(dropout))\n",
    "\n",
    "model.add(Dense(num_denselayers[1], activation='relu'))\n",
    "model.add(Dropout(dropout))\n",
    "\n",
    "# using Softmax as last layer\n",
    "model.add(Dense(num_classes, activation='softmax')) "
   ]
  },
  {
   "cell_type": "code",
   "execution_count": null,
   "metadata": {},
   "outputs": [],
   "source": [
    "optimiser = \"Adam\" #write your optimizer\n",
    "model.compile(optimizer=optimiser, loss='categorical_crossentropy', metrics=['categorical_accuracy'])\n",
    "\n",
    "# Model Summary\n",
    "print (model.summary())"
   ]
  },
  {
   "cell_type": "code",
   "execution_count": null,
   "metadata": {},
   "outputs": [],
   "source": [
    "print(\"Total Params:\", model.count_params())\n",
    "trained_model_7=train_model(model)"
   ]
  },
  {
   "cell_type": "code",
   "execution_count": null,
   "metadata": {},
   "outputs": [],
   "source": [
    "plot(trained_model_7)"
   ]
  },
  {
   "cell_type": "markdown",
   "metadata": {},
   "source": [
    "> Observation : \n",
    ">> Val_accuracy is more than train accuracy, and train / val loss is close enough at the end"
   ]
  },
  {
   "cell_type": "markdown",
   "metadata": {},
   "source": [
    "### Model 8 : Transfer Learning + mobilenet + dropout + GRU Layer"
   ]
  },
  {
   "cell_type": "code",
   "execution_count": null,
   "metadata": {},
   "outputs": [],
   "source": [
    "from keras.applications import  mobilenet\n"
   ]
  },
  {
   "cell_type": "code",
   "execution_count": null,
   "metadata": {},
   "outputs": [],
   "source": [
    "num_featuremaps = [16,32,64,128]\n",
    "num_denselayers = [64,32,5]\n",
    "num_classes = 5\n",
    "frames = 15\n",
    "dropout = 0.25\n",
    "\n",
    "\n",
    "# Input\n",
    "input_shape=(frames,120,120,3)\n",
    "\n",
    "# Define model\n",
    "mobile_model = mobilenet.MobileNet(weights='imagenet', include_top=False)\n",
    "\n",
    "model = Sequential()\n",
    "model.add(TimeDistributed(mobile_model,input_shape=input_shape))\n",
    "\n",
    "model.add(TimeDistributed(BatchNormalization()))\n",
    "model.add(TimeDistributed(MaxPooling2D((2, 2))))\n",
    "model.add(TimeDistributed(Flatten()))\n",
    "\n",
    "model.add(GRU(64, return_sequences=False))\n",
    "model.add(Dropout(dropout))\n",
    "\n",
    "model.add(Dense(num_denselayers[1],activation='relu'))\n",
    "model.add(Dropout(dropout))\n",
    "\n",
    "# using Softmax as last layer\n",
    "model.add(Dense(num_classes, activation='softmax')) "
   ]
  },
  {
   "cell_type": "code",
   "execution_count": null,
   "metadata": {},
   "outputs": [],
   "source": [
    "optimiser = \"Adam\" #write your optimizer\n",
    "model.compile(optimizer=optimiser, loss='categorical_crossentropy', metrics=['categorical_accuracy'])\n",
    "\n",
    "# Model Summary\n",
    "print (model.summary())"
   ]
  },
  {
   "cell_type": "code",
   "execution_count": null,
   "metadata": {},
   "outputs": [],
   "source": [
    "print(\"Total Params:\", model.count_params())\n",
    "trained_model_8=train_model(model)"
   ]
  },
  {
   "cell_type": "code",
   "execution_count": null,
   "metadata": {},
   "outputs": [],
   "source": [
    "plot(trained_model_8)"
   ]
  },
  {
   "cell_type": "markdown",
   "metadata": {},
   "source": [
    "> Observation : \n",
    ">> Awsum : Now Model start perfroming very good as both train & val accuracy is great above 90%"
   ]
  },
  {
   "cell_type": "markdown",
   "metadata": {},
   "source": [
    "### Model 9 : Transfer Learning + mobilenet + dropout + GRU Layer + Increased epoch"
   ]
  },
  {
   "cell_type": "code",
   "execution_count": null,
   "metadata": {},
   "outputs": [],
   "source": [
    "num_featuremaps = [16,32,64,128]\n",
    "num_denselayers = [64,32,5]\n",
    "num_classes = 5\n",
    "frames = 15\n",
    "dropout = 0.25\n",
    "num_epochs = 30\n",
    "\n",
    "\n",
    "# Input\n",
    "input_shape=(frames,120,120,3)\n",
    "\n",
    "# Define model\n",
    "mobile_model = mobilenet.MobileNet(weights='imagenet', include_top=False)\n",
    "\n",
    "model = Sequential()\n",
    "model.add(TimeDistributed(mobile_model,input_shape=input_shape))\n",
    "\n",
    "model.add(TimeDistributed(BatchNormalization()))\n",
    "model.add(TimeDistributed(MaxPooling2D((2, 2))))\n",
    "model.add(TimeDistributed(Flatten()))\n",
    "\n",
    "model.add(GRU(64, return_sequences=False))\n",
    "model.add(Dropout(dropout))\n",
    "\n",
    "model.add(Dense(num_denselayers[1],activation='relu'))\n",
    "model.add(Dropout(dropout))\n",
    "\n",
    "# using Softmax as last layer\n",
    "model.add(Dense(num_classes, activation='softmax')) "
   ]
  },
  {
   "cell_type": "code",
   "execution_count": null,
   "metadata": {},
   "outputs": [],
   "source": [
    "optimiser = \"Adam\" #write your optimizer\n",
    "model.compile(optimizer=optimiser, loss='categorical_crossentropy', metrics=['categorical_accuracy'])\n",
    "\n",
    "# Model Summary\n",
    "print (model.summary())"
   ]
  },
  {
   "cell_type": "code",
   "execution_count": null,
   "metadata": {},
   "outputs": [],
   "source": [
    "print(\"Total Params:\", model.count_params())\n",
    "trained_model_9=train_model(model)"
   ]
  },
  {
   "cell_type": "code",
   "execution_count": null,
   "metadata": {},
   "outputs": [],
   "source": [
    "plot(trained_model_9)"
   ]
  },
  {
   "cell_type": "markdown",
   "metadata": {},
   "source": [
    "> Observation : \n",
    ">> Degraded the Performance Compared to Last Model"
   ]
  },
  {
   "cell_type": "markdown",
   "metadata": {},
   "source": [
    "### Model 10 : Transfer Learning + mobilenet + dropout + GRU Layer + Increased epoch + Increased Batch Size"
   ]
  },
  {
   "cell_type": "code",
   "execution_count": null,
   "metadata": {},
   "outputs": [],
   "source": [
    "num_featuremaps = [16,32,64,128]\n",
    "num_denselayers = [64,32,5]\n",
    "num_classes = 5\n",
    "frames = 15\n",
    "dropout = 0.25\n",
    "num_epochs = 30\n",
    "\n",
    "# increasing batch Size\n",
    "batch_size = 20\n",
    "\n",
    "# Input\n",
    "input_shape=(frames,120,120,3)\n",
    "\n",
    "# Define model\n",
    "mobile_model = mobilenet.MobileNet(weights='imagenet', include_top=False)\n",
    "\n",
    "model = Sequential()\n",
    "model.add(TimeDistributed(mobile_model,input_shape=input_shape))\n",
    "\n",
    "model.add(TimeDistributed(BatchNormalization()))\n",
    "model.add(TimeDistributed(MaxPooling2D((2, 2))))\n",
    "model.add(TimeDistributed(Flatten()))\n",
    "\n",
    "model.add(GRU(64, return_sequences=False))\n",
    "model.add(Dropout(dropout))\n",
    "\n",
    "model.add(Dense(num_denselayers[1],activation='relu'))\n",
    "model.add(Dropout(dropout))\n",
    "\n",
    "# using Softmax as last layer\n",
    "model.add(Dense(num_classes, activation='softmax')) \n"
   ]
  },
  {
   "cell_type": "code",
   "execution_count": null,
   "metadata": {},
   "outputs": [],
   "source": [
    "optimiser = \"Adam\" #write your optimizer\n",
    "model.compile(optimizer=optimiser, loss='categorical_crossentropy', metrics=['categorical_accuracy'])\n",
    "\n",
    "# Model Summary\n",
    "print (model.summary())\n"
   ]
  },
  {
   "cell_type": "code",
   "execution_count": null,
   "metadata": {},
   "outputs": [],
   "source": [
    "print(\"Total Params:\", model.count_params())\n",
    "trained_model_10=train_model(model)"
   ]
  },
  {
   "cell_type": "code",
   "execution_count": null,
   "metadata": {},
   "outputs": [],
   "source": [
    "plot(trained_model_10)"
   ]
  },
  {
   "cell_type": "markdown",
   "metadata": {},
   "source": [
    "# Selected Model\n",
    "\n",
    "* **Train Accuracy** :   |  **Validation Accuracy** : \n",
    "\n",
    "* **Train Loss** :  | **Validation Loss** : "
   ]
  },
  {
   "cell_type": "markdown",
   "metadata": {},
   "source": [
    "### Model 11 : Transfer Learning + mobilenet + dropout + GRU Layer + Increased Batch Size(More)"
   ]
  },
  {
   "cell_type": "code",
   "execution_count": null,
   "metadata": {},
   "outputs": [],
   "source": [
    "num_featuremaps = [16,32,64,128]\n",
    "num_denselayers = [64,32,5]\n",
    "num_classes = 5\n",
    "frames = 15\n",
    "dropout = 0.25\n",
    "num_epochs = 20\n",
    "\n",
    "# increasing batch Size\n",
    "batch_size = 25\n",
    "\n",
    "# Input\n",
    "input_shape=(frames,120,120,3)\n",
    "\n",
    "# Define model\n",
    "mobile_model = mobilenet.MobileNet(weights='imagenet', include_top=False)\n",
    "\n",
    "model = Sequential()\n",
    "model.add(TimeDistributed(mobile_model,input_shape=input_shape))\n",
    "\n",
    "model.add(TimeDistributed(BatchNormalization()))\n",
    "model.add(TimeDistributed(MaxPooling2D((2, 2))))\n",
    "model.add(TimeDistributed(Flatten()))\n",
    "\n",
    "model.add(GRU(64, return_sequences=False))\n",
    "model.add(Dropout(dropout))\n",
    "\n",
    "model.add(Dense(num_denselayers[1],activation='relu'))\n",
    "model.add(Dropout(dropout))\n",
    "\n",
    "# using Softmax as last layer\n",
    "model.add(Dense(num_classes, activation='softmax')) \n"
   ]
  },
  {
   "cell_type": "code",
   "execution_count": null,
   "metadata": {},
   "outputs": [],
   "source": [
    "optimiser = \"Adam\" #write your optimizer\n",
    "model.compile(optimizer=optimiser, loss='categorical_crossentropy', metrics=['categorical_accuracy'])\n",
    "\n",
    "# Model Summary\n",
    "print (model.summary())\n"
   ]
  },
  {
   "cell_type": "code",
   "execution_count": null,
   "metadata": {},
   "outputs": [],
   "source": [
    "print(\"Total Params:\", model.count_params())\n",
    "trained_model_11=train_model(model)"
   ]
  },
  {
   "cell_type": "code",
   "execution_count": null,
   "metadata": {},
   "outputs": [],
   "source": [
    "plot(trained_model_11)"
   ]
  },
  {
   "cell_type": "markdown",
   "metadata": {},
   "source": [
    "> Observation : \n",
    ">> Almost Perfrom Like Last Model, val/ train accuracy is good no overfitting, but till now Model 8 is best"
   ]
  },
  {
   "cell_type": "markdown",
   "metadata": {},
   "source": [
    "We started by building a basic CNN+RNN model without using any dropouts. GRU was selected as it has fewer parameters than LSTM, as it lacks an output gate.\n",
    "\n",
    "• We experimented with different models by using different model configurations and hyperparameters such as introducing dropouts, using L2 regularization in combination with different optimizers.\n",
    "\n",
    "• We also experimented with SGD() and Adam() optimizers but finally used Adam() as it lead to improvement in model’s accuracy. Due to the limited computational capacity we could not experiment with other optimizers such as Adagrad and Adadelta as these take a lot of time to run.\n",
    "\n",
    "• We also played around with different learning rates and ReduceLROnPlateau was used to decrease the learning rate .\n",
    "\n",
    "• To overcome the issue of overfitting we used Batch Normalization, pooling and dropout layers.\n",
    "\n",
    "• Then we used Conv3D and experimented with different model configurations to arrive at the final model."
   ]
  },
  {
   "cell_type": "code",
   "execution_count": null,
   "metadata": {},
   "outputs": [],
   "source": [
    "from tensorflow import keras\n",
    "model = keras.models.load_model()"
   ]
  },
  {
   "cell_type": "code",
   "execution_count": null,
   "metadata": {},
   "outputs": [],
   "source": [
    "model.summary()"
   ]
  },
  {
   "cell_type": "markdown",
   "metadata": {},
   "source": [
    "############################################## END OF PROJECT ##############################################"
   ]
  },
  {
   "cell_type": "code",
   "execution_count": null,
   "metadata": {},
   "outputs": [],
   "source": []
  }
 ],
 "metadata": {
  "kernelspec": {
   "display_name": "Python 3 (ipykernel)",
   "language": "python",
   "name": "python3"
  },
  "language_info": {
   "codemirror_mode": {
    "name": "ipython",
    "version": 3
   },
   "file_extension": ".py",
   "mimetype": "text/x-python",
   "name": "python",
   "nbconvert_exporter": "python",
   "pygments_lexer": "ipython3",
   "version": "3.8.10"
  }
 },
 "nbformat": 4,
 "nbformat_minor": 4
}
